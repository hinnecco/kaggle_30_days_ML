{
 "cells": [
  {
   "cell_type": "markdown",
   "id": "3608fff7",
   "metadata": {
    "papermill": {
     "duration": 0.028917,
     "end_time": "2021-08-04T01:47:25.832417",
     "exception": false,
     "start_time": "2021-08-04T01:47:25.803500",
     "status": "completed"
    },
    "tags": []
   },
   "source": [
    "**This notebook is an exercise in the [Python](https://www.kaggle.com/learn/python) course.  You can reference the tutorial at [this link](https://www.kaggle.com/colinmorris/booleans-and-conditionals).**\n",
    "\n",
    "---\n"
   ]
  },
  {
   "cell_type": "markdown",
   "id": "29272ebd",
   "metadata": {
    "papermill": {
     "duration": 0.027103,
     "end_time": "2021-08-04T01:47:25.887383",
     "exception": false,
     "start_time": "2021-08-04T01:47:25.860280",
     "status": "completed"
    },
    "tags": []
   },
   "source": [
    "In this exercise, you'll put to work what you have learned about booleans and conditionals.\n",
    "\n",
    "To get started, **run the setup code below** before writing your own code (and if you leave this notebook and come back later, don't forget to run the setup code again)."
   ]
  },
  {
   "cell_type": "code",
   "execution_count": 1,
   "id": "c5c2096f",
   "metadata": {
    "execution": {
     "iopub.execute_input": "2021-08-04T01:47:25.956207Z",
     "iopub.status.busy": "2021-08-04T01:47:25.952016Z",
     "iopub.status.idle": "2021-08-04T01:47:26.087412Z",
     "shell.execute_reply": "2021-08-04T01:47:26.087904Z",
     "shell.execute_reply.started": "2021-08-04T01:11:55.115519Z"
    },
    "papermill": {
     "duration": 0.173584,
     "end_time": "2021-08-04T01:47:26.088209",
     "exception": false,
     "start_time": "2021-08-04T01:47:25.914625",
     "status": "completed"
    },
    "tags": []
   },
   "outputs": [
    {
     "name": "stdout",
     "output_type": "stream",
     "text": [
      "Setup complete.\n"
     ]
    }
   ],
   "source": [
    "from learntools.core import binder; binder.bind(globals())\n",
    "from learntools.python.ex3 import *\n",
    "print('Setup complete.')"
   ]
  },
  {
   "cell_type": "markdown",
   "id": "b32d10d7",
   "metadata": {
    "papermill": {
     "duration": 0.028067,
     "end_time": "2021-08-04T01:47:26.144417",
     "exception": false,
     "start_time": "2021-08-04T01:47:26.116350",
     "status": "completed"
    },
    "tags": []
   },
   "source": [
    "# 1.\n",
    "\n",
    "Many programming languages have [`sign`](https://en.wikipedia.org/wiki/Sign_function) available as a built-in function. Python doesn't, but we can define our own!\n",
    "\n",
    "In the cell below, define a function called `sign` which takes a numerical argument and returns -1 if it's negative, 1 if it's positive, and 0 if it's 0."
   ]
  },
  {
   "cell_type": "code",
   "execution_count": 2,
   "id": "c6b4e8a4",
   "metadata": {
    "execution": {
     "iopub.execute_input": "2021-08-04T01:47:26.208178Z",
     "iopub.status.busy": "2021-08-04T01:47:26.207503Z",
     "iopub.status.idle": "2021-08-04T01:47:26.212274Z",
     "shell.execute_reply": "2021-08-04T01:47:26.212762Z",
     "shell.execute_reply.started": "2021-08-04T01:16:40.481781Z"
    },
    "papermill": {
     "duration": 0.040776,
     "end_time": "2021-08-04T01:47:26.212924",
     "exception": false,
     "start_time": "2021-08-04T01:47:26.172148",
     "status": "completed"
    },
    "tags": []
   },
   "outputs": [
    {
     "data": {
      "application/javascript": [
       "parent.postMessage({\"jupyterEvent\": \"custom.exercise_interaction\", \"data\": {\"outcomeType\": 1, \"valueTowardsCompletion\": 0.2, \"interactionType\": 1, \"questionType\": 2, \"questionId\": \"1_SignFunctionProblem\", \"learnToolsVersion\": \"0.3.4\", \"failureMessage\": \"\", \"exceptionClass\": \"\", \"trace\": \"\"}}, \"*\")"
      ],
      "text/plain": [
       "<IPython.core.display.Javascript object>"
      ]
     },
     "metadata": {},
     "output_type": "display_data"
    },
    {
     "data": {
      "text/markdown": [
       "<span style=\"color:#33cc33\">Correct</span>"
      ],
      "text/plain": [
       "Correct"
      ]
     },
     "metadata": {},
     "output_type": "display_data"
    }
   ],
   "source": [
    "# Your code goes here. Define a function called 'sign'\n",
    "def sign(num):\n",
    "    if num == 0:\n",
    "        return 0\n",
    "    elif num > 0:\n",
    "        return 1\n",
    "    else:\n",
    "        return -1\n",
    "\n",
    "# Check your answer\n",
    "q1.check()"
   ]
  },
  {
   "cell_type": "code",
   "execution_count": 3,
   "id": "dd01e74d",
   "metadata": {
    "execution": {
     "iopub.execute_input": "2021-08-04T01:47:26.275449Z",
     "iopub.status.busy": "2021-08-04T01:47:26.274703Z",
     "iopub.status.idle": "2021-08-04T01:47:26.279985Z",
     "shell.execute_reply": "2021-08-04T01:47:26.279426Z"
    },
    "papermill": {
     "duration": 0.038765,
     "end_time": "2021-08-04T01:47:26.280147",
     "exception": false,
     "start_time": "2021-08-04T01:47:26.241382",
     "status": "completed"
    },
    "tags": []
   },
   "outputs": [],
   "source": [
    "#q1.solution()"
   ]
  },
  {
   "cell_type": "markdown",
   "id": "5dda729f",
   "metadata": {
    "papermill": {
     "duration": 0.037412,
     "end_time": "2021-08-04T01:47:26.350498",
     "exception": false,
     "start_time": "2021-08-04T01:47:26.313086",
     "status": "completed"
    },
    "tags": []
   },
   "source": [
    "# 2.\n",
    "\n",
    "We've decided to add \"logging\" to our `to_smash` function from the previous exercise."
   ]
  },
  {
   "cell_type": "code",
   "execution_count": 4,
   "id": "51859483",
   "metadata": {
    "execution": {
     "iopub.execute_input": "2021-08-04T01:47:26.415988Z",
     "iopub.status.busy": "2021-08-04T01:47:26.415344Z",
     "iopub.status.idle": "2021-08-04T01:47:26.422603Z",
     "shell.execute_reply": "2021-08-04T01:47:26.423103Z",
     "shell.execute_reply.started": "2021-08-04T01:17:46.333421Z"
    },
    "papermill": {
     "duration": 0.038994,
     "end_time": "2021-08-04T01:47:26.423271",
     "exception": false,
     "start_time": "2021-08-04T01:47:26.384277",
     "status": "completed"
    },
    "tags": []
   },
   "outputs": [
    {
     "name": "stdout",
     "output_type": "stream",
     "text": [
      "Splitting 91 candies\n"
     ]
    },
    {
     "data": {
      "text/plain": [
       "1"
      ]
     },
     "execution_count": 4,
     "metadata": {},
     "output_type": "execute_result"
    }
   ],
   "source": [
    "def to_smash(total_candies):\n",
    "    \"\"\"Return the number of leftover candies that must be smashed after distributing\n",
    "    the given number of candies evenly between 3 friends.\n",
    "    \n",
    "    >>> to_smash(91)\n",
    "    1\n",
    "    \"\"\"\n",
    "    print(\"Splitting\", total_candies, \"candies\")\n",
    "    return total_candies % 3\n",
    "\n",
    "to_smash(91)"
   ]
  },
  {
   "cell_type": "markdown",
   "id": "f4017210",
   "metadata": {
    "papermill": {
     "duration": 0.029124,
     "end_time": "2021-08-04T01:47:26.482151",
     "exception": false,
     "start_time": "2021-08-04T01:47:26.453027",
     "status": "completed"
    },
    "tags": []
   },
   "source": [
    "What happens if we call it with `total_candies = 1`?"
   ]
  },
  {
   "cell_type": "code",
   "execution_count": 5,
   "id": "8f87ca76",
   "metadata": {
    "execution": {
     "iopub.execute_input": "2021-08-04T01:47:26.544171Z",
     "iopub.status.busy": "2021-08-04T01:47:26.543466Z",
     "iopub.status.idle": "2021-08-04T01:47:26.550316Z",
     "shell.execute_reply": "2021-08-04T01:47:26.549711Z",
     "shell.execute_reply.started": "2021-08-04T01:18:06.154235Z"
    },
    "papermill": {
     "duration": 0.038821,
     "end_time": "2021-08-04T01:47:26.550460",
     "exception": false,
     "start_time": "2021-08-04T01:47:26.511639",
     "status": "completed"
    },
    "tags": []
   },
   "outputs": [
    {
     "name": "stdout",
     "output_type": "stream",
     "text": [
      "Splitting 1 candies\n"
     ]
    },
    {
     "data": {
      "text/plain": [
       "1"
      ]
     },
     "execution_count": 5,
     "metadata": {},
     "output_type": "execute_result"
    }
   ],
   "source": [
    "to_smash(1)"
   ]
  },
  {
   "cell_type": "markdown",
   "id": "7b1db017",
   "metadata": {
    "papermill": {
     "duration": 0.029716,
     "end_time": "2021-08-04T01:47:26.610287",
     "exception": false,
     "start_time": "2021-08-04T01:47:26.580571",
     "status": "completed"
    },
    "tags": []
   },
   "source": [
    "That isn't great grammar!\n",
    "\n",
    "Modify the definition in the cell below to correct the grammar of our print statement. (If there's only one candy, we should use the singular \"candy\" instead of the plural \"candies\")"
   ]
  },
  {
   "cell_type": "code",
   "execution_count": 6,
   "id": "a0a2d4d7",
   "metadata": {
    "execution": {
     "iopub.execute_input": "2021-08-04T01:47:26.678769Z",
     "iopub.status.busy": "2021-08-04T01:47:26.678013Z",
     "iopub.status.idle": "2021-08-04T01:47:26.683429Z",
     "shell.execute_reply": "2021-08-04T01:47:26.682904Z",
     "shell.execute_reply.started": "2021-08-04T01:19:46.532954Z"
    },
    "papermill": {
     "duration": 0.042873,
     "end_time": "2021-08-04T01:47:26.683574",
     "exception": false,
     "start_time": "2021-08-04T01:47:26.640701",
     "status": "completed"
    },
    "tags": []
   },
   "outputs": [
    {
     "name": "stdout",
     "output_type": "stream",
     "text": [
      "Splitting 91 candies\n",
      "Splitting 1 candy\n"
     ]
    },
    {
     "data": {
      "text/plain": [
       "1"
      ]
     },
     "execution_count": 6,
     "metadata": {},
     "output_type": "execute_result"
    }
   ],
   "source": [
    "def to_smash(total_candies):\n",
    "    \"\"\"Return the number of leftover candies that must be smashed after distributing\n",
    "    the given number of candies evenly between 3 friends.\n",
    "    \n",
    "    >>> to_smash(91)\n",
    "    1\n",
    "    \"\"\"\n",
    "    if total_candies == 1:\n",
    "        print(\"Splitting\", total_candies, \"candy\")\n",
    "    else:\n",
    "        print(\"Splitting\", total_candies, \"candies\")\n",
    "    return total_candies % 3\n",
    "\n",
    "to_smash(91)\n",
    "to_smash(1)"
   ]
  },
  {
   "cell_type": "markdown",
   "id": "7d237857",
   "metadata": {
    "papermill": {
     "duration": 0.03055,
     "end_time": "2021-08-04T01:47:26.744902",
     "exception": false,
     "start_time": "2021-08-04T01:47:26.714352",
     "status": "completed"
    },
    "tags": []
   },
   "source": [
    "To get credit for completing this problem, and to see the official answer, run the code cell below."
   ]
  },
  {
   "cell_type": "code",
   "execution_count": 7,
   "id": "dec95b2f",
   "metadata": {
    "execution": {
     "iopub.execute_input": "2021-08-04T01:47:26.809840Z",
     "iopub.status.busy": "2021-08-04T01:47:26.809203Z",
     "iopub.status.idle": "2021-08-04T01:47:26.815017Z",
     "shell.execute_reply": "2021-08-04T01:47:26.815505Z",
     "shell.execute_reply.started": "2021-08-04T01:19:55.277910Z"
    },
    "papermill": {
     "duration": 0.039875,
     "end_time": "2021-08-04T01:47:26.815679",
     "exception": false,
     "start_time": "2021-08-04T01:47:26.775804",
     "status": "completed"
    },
    "tags": []
   },
   "outputs": [
    {
     "data": {
      "application/javascript": [
       "parent.postMessage({\"jupyterEvent\": \"custom.exercise_interaction\", \"data\": {\"interactionType\": 3, \"questionType\": 4, \"questionId\": \"2_PluralizationProblem\", \"learnToolsVersion\": \"0.3.4\", \"valueTowardsCompletion\": 0.0, \"failureMessage\": \"\", \"exceptionClass\": \"\", \"trace\": \"\", \"outcomeType\": 4}}, \"*\")"
      ],
      "text/plain": [
       "<IPython.core.display.Javascript object>"
      ]
     },
     "metadata": {},
     "output_type": "display_data"
    },
    {
     "data": {
      "text/markdown": [
       "<span style=\"color:#33cc99\">Solution:</span> A straightforward (and totally fine) solution is to replace the original `print` call with:\n",
       "\n",
       "```python\n",
       "if total_candies == 1:\n",
       "    print(\"Splitting 1 candy\")\n",
       "else:\n",
       "    print(\"Splitting\", total_candies, \"candies\")\n",
       "```\n",
       "\n",
       "Here's a slightly more succinct solution using a conditional expression:\n",
       "\n",
       "```python\n",
       "print(\"Splitting\", total_candies, \"candy\" if total_candies == 1 else \"candies\")\n",
       "```"
      ],
      "text/plain": [
       "Solution: A straightforward (and totally fine) solution is to replace the original `print` call with:\n",
       "\n",
       "```python\n",
       "if total_candies == 1:\n",
       "    print(\"Splitting 1 candy\")\n",
       "else:\n",
       "    print(\"Splitting\", total_candies, \"candies\")\n",
       "```\n",
       "\n",
       "Here's a slightly more succinct solution using a conditional expression:\n",
       "\n",
       "```python\n",
       "print(\"Splitting\", total_candies, \"candy\" if total_candies == 1 else \"candies\")\n",
       "```"
      ]
     },
     "metadata": {},
     "output_type": "display_data"
    }
   ],
   "source": [
    "# Check your answer (Run this code cell to receive credit!)\n",
    "q2.solution()"
   ]
  },
  {
   "cell_type": "markdown",
   "id": "ff15dd95",
   "metadata": {
    "papermill": {
     "duration": 0.031604,
     "end_time": "2021-08-04T01:47:26.879130",
     "exception": false,
     "start_time": "2021-08-04T01:47:26.847526",
     "status": "completed"
    },
    "tags": []
   },
   "source": [
    "# 3. <span title=\"A bit spicy\" style=\"color: darkgreen \">🌶️</span>\n",
    "\n",
    "In the tutorial, we talked about deciding whether we're prepared for the weather. I said that I'm safe from today's weather if...\n",
    "- I have an umbrella...\n",
    "- or if the rain isn't too heavy and I have a hood...\n",
    "- otherwise, I'm still fine unless it's raining *and* it's a workday\n",
    "\n",
    "The function below uses our first attempt at turning this logic into a Python expression. I claimed that there was a bug in that code. Can you find it?\n",
    "\n",
    "To prove that `prepared_for_weather` is buggy, come up with a set of inputs where either:\n",
    "- the function returns `False` (but should have returned `True`), or\n",
    "- the function returned `True` (but should have returned `False`).\n",
    "\n",
    "To get credit for completing this question, your code should return a <font color='#33cc33'>Correct</font> result."
   ]
  },
  {
   "cell_type": "code",
   "execution_count": 8,
   "id": "d4f26c0e",
   "metadata": {
    "execution": {
     "iopub.execute_input": "2021-08-04T01:47:26.946270Z",
     "iopub.status.busy": "2021-08-04T01:47:26.945513Z",
     "iopub.status.idle": "2021-08-04T01:47:26.957097Z",
     "shell.execute_reply": "2021-08-04T01:47:26.956524Z",
     "shell.execute_reply.started": "2021-08-04T01:26:46.877226Z"
    },
    "papermill": {
     "duration": 0.046253,
     "end_time": "2021-08-04T01:47:26.957236",
     "exception": false,
     "start_time": "2021-08-04T01:47:26.910983",
     "status": "completed"
    },
    "tags": []
   },
   "outputs": [
    {
     "name": "stdout",
     "output_type": "stream",
     "text": [
      "False\n"
     ]
    },
    {
     "data": {
      "application/javascript": [
       "parent.postMessage({\"jupyterEvent\": \"custom.exercise_interaction\", \"data\": {\"outcomeType\": 1, \"valueTowardsCompletion\": 0.2, \"interactionType\": 1, \"questionType\": 1, \"questionId\": \"3_WeatherDebug\", \"learnToolsVersion\": \"0.3.4\", \"failureMessage\": \"\", \"exceptionClass\": \"\", \"trace\": \"\"}}, \"*\")"
      ],
      "text/plain": [
       "<IPython.core.display.Javascript object>"
      ]
     },
     "metadata": {},
     "output_type": "display_data"
    },
    {
     "data": {
      "text/markdown": [
       "<span style=\"color:#33cc33\">Correct:</span> \n",
       "\n",
       "One example of a failing test case is:\n",
       "\n",
       "```python\n",
       "have_umbrella = False\n",
       "rain_level = 0.0\n",
       "have_hood = False\n",
       "is_workday = False\n",
       "```\n",
       "\n",
       "Clearly we're prepared for the weather in this case. It's not raining. Not only that, it's not a workday, so we don't even need to leave the house! But our function will return False on these inputs.\n",
       "\n",
       "The key problem is that Python implictly parenthesizes the last part as:\n",
       "\n",
       "```python\n",
       "(not (rain_level > 0)) and is_workday\n",
       "```\n",
       "\n",
       "Whereas what we were trying to express would look more like:\n",
       "\n",
       "```python\n",
       "not (rain_level > 0 and is_workday)\n",
       "```\n"
      ],
      "text/plain": [
       "Correct: \n",
       "\n",
       "One example of a failing test case is:\n",
       "\n",
       "```python\n",
       "have_umbrella = False\n",
       "rain_level = 0.0\n",
       "have_hood = False\n",
       "is_workday = False\n",
       "```\n",
       "\n",
       "Clearly we're prepared for the weather in this case. It's not raining. Not only that, it's not a workday, so we don't even need to leave the house! But our function will return False on these inputs.\n",
       "\n",
       "The key problem is that Python implictly parenthesizes the last part as:\n",
       "\n",
       "```python\n",
       "(not (rain_level > 0)) and is_workday\n",
       "```\n",
       "\n",
       "Whereas what we were trying to express would look more like:\n",
       "\n",
       "```python\n",
       "not (rain_level > 0 and is_workday)\n",
       "```"
      ]
     },
     "metadata": {},
     "output_type": "display_data"
    }
   ],
   "source": [
    "def prepared_for_weather(have_umbrella, rain_level, have_hood, is_workday):\n",
    "    # Don't change this code. Our goal is just to find the bug, not fix it!\n",
    "    return have_umbrella or rain_level < 5 and have_hood or not rain_level > 0 and is_workday\n",
    "\n",
    "# Change the values of these inputs so they represent a case where prepared_for_weather\n",
    "# returns the wrong answer.\n",
    "have_umbrella = False\n",
    "rain_level = 10.0\n",
    "have_hood = True\n",
    "is_workday = False\n",
    "\n",
    "# Check what the function returns given the current values of the variables above\n",
    "actual = prepared_for_weather(have_umbrella, rain_level, have_hood, is_workday)\n",
    "print(actual)\n",
    "\n",
    "# Check your answer\n",
    "q3.check()"
   ]
  },
  {
   "cell_type": "code",
   "execution_count": 9,
   "id": "9200a547",
   "metadata": {
    "execution": {
     "iopub.execute_input": "2021-08-04T01:47:27.028644Z",
     "iopub.status.busy": "2021-08-04T01:47:27.028020Z",
     "iopub.status.idle": "2021-08-04T01:47:27.031356Z",
     "shell.execute_reply": "2021-08-04T01:47:27.030807Z"
    },
    "papermill": {
     "duration": 0.040709,
     "end_time": "2021-08-04T01:47:27.031494",
     "exception": false,
     "start_time": "2021-08-04T01:47:26.990785",
     "status": "completed"
    },
    "tags": []
   },
   "outputs": [],
   "source": [
    "#q3.hint()\n",
    "#q3.solution()"
   ]
  },
  {
   "cell_type": "markdown",
   "id": "aae4a9df",
   "metadata": {
    "papermill": {
     "duration": 0.033626,
     "end_time": "2021-08-04T01:47:27.098920",
     "exception": false,
     "start_time": "2021-08-04T01:47:27.065294",
     "status": "completed"
    },
    "tags": []
   },
   "source": [
    "# 4.\n",
    "\n",
    "The function `is_negative` below is implemented correctly - it returns True if the given number is negative and False otherwise.\n",
    "\n",
    "However, it's more verbose than it needs to be. We can actually reduce the number of lines of code in this function by *75%* while keeping the same behaviour. \n",
    "\n",
    "See if you can come up with an equivalent body that uses just **one line** of code, and put it in the function `concise_is_negative`. (HINT: you don't even need Python's ternary syntax)"
   ]
  },
  {
   "cell_type": "code",
   "execution_count": 10,
   "id": "ed237561",
   "metadata": {
    "execution": {
     "iopub.execute_input": "2021-08-04T01:47:27.171877Z",
     "iopub.status.busy": "2021-08-04T01:47:27.171191Z",
     "iopub.status.idle": "2021-08-04T01:47:27.177116Z",
     "shell.execute_reply": "2021-08-04T01:47:27.176546Z",
     "shell.execute_reply.started": "2021-08-04T01:28:32.556196Z"
    },
    "papermill": {
     "duration": 0.045032,
     "end_time": "2021-08-04T01:47:27.177258",
     "exception": false,
     "start_time": "2021-08-04T01:47:27.132226",
     "status": "completed"
    },
    "tags": []
   },
   "outputs": [
    {
     "data": {
      "application/javascript": [
       "parent.postMessage({\"jupyterEvent\": \"custom.exercise_interaction\", \"data\": {\"outcomeType\": 1, \"valueTowardsCompletion\": 0.2, \"interactionType\": 1, \"questionType\": 2, \"questionId\": \"4_ConciseIsNegative\", \"learnToolsVersion\": \"0.3.4\", \"failureMessage\": \"\", \"exceptionClass\": \"\", \"trace\": \"\"}}, \"*\")"
      ],
      "text/plain": [
       "<IPython.core.display.Javascript object>"
      ]
     },
     "metadata": {},
     "output_type": "display_data"
    },
    {
     "data": {
      "text/markdown": [
       "<span style=\"color:#33cc33\">Correct</span>"
      ],
      "text/plain": [
       "Correct"
      ]
     },
     "metadata": {},
     "output_type": "display_data"
    }
   ],
   "source": [
    "def is_negative(number):\n",
    "    if number < 0:\n",
    "        return True\n",
    "    else:\n",
    "        return False\n",
    "\n",
    "def concise_is_negative(number):\n",
    "    return number < 0 \n",
    "# Your code goes here (try to keep it to one line!)\n",
    "\n",
    "# Check your answer\n",
    "q4.check()"
   ]
  },
  {
   "cell_type": "code",
   "execution_count": 11,
   "id": "28ae8376",
   "metadata": {
    "execution": {
     "iopub.execute_input": "2021-08-04T01:47:27.249914Z",
     "iopub.status.busy": "2021-08-04T01:47:27.249279Z",
     "iopub.status.idle": "2021-08-04T01:47:27.252346Z",
     "shell.execute_reply": "2021-08-04T01:47:27.251740Z"
    },
    "papermill": {
     "duration": 0.041047,
     "end_time": "2021-08-04T01:47:27.252479",
     "exception": false,
     "start_time": "2021-08-04T01:47:27.211432",
     "status": "completed"
    },
    "tags": []
   },
   "outputs": [],
   "source": [
    "#q4.hint()\n",
    "#q4.solution()"
   ]
  },
  {
   "cell_type": "markdown",
   "id": "d8d30ecc",
   "metadata": {
    "papermill": {
     "duration": 0.034269,
     "end_time": "2021-08-04T01:47:27.321181",
     "exception": false,
     "start_time": "2021-08-04T01:47:27.286912",
     "status": "completed"
    },
    "tags": []
   },
   "source": [
    "# 5a.\n",
    "\n",
    "The boolean variables `ketchup`, `mustard` and `onion` represent whether a customer wants a particular topping on their hot dog. We want to implement a number of boolean functions that correspond to some yes-or-no questions about the customer's order. For example:"
   ]
  },
  {
   "cell_type": "code",
   "execution_count": 12,
   "id": "479d0cc3",
   "metadata": {
    "execution": {
     "iopub.execute_input": "2021-08-04T01:47:27.395283Z",
     "iopub.status.busy": "2021-08-04T01:47:27.394602Z",
     "iopub.status.idle": "2021-08-04T01:47:27.397074Z",
     "shell.execute_reply": "2021-08-04T01:47:27.397520Z",
     "shell.execute_reply.started": "2021-08-04T01:29:09.144934Z"
    },
    "papermill": {
     "duration": 0.041855,
     "end_time": "2021-08-04T01:47:27.397686",
     "exception": false,
     "start_time": "2021-08-04T01:47:27.355831",
     "status": "completed"
    },
    "tags": []
   },
   "outputs": [],
   "source": [
    "def onionless(ketchup, mustard, onion):\n",
    "    \"\"\"Return whether the customer doesn't want onions.\n",
    "    \"\"\"\n",
    "    return not onion"
   ]
  },
  {
   "cell_type": "code",
   "execution_count": 13,
   "id": "40864d1a",
   "metadata": {
    "execution": {
     "iopub.execute_input": "2021-08-04T01:47:27.473166Z",
     "iopub.status.busy": "2021-08-04T01:47:27.472471Z",
     "iopub.status.idle": "2021-08-04T01:47:27.477523Z",
     "shell.execute_reply": "2021-08-04T01:47:27.476993Z",
     "shell.execute_reply.started": "2021-08-04T01:29:44.584974Z"
    },
    "papermill": {
     "duration": 0.044672,
     "end_time": "2021-08-04T01:47:27.477669",
     "exception": false,
     "start_time": "2021-08-04T01:47:27.432997",
     "status": "completed"
    },
    "tags": []
   },
   "outputs": [
    {
     "data": {
      "application/javascript": [
       "parent.postMessage({\"jupyterEvent\": \"custom.exercise_interaction\", \"data\": {\"outcomeType\": 1, \"valueTowardsCompletion\": 0.2, \"interactionType\": 1, \"questionType\": 2, \"questionId\": \"5.1_AllToppings\", \"learnToolsVersion\": \"0.3.4\", \"failureMessage\": \"\", \"exceptionClass\": \"\", \"trace\": \"\"}}, \"*\")"
      ],
      "text/plain": [
       "<IPython.core.display.Javascript object>"
      ]
     },
     "metadata": {},
     "output_type": "display_data"
    },
    {
     "data": {
      "text/markdown": [
       "<span style=\"color:#33cc33\">Correct</span>"
      ],
      "text/plain": [
       "Correct"
      ]
     },
     "metadata": {},
     "output_type": "display_data"
    }
   ],
   "source": [
    "def wants_all_toppings(ketchup, mustard, onion):\n",
    "    \"\"\"Return whether the customer wants \"the works\" (all 3 toppings)\n",
    "    \"\"\"\n",
    "    return ketchup and mustard and onion\n",
    "\n",
    "# Check your answer\n",
    "q5.a.check()"
   ]
  },
  {
   "cell_type": "code",
   "execution_count": 14,
   "id": "d0684db6",
   "metadata": {
    "execution": {
     "iopub.execute_input": "2021-08-04T01:47:27.552971Z",
     "iopub.status.busy": "2021-08-04T01:47:27.552286Z",
     "iopub.status.idle": "2021-08-04T01:47:27.555133Z",
     "shell.execute_reply": "2021-08-04T01:47:27.554504Z"
    },
    "papermill": {
     "duration": 0.041723,
     "end_time": "2021-08-04T01:47:27.555269",
     "exception": false,
     "start_time": "2021-08-04T01:47:27.513546",
     "status": "completed"
    },
    "tags": []
   },
   "outputs": [],
   "source": [
    "#q5.a.hint()\n",
    "#q5.a.solution()"
   ]
  },
  {
   "cell_type": "markdown",
   "id": "56bb6a7d",
   "metadata": {
    "papermill": {
     "duration": 0.035309,
     "end_time": "2021-08-04T01:47:27.626458",
     "exception": false,
     "start_time": "2021-08-04T01:47:27.591149",
     "status": "completed"
    },
    "tags": []
   },
   "source": [
    "# 5b.\n",
    "\n",
    "For the next function, fill in the body to match the English description in the docstring. "
   ]
  },
  {
   "cell_type": "code",
   "execution_count": 15,
   "id": "9cb176ed",
   "metadata": {
    "execution": {
     "iopub.execute_input": "2021-08-04T01:47:27.701171Z",
     "iopub.status.busy": "2021-08-04T01:47:27.700509Z",
     "iopub.status.idle": "2021-08-04T01:47:27.707729Z",
     "shell.execute_reply": "2021-08-04T01:47:27.708206Z",
     "shell.execute_reply.started": "2021-08-04T01:31:14.370288Z"
    },
    "papermill": {
     "duration": 0.046207,
     "end_time": "2021-08-04T01:47:27.708370",
     "exception": false,
     "start_time": "2021-08-04T01:47:27.662163",
     "status": "completed"
    },
    "tags": []
   },
   "outputs": [
    {
     "data": {
      "application/javascript": [
       "parent.postMessage({\"jupyterEvent\": \"custom.exercise_interaction\", \"data\": {\"outcomeType\": 1, \"valueTowardsCompletion\": 0.2, \"interactionType\": 1, \"questionType\": 2, \"questionId\": \"5.2_PlainDog\", \"learnToolsVersion\": \"0.3.4\", \"failureMessage\": \"\", \"exceptionClass\": \"\", \"trace\": \"\"}}, \"*\")"
      ],
      "text/plain": [
       "<IPython.core.display.Javascript object>"
      ]
     },
     "metadata": {},
     "output_type": "display_data"
    },
    {
     "data": {
      "text/markdown": [
       "<span style=\"color:#33cc33\">Correct:</span> \n",
       "\n",
       "One solution looks like:\n",
       "```python\n",
       "return not ketchup and not mustard and not onion\n",
       "```\n",
       "\n",
       "We can also [\"factor out\" the nots](https://en.wikipedia.org/wiki/De_Morgan%27s_laws) to get:\n",
       "\n",
       "```python\n",
       "return not (ketchup or mustard or onion)\n",
       "```"
      ],
      "text/plain": [
       "Correct: \n",
       "\n",
       "One solution looks like:\n",
       "```python\n",
       "return not ketchup and not mustard and not onion\n",
       "```\n",
       "\n",
       "We can also [\"factor out\" the nots](https://en.wikipedia.org/wiki/De_Morgan%27s_laws) to get:\n",
       "\n",
       "```python\n",
       "return not (ketchup or mustard or onion)\n",
       "```"
      ]
     },
     "metadata": {},
     "output_type": "display_data"
    }
   ],
   "source": [
    "def wants_plain_hotdog(ketchup, mustard, onion):\n",
    "    \"\"\"Return whether the customer wants a plain hot dog with no toppings.\n",
    "    \"\"\"\n",
    "    return  not (ketchup or mustard or onion)\n",
    "\n",
    "# Check your answer\n",
    "q5.b.check()"
   ]
  },
  {
   "cell_type": "code",
   "execution_count": 16,
   "id": "3ed41844",
   "metadata": {
    "execution": {
     "iopub.execute_input": "2021-08-04T01:47:27.784766Z",
     "iopub.status.busy": "2021-08-04T01:47:27.784082Z",
     "iopub.status.idle": "2021-08-04T01:47:27.786994Z",
     "shell.execute_reply": "2021-08-04T01:47:27.787512Z"
    },
    "papermill": {
     "duration": 0.042771,
     "end_time": "2021-08-04T01:47:27.787673",
     "exception": false,
     "start_time": "2021-08-04T01:47:27.744902",
     "status": "completed"
    },
    "tags": []
   },
   "outputs": [],
   "source": [
    "#q5.b.hint()\n",
    "#q5.b.solution()"
   ]
  },
  {
   "cell_type": "markdown",
   "id": "9fb8c846",
   "metadata": {
    "papermill": {
     "duration": 0.03711,
     "end_time": "2021-08-04T01:47:27.862075",
     "exception": false,
     "start_time": "2021-08-04T01:47:27.824965",
     "status": "completed"
    },
    "tags": []
   },
   "source": [
    "# 5c.\n",
    "\n",
    "You know what to do: for the next function, fill in the body to match the English description in the docstring."
   ]
  },
  {
   "cell_type": "code",
   "execution_count": 17,
   "id": "d9c366ce",
   "metadata": {
    "execution": {
     "iopub.execute_input": "2021-08-04T01:47:27.938688Z",
     "iopub.status.busy": "2021-08-04T01:47:27.938040Z",
     "iopub.status.idle": "2021-08-04T01:47:27.944844Z",
     "shell.execute_reply": "2021-08-04T01:47:27.945307Z",
     "shell.execute_reply.started": "2021-08-04T01:43:05.866489Z"
    },
    "papermill": {
     "duration": 0.046616,
     "end_time": "2021-08-04T01:47:27.945476",
     "exception": false,
     "start_time": "2021-08-04T01:47:27.898860",
     "status": "completed"
    },
    "tags": []
   },
   "outputs": [
    {
     "data": {
      "application/javascript": [
       "parent.postMessage({\"jupyterEvent\": \"custom.exercise_interaction\", \"data\": {\"outcomeType\": 1, \"valueTowardsCompletion\": 0.2, \"interactionType\": 1, \"questionType\": 2, \"questionId\": \"5.3_OneSauce\", \"learnToolsVersion\": \"0.3.4\", \"failureMessage\": \"\", \"exceptionClass\": \"\", \"trace\": \"\"}}, \"*\")"
      ],
      "text/plain": [
       "<IPython.core.display.Javascript object>"
      ]
     },
     "metadata": {},
     "output_type": "display_data"
    },
    {
     "data": {
      "text/markdown": [
       "<span style=\"color:#33cc33\">Correct</span>"
      ],
      "text/plain": [
       "Correct"
      ]
     },
     "metadata": {},
     "output_type": "display_data"
    }
   ],
   "source": [
    "def exactly_one_sauce(ketchup, mustard, onion):\n",
    "    \"\"\"Return whether the customer wants either ketchup or mustard, but not both.\n",
    "    (You may be familiar with this operation under the name \"exclusive or\")\n",
    "    \"\"\"\n",
    "    return ((ketchup or mustard) and (not(ketchup and mustard)))\n",
    "    \n",
    "\n",
    "# Check your answer\n",
    "q5.c.check()"
   ]
  },
  {
   "cell_type": "code",
   "execution_count": 18,
   "id": "2c74fdf6",
   "metadata": {
    "execution": {
     "iopub.execute_input": "2021-08-04T01:47:28.024900Z",
     "iopub.status.busy": "2021-08-04T01:47:28.024259Z",
     "iopub.status.idle": "2021-08-04T01:47:28.028353Z",
     "shell.execute_reply": "2021-08-04T01:47:28.027666Z",
     "shell.execute_reply.started": "2021-08-04T01:33:00.063020Z"
    },
    "papermill": {
     "duration": 0.044994,
     "end_time": "2021-08-04T01:47:28.028532",
     "exception": false,
     "start_time": "2021-08-04T01:47:27.983538",
     "status": "completed"
    },
    "tags": []
   },
   "outputs": [],
   "source": [
    "#q5.c.hint()\n",
    "#q5.c.solution()"
   ]
  },
  {
   "cell_type": "markdown",
   "id": "b0386eea",
   "metadata": {
    "papermill": {
     "duration": 0.037728,
     "end_time": "2021-08-04T01:47:28.104579",
     "exception": false,
     "start_time": "2021-08-04T01:47:28.066851",
     "status": "completed"
    },
    "tags": []
   },
   "source": [
    "# 6. <span title=\"A bit spicy\" style=\"color: darkgreen \">🌶️</span>\n",
    "\n",
    "We’ve seen that calling `bool()` on an integer returns `False` if it’s equal to 0 and `True` otherwise. What happens if we call `int()` on a bool? Try it out in the notebook cell below.\n",
    "\n",
    "Can you take advantage of this to write a succinct function that corresponds to the English sentence \"does the customer want exactly one topping?\"?"
   ]
  },
  {
   "cell_type": "code",
   "execution_count": 19,
   "id": "0bae2d56",
   "metadata": {
    "execution": {
     "iopub.execute_input": "2021-08-04T01:47:28.186793Z",
     "iopub.status.busy": "2021-08-04T01:47:28.185787Z",
     "iopub.status.idle": "2021-08-04T01:47:28.192614Z",
     "shell.execute_reply": "2021-08-04T01:47:28.192012Z",
     "shell.execute_reply.started": "2021-08-04T01:45:37.476835Z"
    },
    "papermill": {
     "duration": 0.050342,
     "end_time": "2021-08-04T01:47:28.192777",
     "exception": false,
     "start_time": "2021-08-04T01:47:28.142435",
     "status": "completed"
    },
    "tags": []
   },
   "outputs": [
    {
     "data": {
      "application/javascript": [
       "parent.postMessage({\"jupyterEvent\": \"custom.exercise_interaction\", \"data\": {\"outcomeType\": 1, \"valueTowardsCompletion\": 0.2, \"interactionType\": 1, \"questionType\": 2, \"questionId\": \"6_OneTopping\", \"learnToolsVersion\": \"0.3.4\", \"failureMessage\": \"\", \"exceptionClass\": \"\", \"trace\": \"\"}}, \"*\")"
      ],
      "text/plain": [
       "<IPython.core.display.Javascript object>"
      ]
     },
     "metadata": {},
     "output_type": "display_data"
    },
    {
     "data": {
      "text/markdown": [
       "<span style=\"color:#33cc33\">Correct:</span> \n",
       "\n",
       "This condition would be pretty complicated to express using just `and`, `or` and `not`, but using boolean-to-integer conversion gives us this short solution:\n",
       "```python\n",
       "return (int(ketchup) + int(mustard) + int(onion)) == 1\n",
       "```\n",
       "\n",
       "Fun fact: we don't technically need to call `int` on the arguments. Just by doing addition with booleans, Python implicitly does the integer conversion. So we could also write...\n",
       "\n",
       "```python\n",
       "return (ketchup + mustard + onion) == 1\n",
       "```"
      ],
      "text/plain": [
       "Correct: \n",
       "\n",
       "This condition would be pretty complicated to express using just `and`, `or` and `not`, but using boolean-to-integer conversion gives us this short solution:\n",
       "```python\n",
       "return (int(ketchup) + int(mustard) + int(onion)) == 1\n",
       "```\n",
       "\n",
       "Fun fact: we don't technically need to call `int` on the arguments. Just by doing addition with booleans, Python implicitly does the integer conversion. So we could also write...\n",
       "\n",
       "```python\n",
       "return (ketchup + mustard + onion) == 1\n",
       "```"
      ]
     },
     "metadata": {},
     "output_type": "display_data"
    }
   ],
   "source": [
    "def exactly_one_topping(ketchup, mustard, onion):\n",
    "    \"\"\"Return whether the customer wants exactly one of the three available toppings\n",
    "    on their hot dog.\n",
    "    \"\"\"\n",
    "    return (int(ketchup)+int(mustard)+int(onion)) ==1\n",
    "\n",
    "# Check your answer\n",
    "q6.check()"
   ]
  },
  {
   "cell_type": "code",
   "execution_count": 20,
   "id": "562ab863",
   "metadata": {
    "execution": {
     "iopub.execute_input": "2021-08-04T01:47:28.275309Z",
     "iopub.status.busy": "2021-08-04T01:47:28.274621Z",
     "iopub.status.idle": "2021-08-04T01:47:28.277754Z",
     "shell.execute_reply": "2021-08-04T01:47:28.278283Z"
    },
    "papermill": {
     "duration": 0.045927,
     "end_time": "2021-08-04T01:47:28.278460",
     "exception": false,
     "start_time": "2021-08-04T01:47:28.232533",
     "status": "completed"
    },
    "tags": []
   },
   "outputs": [],
   "source": [
    "#q6.hint()\n",
    "#q6.solution()"
   ]
  },
  {
   "cell_type": "markdown",
   "id": "7d2970d9",
   "metadata": {
    "papermill": {
     "duration": 0.038984,
     "end_time": "2021-08-04T01:47:28.356820",
     "exception": false,
     "start_time": "2021-08-04T01:47:28.317836",
     "status": "completed"
    },
    "tags": []
   },
   "source": [
    "# 7. <span title=\"A bit spicy\" style=\"color: darkgreen \">🌶️</span> (Optional)\n",
    "\n",
    "In this problem we'll be working with a simplified version of [blackjack](https://en.wikipedia.org/wiki/Blackjack) (aka twenty-one). In this version there is one player (who you'll control) and a dealer. Play proceeds as follows:\n",
    "\n",
    "- The player is dealt two face-up cards. The dealer is dealt one face-up card.\n",
    "- The player may ask to be dealt another card ('hit') as many times as they wish. If the sum of their cards exceeds 21, they lose the round immediately.\n",
    "- The dealer then deals additional cards to himself until either:\n",
    "    - the sum of the dealer's cards exceeds 21, in which case the player wins the round\n",
    "    - the sum of the dealer's cards is greater than or equal to 17. If the player's total is greater than the dealer's, the player wins. Otherwise, the dealer wins (even in case of a tie).\n",
    "    \n",
    "When calculating the sum of cards, Jack, Queen, and King count for 10. Aces can count as 1 or 11 (when referring to a player's \"total\" above, we mean the largest total that can be made without exceeding 21. So e.g. A+8 = 19, A+8+8 = 17)\n",
    "\n",
    "For this problem, you'll write a function representing the player's decision-making strategy in this game. We've provided a very unintelligent implementation below:"
   ]
  },
  {
   "cell_type": "code",
   "execution_count": 21,
   "id": "5a04ff19",
   "metadata": {
    "execution": {
     "iopub.execute_input": "2021-08-04T01:47:28.439691Z",
     "iopub.status.busy": "2021-08-04T01:47:28.439005Z",
     "iopub.status.idle": "2021-08-04T01:47:28.443242Z",
     "shell.execute_reply": "2021-08-04T01:47:28.443790Z"
    },
    "papermill": {
     "duration": 0.047791,
     "end_time": "2021-08-04T01:47:28.443981",
     "exception": false,
     "start_time": "2021-08-04T01:47:28.396190",
     "status": "completed"
    },
    "tags": []
   },
   "outputs": [],
   "source": [
    "def should_hit(dealer_total, player_total, player_low_aces, player_high_aces):\n",
    "    \"\"\"Return True if the player should hit (request another card) given the current game\n",
    "    state, or False if the player should stay.\n",
    "    When calculating a hand's total value, we count aces as \"high\" (with value 11) if doing so\n",
    "    doesn't bring the total above 21, otherwise we count them as low (with value 1). \n",
    "    For example, if the player's hand is {A, A, A, 7}, we will count it as 11 + 1 + 1 + 7,\n",
    "    and therefore set player_total=20, player_low_aces=2, player_high_aces=1.\n",
    "    \"\"\"\n",
    "    return False"
   ]
  },
  {
   "cell_type": "markdown",
   "id": "e6f13c31",
   "metadata": {
    "papermill": {
     "duration": 0.038699,
     "end_time": "2021-08-04T01:47:28.521752",
     "exception": false,
     "start_time": "2021-08-04T01:47:28.483053",
     "status": "completed"
    },
    "tags": []
   },
   "source": [
    "This very conservative agent *always* sticks with the hand of two cards that they're dealt.\n",
    "\n",
    "We'll be simulating games between your player agent and our own dealer agent by calling your function.\n",
    "\n",
    "Try running the function below to see an example of a simulated game:"
   ]
  },
  {
   "cell_type": "code",
   "execution_count": 22,
   "id": "f574b83a",
   "metadata": {
    "execution": {
     "iopub.execute_input": "2021-08-04T01:47:28.602834Z",
     "iopub.status.busy": "2021-08-04T01:47:28.602178Z",
     "iopub.status.idle": "2021-08-04T01:47:28.607697Z",
     "shell.execute_reply": "2021-08-04T01:47:28.608264Z"
    },
    "papermill": {
     "duration": 0.047641,
     "end_time": "2021-08-04T01:47:28.608437",
     "exception": false,
     "start_time": "2021-08-04T01:47:28.560796",
     "status": "completed"
    },
    "tags": []
   },
   "outputs": [
    {
     "name": "stdout",
     "output_type": "stream",
     "text": [
      "Player starts with 3 and 9 (total = 12)\n",
      "Dealer starts with 4\n",
      "\n",
      "__Player's turn__\n",
      "Player stays\n",
      "\n",
      "__Dealer's turn__\n",
      "Dealer hits and receives J. (total = 14)\n",
      "Dealer hits and receives J. (total = 24)\n",
      "Dealer busts! Player wins.\n"
     ]
    }
   ],
   "source": [
    "q7.simulate_one_game()"
   ]
  },
  {
   "cell_type": "markdown",
   "id": "e7c01dd3",
   "metadata": {
    "papermill": {
     "duration": 0.039105,
     "end_time": "2021-08-04T01:47:28.687195",
     "exception": false,
     "start_time": "2021-08-04T01:47:28.648090",
     "status": "completed"
    },
    "tags": []
   },
   "source": [
    "The real test of your agent's mettle is their average win rate over many games. Try calling the function below to simulate 50000 games of blackjack (it may take a couple seconds):"
   ]
  },
  {
   "cell_type": "code",
   "execution_count": 23,
   "id": "e8f97284",
   "metadata": {
    "execution": {
     "iopub.execute_input": "2021-08-04T01:47:28.769233Z",
     "iopub.status.busy": "2021-08-04T01:47:28.768545Z",
     "iopub.status.idle": "2021-08-04T01:47:30.729089Z",
     "shell.execute_reply": "2021-08-04T01:47:30.729571Z"
    },
    "papermill": {
     "duration": 2.003123,
     "end_time": "2021-08-04T01:47:30.729770",
     "exception": false,
     "start_time": "2021-08-04T01:47:28.726647",
     "status": "completed"
    },
    "tags": []
   },
   "outputs": [
    {
     "name": "stdout",
     "output_type": "stream",
     "text": [
      "Player won 19205 out of 50000 games (win rate = 38.4%)\n"
     ]
    }
   ],
   "source": [
    "q7.simulate(n_games=50000)"
   ]
  },
  {
   "cell_type": "markdown",
   "id": "894f2865",
   "metadata": {
    "papermill": {
     "duration": 0.039669,
     "end_time": "2021-08-04T01:47:30.809320",
     "exception": false,
     "start_time": "2021-08-04T01:47:30.769651",
     "status": "completed"
    },
    "tags": []
   },
   "source": [
    "Our dumb agent that completely ignores the game state still manages to win shockingly often!\n",
    "\n",
    "Try adding some more smarts to the `should_hit` function and see how it affects the results."
   ]
  },
  {
   "cell_type": "code",
   "execution_count": 24,
   "id": "937fe4fe",
   "metadata": {
    "execution": {
     "iopub.execute_input": "2021-08-04T01:47:30.919353Z",
     "iopub.status.busy": "2021-08-04T01:47:30.914168Z",
     "iopub.status.idle": "2021-08-04T01:47:32.862388Z",
     "shell.execute_reply": "2021-08-04T01:47:32.861592Z"
    },
    "papermill": {
     "duration": 2.013097,
     "end_time": "2021-08-04T01:47:32.862584",
     "exception": false,
     "start_time": "2021-08-04T01:47:30.849487",
     "status": "completed"
    },
    "tags": []
   },
   "outputs": [
    {
     "name": "stdout",
     "output_type": "stream",
     "text": [
      "Player won 18957 out of 50000 games (win rate = 37.9%)\n"
     ]
    }
   ],
   "source": [
    "def should_hit(dealer_total, player_total, player_low_aces, player_high_aces):\n",
    "    \"\"\"Return True if the player should hit (request another card) given the current game\n",
    "    state, or False if the player should stay.\n",
    "    When calculating a hand's total value, we count aces as \"high\" (with value 11) if doing so\n",
    "    doesn't bring the total above 21, otherwise we count them as low (with value 1). \n",
    "    For example, if the player's hand is {A, A, A, 7}, we will count it as 11 + 1 + 1 + 7,\n",
    "    and therefore set player_total=20, player_low_aces=2, player_high_aces=1.\n",
    "    \"\"\"\n",
    "    return False\n",
    "\n",
    "q7.simulate(n_games=50000)"
   ]
  },
  {
   "cell_type": "markdown",
   "id": "3e50b9e4",
   "metadata": {
    "papermill": {
     "duration": 0.040994,
     "end_time": "2021-08-04T01:47:32.944657",
     "exception": false,
     "start_time": "2021-08-04T01:47:32.903663",
     "status": "completed"
    },
    "tags": []
   },
   "source": [
    "# Keep Going\n",
    "\n",
    "Learn about **[lists and tuples](https://www.kaggle.com/colinmorris/lists)** to handle multiple items of data in a systematic way."
   ]
  },
  {
   "cell_type": "markdown",
   "id": "cbff71a8",
   "metadata": {
    "papermill": {
     "duration": 0.040595,
     "end_time": "2021-08-04T01:47:33.026837",
     "exception": false,
     "start_time": "2021-08-04T01:47:32.986242",
     "status": "completed"
    },
    "tags": []
   },
   "source": [
    "---\n",
    "\n",
    "\n",
    "\n",
    "\n",
    "*Have questions or comments? Visit the [Learn Discussion forum](https://www.kaggle.com/learn-forum/161283) to chat with other Learners.*"
   ]
  }
 ],
 "metadata": {
  "kernelspec": {
   "display_name": "Python 3",
   "language": "python",
   "name": "python3"
  },
  "language_info": {
   "codemirror_mode": {
    "name": "ipython",
    "version": 3
   },
   "file_extension": ".py",
   "mimetype": "text/x-python",
   "name": "python",
   "nbconvert_exporter": "python",
   "pygments_lexer": "ipython3",
   "version": "3.7.10"
  },
  "papermill": {
   "default_parameters": {},
   "duration": 16.872133,
   "end_time": "2021-08-04T01:47:34.436516",
   "environment_variables": {},
   "exception": null,
   "input_path": "__notebook__.ipynb",
   "output_path": "__notebook__.ipynb",
   "parameters": {},
   "start_time": "2021-08-04T01:47:17.564383",
   "version": "2.3.3"
  }
 },
 "nbformat": 4,
 "nbformat_minor": 5
}
