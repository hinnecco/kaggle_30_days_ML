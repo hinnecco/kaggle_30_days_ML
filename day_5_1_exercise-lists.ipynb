{
 "cells": [
  {
   "cell_type": "markdown",
   "id": "b5274cfa",
   "metadata": {
    "papermill": {
     "duration": 0.015186,
     "end_time": "2021-08-06T01:24:39.628973",
     "exception": false,
     "start_time": "2021-08-06T01:24:39.613787",
     "status": "completed"
    },
    "tags": []
   },
   "source": [
    "**This notebook is an exercise in the [Python](https://www.kaggle.com/learn/python) course.  You can reference the tutorial at [this link](https://www.kaggle.com/colinmorris/lists).**\n",
    "\n",
    "---\n"
   ]
  },
  {
   "cell_type": "markdown",
   "id": "48016cb3",
   "metadata": {
    "papermill": {
     "duration": 0.013898,
     "end_time": "2021-08-06T01:24:39.658444",
     "exception": false,
     "start_time": "2021-08-06T01:24:39.644546",
     "status": "completed"
    },
    "tags": []
   },
   "source": [
    "Things get more interesting with lists. You'll apply your new knowledge to solve the questions below. Remember to run the following cell first."
   ]
  },
  {
   "cell_type": "code",
   "execution_count": 1,
   "id": "687dbc9e",
   "metadata": {
    "execution": {
     "iopub.execute_input": "2021-08-06T01:24:39.693179Z",
     "iopub.status.busy": "2021-08-06T01:24:39.691331Z",
     "iopub.status.idle": "2021-08-06T01:24:39.835860Z",
     "shell.execute_reply": "2021-08-06T01:24:39.835263Z",
     "shell.execute_reply.started": "2021-08-06T01:01:00.745505Z"
    },
    "papermill": {
     "duration": 0.163438,
     "end_time": "2021-08-06T01:24:39.836055",
     "exception": false,
     "start_time": "2021-08-06T01:24:39.672617",
     "status": "completed"
    },
    "tags": []
   },
   "outputs": [
    {
     "name": "stdout",
     "output_type": "stream",
     "text": [
      "Setup complete.\n"
     ]
    }
   ],
   "source": [
    "from learntools.core import binder; binder.bind(globals())\n",
    "from learntools.python.ex4 import *\n",
    "print('Setup complete.')"
   ]
  },
  {
   "cell_type": "markdown",
   "id": "3df1d00f",
   "metadata": {
    "papermill": {
     "duration": 0.014005,
     "end_time": "2021-08-06T01:24:39.864761",
     "exception": false,
     "start_time": "2021-08-06T01:24:39.850756",
     "status": "completed"
    },
    "tags": []
   },
   "source": [
    "# 1.\n",
    "\n",
    "Complete the function below according to its docstring."
   ]
  },
  {
   "cell_type": "code",
   "execution_count": 2,
   "id": "c49dc9d8",
   "metadata": {
    "execution": {
     "iopub.execute_input": "2021-08-06T01:24:39.903732Z",
     "iopub.status.busy": "2021-08-06T01:24:39.902729Z",
     "iopub.status.idle": "2021-08-06T01:24:39.909025Z",
     "shell.execute_reply": "2021-08-06T01:24:39.908494Z",
     "shell.execute_reply.started": "2021-08-06T01:03:58.690503Z"
    },
    "papermill": {
     "duration": 0.029848,
     "end_time": "2021-08-06T01:24:39.909162",
     "exception": false,
     "start_time": "2021-08-06T01:24:39.879314",
     "status": "completed"
    },
    "tags": []
   },
   "outputs": [
    {
     "data": {
      "application/javascript": [
       "parent.postMessage({\"jupyterEvent\": \"custom.exercise_interaction\", \"data\": {\"outcomeType\": 1, \"valueTowardsCompletion\": 0.2, \"interactionType\": 1, \"questionType\": 2, \"questionId\": \"1_SelectSecondItem\", \"learnToolsVersion\": \"0.3.4\", \"failureMessage\": \"\", \"exceptionClass\": \"\", \"trace\": \"\"}}, \"*\")"
      ],
      "text/plain": [
       "<IPython.core.display.Javascript object>"
      ]
     },
     "metadata": {},
     "output_type": "display_data"
    },
    {
     "data": {
      "text/markdown": [
       "<span style=\"color:#33cc33\">Correct</span>"
      ],
      "text/plain": [
       "Correct"
      ]
     },
     "metadata": {},
     "output_type": "display_data"
    }
   ],
   "source": [
    "def select_second(L):\n",
    "    \"\"\"Return the second element of the given list. If the list has no second\n",
    "    element, return None.\n",
    "    \"\"\"\n",
    "    if len(L) > 1:\n",
    "        return L[1]\n",
    "    else:\n",
    "        return None\n",
    "\n",
    "# Check your answer\n",
    "q1.check()"
   ]
  },
  {
   "cell_type": "code",
   "execution_count": 3,
   "id": "680d752e",
   "metadata": {
    "collapsed": true,
    "execution": {
     "iopub.execute_input": "2021-08-06T01:24:39.943301Z",
     "iopub.status.busy": "2021-08-06T01:24:39.942622Z",
     "iopub.status.idle": "2021-08-06T01:24:39.945675Z",
     "shell.execute_reply": "2021-08-06T01:24:39.946209Z"
    },
    "jupyter": {
     "outputs_hidden": true
    },
    "papermill": {
     "duration": 0.021816,
     "end_time": "2021-08-06T01:24:39.946379",
     "exception": false,
     "start_time": "2021-08-06T01:24:39.924563",
     "status": "completed"
    },
    "tags": []
   },
   "outputs": [],
   "source": [
    "#q1.hint()\n",
    "#q1.solution()"
   ]
  },
  {
   "cell_type": "markdown",
   "id": "d6e55df6",
   "metadata": {
    "papermill": {
     "duration": 0.015475,
     "end_time": "2021-08-06T01:24:39.977308",
     "exception": false,
     "start_time": "2021-08-06T01:24:39.961833",
     "status": "completed"
    },
    "tags": []
   },
   "source": [
    "# 2.\n",
    "\n",
    "You are analyzing sports teams.  Members of each team are stored in a list. The Coach is the first name in the list, the captain is the second name in the list, and other players are listed after that. \n",
    "These lists are stored in another list, which starts with the best team and proceeds through the list to the worst team last.  Complete the function below to select the **captain** of the worst team."
   ]
  },
  {
   "cell_type": "code",
   "execution_count": 4,
   "id": "093b8b35",
   "metadata": {
    "execution": {
     "iopub.execute_input": "2021-08-06T01:24:40.011913Z",
     "iopub.status.busy": "2021-08-06T01:24:40.011271Z",
     "iopub.status.idle": "2021-08-06T01:24:40.019972Z",
     "shell.execute_reply": "2021-08-06T01:24:40.019322Z",
     "shell.execute_reply.started": "2021-08-06T01:05:38.803255Z"
    },
    "papermill": {
     "duration": 0.027071,
     "end_time": "2021-08-06T01:24:40.020129",
     "exception": false,
     "start_time": "2021-08-06T01:24:39.993058",
     "status": "completed"
    },
    "tags": []
   },
   "outputs": [
    {
     "data": {
      "application/javascript": [
       "parent.postMessage({\"jupyterEvent\": \"custom.exercise_interaction\", \"data\": {\"outcomeType\": 1, \"valueTowardsCompletion\": 0.2, \"interactionType\": 1, \"questionType\": 2, \"questionId\": \"2_LosingTeamCaptain\", \"learnToolsVersion\": \"0.3.4\", \"failureMessage\": \"\", \"exceptionClass\": \"\", \"trace\": \"\"}}, \"*\")"
      ],
      "text/plain": [
       "<IPython.core.display.Javascript object>"
      ]
     },
     "metadata": {},
     "output_type": "display_data"
    },
    {
     "data": {
      "text/markdown": [
       "<span style=\"color:#33cc33\">Correct</span>"
      ],
      "text/plain": [
       "Correct"
      ]
     },
     "metadata": {},
     "output_type": "display_data"
    }
   ],
   "source": [
    "def losing_team_captain(teams):\n",
    "    \"\"\"Given a list of teams, where each team is a list of names, return the 2nd player (captain)\n",
    "    from the last listed team\n",
    "    \"\"\"\n",
    "    return teams[-1][1]\n",
    "\n",
    "# Check your answer\n",
    "q2.check()"
   ]
  },
  {
   "cell_type": "code",
   "execution_count": 5,
   "id": "fa325f47",
   "metadata": {
    "execution": {
     "iopub.execute_input": "2021-08-06T01:24:40.057808Z",
     "iopub.status.busy": "2021-08-06T01:24:40.057096Z",
     "iopub.status.idle": "2021-08-06T01:24:40.060107Z",
     "shell.execute_reply": "2021-08-06T01:24:40.059582Z",
     "shell.execute_reply.started": "2021-08-06T01:05:47.572952Z"
    },
    "papermill": {
     "duration": 0.02343,
     "end_time": "2021-08-06T01:24:40.060254",
     "exception": false,
     "start_time": "2021-08-06T01:24:40.036824",
     "status": "completed"
    },
    "tags": []
   },
   "outputs": [],
   "source": [
    "#q2.hint()\n",
    "#q2.solution()"
   ]
  },
  {
   "cell_type": "markdown",
   "id": "1b624a76",
   "metadata": {
    "papermill": {
     "duration": 0.016482,
     "end_time": "2021-08-06T01:24:40.093380",
     "exception": false,
     "start_time": "2021-08-06T01:24:40.076898",
     "status": "completed"
    },
    "tags": []
   },
   "source": [
    "# 3.\n",
    "\n",
    "The next iteration of Mario Kart will feature an extra-infuriating new item, the *Purple Shell*. When used, it warps the last place racer into first place and the first place racer into last place. Complete the function below to implement the Purple Shell's effect."
   ]
  },
  {
   "cell_type": "code",
   "execution_count": 6,
   "id": "64d1462b",
   "metadata": {
    "execution": {
     "iopub.execute_input": "2021-08-06T01:24:40.133967Z",
     "iopub.status.busy": "2021-08-06T01:24:40.133306Z",
     "iopub.status.idle": "2021-08-06T01:24:40.138406Z",
     "shell.execute_reply": "2021-08-06T01:24:40.137882Z",
     "shell.execute_reply.started": "2021-08-06T01:08:10.506761Z"
    },
    "papermill": {
     "duration": 0.028467,
     "end_time": "2021-08-06T01:24:40.138552",
     "exception": false,
     "start_time": "2021-08-06T01:24:40.110085",
     "status": "completed"
    },
    "tags": []
   },
   "outputs": [
    {
     "data": {
      "application/javascript": [
       "parent.postMessage({\"jupyterEvent\": \"custom.exercise_interaction\", \"data\": {\"outcomeType\": 1, \"valueTowardsCompletion\": 0.2, \"interactionType\": 1, \"questionType\": 2, \"questionId\": \"3_PurpleShell\", \"learnToolsVersion\": \"0.3.4\", \"failureMessage\": \"\", \"exceptionClass\": \"\", \"trace\": \"\"}}, \"*\")"
      ],
      "text/plain": [
       "<IPython.core.display.Javascript object>"
      ]
     },
     "metadata": {},
     "output_type": "display_data"
    },
    {
     "data": {
      "text/markdown": [
       "<span style=\"color:#33cc33\">Correct</span>"
      ],
      "text/plain": [
       "Correct"
      ]
     },
     "metadata": {},
     "output_type": "display_data"
    }
   ],
   "source": [
    "def purple_shell(racers):\n",
    "    \"\"\"Given a list of racers, set the first place racer (at the front of the list) to last\n",
    "    place and vice versa.\n",
    "    \n",
    "    >>> r = [\"Mario\", \"Bowser\", \"Luigi\"]\n",
    "    >>> purple_shell(r)\n",
    "    >>> r\n",
    "    [\"Luigi\", \"Bowser\", \"Mario\"]\n",
    "    \"\"\"\n",
    "    aux = racers[-1]\n",
    "    racers[-1] = racers[0]\n",
    "    racers[0] = aux\n",
    "\n",
    "# Check your answer\n",
    "q3.check()"
   ]
  },
  {
   "cell_type": "code",
   "execution_count": 7,
   "id": "bf2ae6dc",
   "metadata": {
    "execution": {
     "iopub.execute_input": "2021-08-06T01:24:40.177887Z",
     "iopub.status.busy": "2021-08-06T01:24:40.177269Z",
     "iopub.status.idle": "2021-08-06T01:24:40.179106Z",
     "shell.execute_reply": "2021-08-06T01:24:40.179623Z",
     "shell.execute_reply.started": "2021-08-06T01:08:18.783422Z"
    },
    "papermill": {
     "duration": 0.023847,
     "end_time": "2021-08-06T01:24:40.179789",
     "exception": false,
     "start_time": "2021-08-06T01:24:40.155942",
     "status": "completed"
    },
    "tags": []
   },
   "outputs": [],
   "source": [
    "#q3.hint()\n",
    "#q3.solution()"
   ]
  },
  {
   "cell_type": "markdown",
   "id": "393f7013",
   "metadata": {
    "papermill": {
     "duration": 0.017162,
     "end_time": "2021-08-06T01:24:40.214580",
     "exception": false,
     "start_time": "2021-08-06T01:24:40.197418",
     "status": "completed"
    },
    "tags": []
   },
   "source": [
    "# 4.\n",
    "\n",
    "What are the lengths of the following lists? Fill in the variable `lengths` with your predictions. (Try to make a prediction for each list *without* just calling `len()` on it.)"
   ]
  },
  {
   "cell_type": "code",
   "execution_count": 8,
   "id": "b688a17b",
   "metadata": {
    "execution": {
     "iopub.execute_input": "2021-08-06T01:24:40.252404Z",
     "iopub.status.busy": "2021-08-06T01:24:40.251800Z",
     "iopub.status.idle": "2021-08-06T01:24:40.259813Z",
     "shell.execute_reply": "2021-08-06T01:24:40.260360Z",
     "shell.execute_reply.started": "2021-08-06T01:11:21.817028Z"
    },
    "papermill": {
     "duration": 0.028439,
     "end_time": "2021-08-06T01:24:40.260538",
     "exception": false,
     "start_time": "2021-08-06T01:24:40.232099",
     "status": "completed"
    },
    "tags": []
   },
   "outputs": [
    {
     "data": {
      "application/javascript": [
       "parent.postMessage({\"jupyterEvent\": \"custom.exercise_interaction\", \"data\": {\"outcomeType\": 1, \"valueTowardsCompletion\": 0.2, \"interactionType\": 1, \"questionType\": 1, \"questionId\": \"4_UnderstandLen\", \"learnToolsVersion\": \"0.3.4\", \"failureMessage\": \"\", \"exceptionClass\": \"\", \"trace\": \"\"}}, \"*\")"
      ],
      "text/plain": [
       "<IPython.core.display.Javascript object>"
      ]
     },
     "metadata": {},
     "output_type": "display_data"
    },
    {
     "data": {
      "text/markdown": [
       "<span style=\"color:#33cc33\">Correct:</span> \n",
       "\n",
       "\n",
       "- a: There are three items in this list. Nothing tricky yet.\n",
       "- b: The list `[2, 3]` counts as a single item. It has one item before it. So we have 2 items in the list\n",
       "- c: The empty list has 0 items\n",
       "- d: The expression is the same as the list `[2, 3]`, which has length 2."
      ],
      "text/plain": [
       "Correct: \n",
       "\n",
       "\n",
       "- a: There are three items in this list. Nothing tricky yet.\n",
       "- b: The list `[2, 3]` counts as a single item. It has one item before it. So we have 2 items in the list\n",
       "- c: The empty list has 0 items\n",
       "- d: The expression is the same as the list `[2, 3]`, which has length 2."
      ]
     },
     "metadata": {},
     "output_type": "display_data"
    }
   ],
   "source": [
    "a = [1, 2, 3]\n",
    "b = [1, [2, 3]]\n",
    "c = []\n",
    "d = [1, 2, 3][1:]\n",
    "\n",
    "# Put your predictions in the list below. Lengths should contain 4 numbers, the\n",
    "# first being the length of a, the second being the length of b and so on.\n",
    "lengths = [3,2,0,2]\n",
    "\n",
    "# Check your answer\n",
    "q4.check()"
   ]
  },
  {
   "cell_type": "code",
   "execution_count": 9,
   "id": "bfda5f23",
   "metadata": {
    "collapsed": true,
    "execution": {
     "iopub.execute_input": "2021-08-06T01:24:40.300938Z",
     "iopub.status.busy": "2021-08-06T01:24:40.300283Z",
     "iopub.status.idle": "2021-08-06T01:24:40.304134Z",
     "shell.execute_reply": "2021-08-06T01:24:40.303585Z"
    },
    "jupyter": {
     "outputs_hidden": true
    },
    "papermill": {
     "duration": 0.025092,
     "end_time": "2021-08-06T01:24:40.304273",
     "exception": false,
     "start_time": "2021-08-06T01:24:40.279181",
     "status": "completed"
    },
    "tags": []
   },
   "outputs": [],
   "source": [
    "# line below provides some explanation\n",
    "#q4.solution()"
   ]
  },
  {
   "cell_type": "markdown",
   "id": "98017527",
   "metadata": {
    "papermill": {
     "duration": 0.018168,
     "end_time": "2021-08-06T01:24:40.341364",
     "exception": false,
     "start_time": "2021-08-06T01:24:40.323196",
     "status": "completed"
    },
    "tags": []
   },
   "source": [
    "# 5. <span title=\"A bit spicy\" style=\"color: darkgreen \">🌶️</span>\n",
    "\n",
    "We're using lists to record people who attended our party and what order they arrived in. For example, the following list represents a party with 7 guests, in which Adela showed up first and Ford was the last to arrive:\n",
    "\n",
    "    party_attendees = ['Adela', 'Fleda', 'Owen', 'May', 'Mona', 'Gilbert', 'Ford']\n",
    "\n",
    "A guest is considered 'fashionably late' if they arrived after at least half of the party's guests. However, they must not be the very last guest (that's taking it too far). In the above example, Mona and Gilbert are the only guests who were fashionably late.\n",
    "\n",
    "Complete the function below which takes a list of party attendees as well as a person, and tells us whether that person is fashionably late."
   ]
  },
  {
   "cell_type": "code",
   "execution_count": 10,
   "id": "7302854e",
   "metadata": {
    "execution": {
     "iopub.execute_input": "2021-08-06T01:24:40.386607Z",
     "iopub.status.busy": "2021-08-06T01:24:40.385929Z",
     "iopub.status.idle": "2021-08-06T01:24:40.390337Z",
     "shell.execute_reply": "2021-08-06T01:24:40.390844Z",
     "shell.execute_reply.started": "2021-08-06T01:23:59.997508Z"
    },
    "papermill": {
     "duration": 0.02997,
     "end_time": "2021-08-06T01:24:40.391023",
     "exception": false,
     "start_time": "2021-08-06T01:24:40.361053",
     "status": "completed"
    },
    "tags": []
   },
   "outputs": [
    {
     "data": {
      "application/javascript": [
       "parent.postMessage({\"jupyterEvent\": \"custom.exercise_interaction\", \"data\": {\"outcomeType\": 1, \"valueTowardsCompletion\": 0.2, \"interactionType\": 1, \"questionType\": 2, \"questionId\": \"5_FashionablyLate\", \"learnToolsVersion\": \"0.3.4\", \"failureMessage\": \"\", \"exceptionClass\": \"\", \"trace\": \"\"}}, \"*\")"
      ],
      "text/plain": [
       "<IPython.core.display.Javascript object>"
      ]
     },
     "metadata": {},
     "output_type": "display_data"
    },
    {
     "data": {
      "text/markdown": [
       "<span style=\"color:#33cc33\">Correct</span>"
      ],
      "text/plain": [
       "Correct"
      ]
     },
     "metadata": {},
     "output_type": "display_data"
    }
   ],
   "source": [
    "def fashionably_late(arrivals, name):\n",
    "    \"\"\"Given an ordered list of arrivals to the party and a name, return whether the guest with that\n",
    "    name was fashionably late.\n",
    "    \"\"\"\n",
    "    ind = arrivals.index(name)\n",
    "    return ind >= len(arrivals)/2 and ind != len(arrivals)-1\n",
    "\n",
    "# Check your answer\n",
    "q5.check()"
   ]
  },
  {
   "cell_type": "code",
   "execution_count": 11,
   "id": "a64aa829",
   "metadata": {
    "execution": {
     "iopub.execute_input": "2021-08-06T01:24:40.434984Z",
     "iopub.status.busy": "2021-08-06T01:24:40.434302Z",
     "iopub.status.idle": "2021-08-06T01:24:40.436288Z",
     "shell.execute_reply": "2021-08-06T01:24:40.436787Z",
     "shell.execute_reply.started": "2021-08-06T01:24:06.753800Z"
    },
    "papermill": {
     "duration": 0.026101,
     "end_time": "2021-08-06T01:24:40.436952",
     "exception": false,
     "start_time": "2021-08-06T01:24:40.410851",
     "status": "completed"
    },
    "tags": []
   },
   "outputs": [],
   "source": [
    "#q5.hint()\n",
    "#q5.solution()"
   ]
  },
  {
   "cell_type": "markdown",
   "id": "1942b2e7",
   "metadata": {
    "papermill": {
     "duration": 0.019316,
     "end_time": "2021-08-06T01:24:40.476153",
     "exception": false,
     "start_time": "2021-08-06T01:24:40.456837",
     "status": "completed"
    },
    "tags": []
   },
   "source": [
    "# Keep Going\n",
    "\n",
    "That's it for lists and tuples! Now you have the baseline knowledge to **[learn about loops](https://www.kaggle.com/colinmorris/loops-and-list-comprehensions)**, which is where lists and tuples get really interesting. "
   ]
  },
  {
   "cell_type": "markdown",
   "id": "48e32b22",
   "metadata": {
    "papermill": {
     "duration": 0.019495,
     "end_time": "2021-08-06T01:24:40.515179",
     "exception": false,
     "start_time": "2021-08-06T01:24:40.495684",
     "status": "completed"
    },
    "tags": []
   },
   "source": [
    "---\n",
    "\n",
    "\n",
    "\n",
    "\n",
    "*Have questions or comments? Visit the [Learn Discussion forum](https://www.kaggle.com/learn-forum/161283) to chat with other Learners.*"
   ]
  }
 ],
 "metadata": {
  "kernelspec": {
   "display_name": "Python 3",
   "language": "python",
   "name": "python3"
  },
  "language_info": {
   "codemirror_mode": {
    "name": "ipython",
    "version": 3
   },
   "file_extension": ".py",
   "mimetype": "text/x-python",
   "name": "python",
   "nbconvert_exporter": "python",
   "pygments_lexer": "ipython3",
   "version": "3.7.10"
  },
  "papermill": {
   "default_parameters": {},
   "duration": 9.722043,
   "end_time": "2021-08-06T01:24:41.245560",
   "environment_variables": {},
   "exception": null,
   "input_path": "__notebook__.ipynb",
   "output_path": "__notebook__.ipynb",
   "parameters": {},
   "start_time": "2021-08-06T01:24:31.523517",
   "version": "2.3.3"
  }
 },
 "nbformat": 4,
 "nbformat_minor": 5
}
