{
 "cells": [
  {
   "cell_type": "markdown",
   "id": "4e8b3ab9",
   "metadata": {
    "papermill": {
     "duration": 0.013696,
     "end_time": "2021-08-13T22:00:19.426865",
     "exception": false,
     "start_time": "2021-08-13T22:00:19.413169",
     "status": "completed"
    },
    "tags": []
   },
   "source": [
    "**This notebook is an exercise in the [Introduction to Machine Learning](https://www.kaggle.com/learn/intro-to-machine-learning) course.  You can reference the tutorial at [this link](https://www.kaggle.com/dansbecker/model-validation).**\n",
    "\n",
    "---\n"
   ]
  },
  {
   "cell_type": "markdown",
   "id": "81018f67",
   "metadata": {
    "papermill": {
     "duration": 0.012328,
     "end_time": "2021-08-13T22:00:19.452297",
     "exception": false,
     "start_time": "2021-08-13T22:00:19.439969",
     "status": "completed"
    },
    "tags": []
   },
   "source": [
    "## Recap\n",
    "You've built a model. In this exercise you will test how good your model is.\n",
    "\n",
    "Run the cell below to set up your coding environment where the previous exercise left off."
   ]
  },
  {
   "cell_type": "code",
   "execution_count": 1,
   "id": "cb10d955",
   "metadata": {
    "execution": {
     "iopub.execute_input": "2021-08-13T22:00:19.491472Z",
     "iopub.status.busy": "2021-08-13T22:00:19.490830Z",
     "iopub.status.idle": "2021-08-13T22:00:20.736569Z",
     "shell.execute_reply": "2021-08-13T22:00:20.737086Z",
     "shell.execute_reply.started": "2021-08-13T21:48:24.594243Z"
    },
    "papermill": {
     "duration": 1.27244,
     "end_time": "2021-08-13T22:00:20.737404",
     "exception": false,
     "start_time": "2021-08-13T22:00:19.464964",
     "status": "completed"
    },
    "tags": []
   },
   "outputs": [
    {
     "name": "stdout",
     "output_type": "stream",
     "text": [
      "First in-sample predictions: [208500. 181500. 223500. 140000. 250000.]\n",
      "Actual target values for those homes: [208500, 181500, 223500, 140000, 250000]\n",
      "Setup Complete\n"
     ]
    }
   ],
   "source": [
    "# Code you have previously used to load data\n",
    "import pandas as pd\n",
    "from sklearn.tree import DecisionTreeRegressor\n",
    "\n",
    "# Path of the file to read\n",
    "iowa_file_path = '../input/home-data-for-ml-course/train.csv'\n",
    "\n",
    "home_data = pd.read_csv(iowa_file_path)\n",
    "y = home_data.SalePrice\n",
    "feature_columns = ['LotArea', 'YearBuilt', '1stFlrSF', '2ndFlrSF', 'FullBath', 'BedroomAbvGr', 'TotRmsAbvGrd']\n",
    "X = home_data[feature_columns]\n",
    "\n",
    "# Specify Model\n",
    "iowa_model = DecisionTreeRegressor()\n",
    "# Fit Model\n",
    "iowa_model.fit(X, y)\n",
    "\n",
    "print(\"First in-sample predictions:\", iowa_model.predict(X.head()))\n",
    "print(\"Actual target values for those homes:\", y.head().tolist())\n",
    "\n",
    "# Set up code checking\n",
    "from learntools.core import binder\n",
    "binder.bind(globals())\n",
    "from learntools.machine_learning.ex4 import *\n",
    "print(\"Setup Complete\")"
   ]
  },
  {
   "cell_type": "markdown",
   "id": "fee7bb60",
   "metadata": {
    "papermill": {
     "duration": 0.01275,
     "end_time": "2021-08-13T22:00:20.763888",
     "exception": false,
     "start_time": "2021-08-13T22:00:20.751138",
     "status": "completed"
    },
    "tags": []
   },
   "source": [
    "# Exercises\n",
    "\n",
    "## Step 1: Split Your Data\n",
    "Use the `train_test_split` function to split up your data.\n",
    "\n",
    "Give it the argument `random_state=1` so the `check` functions know what to expect when verifying your code.\n",
    "\n",
    "Recall, your features are loaded in the DataFrame **X** and your target is loaded in **y**.\n"
   ]
  },
  {
   "cell_type": "code",
   "execution_count": 2,
   "id": "4b553a3c",
   "metadata": {
    "execution": {
     "iopub.execute_input": "2021-08-13T22:00:20.798001Z",
     "iopub.status.busy": "2021-08-13T22:00:20.797244Z",
     "iopub.status.idle": "2021-08-13T22:00:20.819691Z",
     "shell.execute_reply": "2021-08-13T22:00:20.820251Z",
     "shell.execute_reply.started": "2021-08-13T21:58:39.263946Z"
    },
    "papermill": {
     "duration": 0.043491,
     "end_time": "2021-08-13T22:00:20.820423",
     "exception": false,
     "start_time": "2021-08-13T22:00:20.776932",
     "status": "completed"
    },
    "tags": []
   },
   "outputs": [
    {
     "data": {
      "application/javascript": [
       "parent.postMessage({\"jupyterEvent\": \"custom.exercise_interaction\", \"data\": {\"outcomeType\": 1, \"valueTowardsCompletion\": 0.25, \"interactionType\": 1, \"questionType\": 2, \"questionId\": \"1_SplitData\", \"learnToolsVersion\": \"0.3.4\", \"failureMessage\": \"\", \"exceptionClass\": \"\", \"trace\": \"\"}}, \"*\")"
      ],
      "text/plain": [
       "<IPython.core.display.Javascript object>"
      ]
     },
     "metadata": {},
     "output_type": "display_data"
    },
    {
     "data": {
      "text/markdown": [
       "<span style=\"color:#33cc33\">Correct</span>"
      ],
      "text/plain": [
       "Correct"
      ]
     },
     "metadata": {},
     "output_type": "display_data"
    }
   ],
   "source": [
    "# Import the train_test_split function and uncomment\n",
    "from sklearn.model_selection import train_test_split \n",
    "\n",
    "# fill in and uncomment\n",
    "train_X, val_X, train_y, val_y = train_test_split(X,y,random_state=1)\n",
    "\n",
    "# Check your answer\n",
    "step_1.check()"
   ]
  },
  {
   "cell_type": "code",
   "execution_count": 3,
   "id": "5c64492c",
   "metadata": {
    "execution": {
     "iopub.execute_input": "2021-08-13T22:00:20.851930Z",
     "iopub.status.busy": "2021-08-13T22:00:20.851288Z",
     "iopub.status.idle": "2021-08-13T22:00:20.854223Z",
     "shell.execute_reply": "2021-08-13T22:00:20.854786Z"
    },
    "papermill": {
     "duration": 0.020338,
     "end_time": "2021-08-13T22:00:20.854957",
     "exception": false,
     "start_time": "2021-08-13T22:00:20.834619",
     "status": "completed"
    },
    "tags": []
   },
   "outputs": [],
   "source": [
    "# The lines below will show you a hint or the solution.\n",
    "# step_1.hint() \n",
    "# step_1.solution()\n"
   ]
  },
  {
   "cell_type": "markdown",
   "id": "652cad1b",
   "metadata": {
    "papermill": {
     "duration": 0.013992,
     "end_time": "2021-08-13T22:00:20.883146",
     "exception": false,
     "start_time": "2021-08-13T22:00:20.869154",
     "status": "completed"
    },
    "tags": []
   },
   "source": [
    "## Step 2: Specify and Fit the Model\n",
    "\n",
    "Create a `DecisionTreeRegressor` model and fit it to the relevant data.\n",
    "Set `random_state` to 1 again when creating the model."
   ]
  },
  {
   "cell_type": "code",
   "execution_count": 4,
   "id": "cd791e92",
   "metadata": {
    "execution": {
     "iopub.execute_input": "2021-08-13T22:00:20.914872Z",
     "iopub.status.busy": "2021-08-13T22:00:20.914120Z",
     "iopub.status.idle": "2021-08-13T22:00:20.943791Z",
     "shell.execute_reply": "2021-08-13T22:00:20.944519Z",
     "shell.execute_reply.started": "2021-08-13T21:58:43.016412Z"
    },
    "papermill": {
     "duration": 0.047351,
     "end_time": "2021-08-13T22:00:20.944693",
     "exception": false,
     "start_time": "2021-08-13T22:00:20.897342",
     "status": "completed"
    },
    "tags": []
   },
   "outputs": [
    {
     "name": "stdout",
     "output_type": "stream",
     "text": [
      "[186500. 184000. 130000.  92000. 164500. 220000. 335000. 144152. 215000.\n",
      " 262000.]\n",
      "[186500. 184000. 130000.  92000. 164500. 220000. 335000. 144152. 215000.\n",
      " 262000.]\n"
     ]
    },
    {
     "data": {
      "application/javascript": [
       "parent.postMessage({\"jupyterEvent\": \"custom.exercise_interaction\", \"data\": {\"outcomeType\": 1, \"valueTowardsCompletion\": 0.25, \"interactionType\": 1, \"questionType\": 2, \"questionId\": \"2_FitModelWithTrain\", \"learnToolsVersion\": \"0.3.4\", \"failureMessage\": \"\", \"exceptionClass\": \"\", \"trace\": \"\"}}, \"*\")"
      ],
      "text/plain": [
       "<IPython.core.display.Javascript object>"
      ]
     },
     "metadata": {},
     "output_type": "display_data"
    },
    {
     "data": {
      "text/markdown": [
       "<span style=\"color:#33cc33\">Correct</span>"
      ],
      "text/plain": [
       "Correct"
      ]
     },
     "metadata": {},
     "output_type": "display_data"
    }
   ],
   "source": [
    "# You imported DecisionTreeRegressor in your last exercise\n",
    "# and that code has been copied to the setup code above. So, no need to\n",
    "# import it again\n",
    "\n",
    "# Specify the model\n",
    "iowa_model = DecisionTreeRegressor(random_state=1)\n",
    "\n",
    "# Fit iowa_model with the training data.\n",
    "iowa_model.fit(train_X,train_y)\n",
    "\n",
    "# Check your answer\n",
    "step_2.check()"
   ]
  },
  {
   "cell_type": "code",
   "execution_count": 5,
   "id": "33a98bbe",
   "metadata": {
    "execution": {
     "iopub.execute_input": "2021-08-13T22:00:20.980117Z",
     "iopub.status.busy": "2021-08-13T22:00:20.979488Z",
     "iopub.status.idle": "2021-08-13T22:00:20.982179Z",
     "shell.execute_reply": "2021-08-13T22:00:20.982617Z"
    },
    "papermill": {
     "duration": 0.022021,
     "end_time": "2021-08-13T22:00:20.982796",
     "exception": false,
     "start_time": "2021-08-13T22:00:20.960775",
     "status": "completed"
    },
    "tags": []
   },
   "outputs": [],
   "source": [
    "# step_2.hint()\n",
    "# step_2.solution()"
   ]
  },
  {
   "cell_type": "markdown",
   "id": "fa719edd",
   "metadata": {
    "papermill": {
     "duration": 0.015335,
     "end_time": "2021-08-13T22:00:21.013665",
     "exception": false,
     "start_time": "2021-08-13T22:00:20.998330",
     "status": "completed"
    },
    "tags": []
   },
   "source": [
    "## Step 3: Make Predictions with Validation data\n"
   ]
  },
  {
   "cell_type": "code",
   "execution_count": 6,
   "id": "f5ce74cd",
   "metadata": {
    "execution": {
     "iopub.execute_input": "2021-08-13T22:00:21.054074Z",
     "iopub.status.busy": "2021-08-13T22:00:21.053408Z",
     "iopub.status.idle": "2021-08-13T22:00:21.057515Z",
     "shell.execute_reply": "2021-08-13T22:00:21.058029Z",
     "shell.execute_reply.started": "2021-08-13T21:58:46.782853Z"
    },
    "papermill": {
     "duration": 0.02897,
     "end_time": "2021-08-13T22:00:21.058194",
     "exception": false,
     "start_time": "2021-08-13T22:00:21.029224",
     "status": "completed"
    },
    "tags": []
   },
   "outputs": [
    {
     "data": {
      "application/javascript": [
       "parent.postMessage({\"jupyterEvent\": \"custom.exercise_interaction\", \"data\": {\"outcomeType\": 1, \"valueTowardsCompletion\": 0.25, \"interactionType\": 1, \"questionType\": 2, \"questionId\": \"3_ValPreds\", \"learnToolsVersion\": \"0.3.4\", \"failureMessage\": \"\", \"exceptionClass\": \"\", \"trace\": \"\"}}, \"*\")"
      ],
      "text/plain": [
       "<IPython.core.display.Javascript object>"
      ]
     },
     "metadata": {},
     "output_type": "display_data"
    },
    {
     "data": {
      "text/markdown": [
       "<span style=\"color:#33cc33\">Correct</span>"
      ],
      "text/plain": [
       "Correct"
      ]
     },
     "metadata": {},
     "output_type": "display_data"
    }
   ],
   "source": [
    "# Predict with all validation observations\n",
    "val_predictions = iowa_model.predict(val_X)\n",
    "\n",
    "# Check your answer\n",
    "step_3.check()"
   ]
  },
  {
   "cell_type": "code",
   "execution_count": 7,
   "id": "446f5296",
   "metadata": {
    "execution": {
     "iopub.execute_input": "2021-08-13T22:00:21.093665Z",
     "iopub.status.busy": "2021-08-13T22:00:21.093082Z",
     "iopub.status.idle": "2021-08-13T22:00:21.096008Z",
     "shell.execute_reply": "2021-08-13T22:00:21.096504Z"
    },
    "papermill": {
     "duration": 0.022183,
     "end_time": "2021-08-13T22:00:21.096653",
     "exception": false,
     "start_time": "2021-08-13T22:00:21.074470",
     "status": "completed"
    },
    "tags": []
   },
   "outputs": [],
   "source": [
    "# step_3.hint()\n",
    "# step_3.solution()"
   ]
  },
  {
   "cell_type": "markdown",
   "id": "8ec490a5",
   "metadata": {
    "papermill": {
     "duration": 0.01652,
     "end_time": "2021-08-13T22:00:21.130317",
     "exception": false,
     "start_time": "2021-08-13T22:00:21.113797",
     "status": "completed"
    },
    "tags": []
   },
   "source": [
    "Inspect your predictions and actual values from validation data."
   ]
  },
  {
   "cell_type": "code",
   "execution_count": 8,
   "id": "c1ce5bc8",
   "metadata": {
    "execution": {
     "iopub.execute_input": "2021-08-13T22:00:21.166498Z",
     "iopub.status.busy": "2021-08-13T22:00:21.165891Z",
     "iopub.status.idle": "2021-08-13T22:00:21.171670Z",
     "shell.execute_reply": "2021-08-13T22:00:21.172193Z",
     "shell.execute_reply.started": "2021-08-13T21:58:59.198673Z"
    },
    "papermill": {
     "duration": 0.02538,
     "end_time": "2021-08-13T22:00:21.172357",
     "exception": false,
     "start_time": "2021-08-13T22:00:21.146977",
     "status": "completed"
    },
    "tags": []
   },
   "outputs": [
    {
     "name": "stdout",
     "output_type": "stream",
     "text": [
      "[186500. 184000. 130000.  92000. 164500.]\n",
      "[231500, 179500, 122000, 84500, 142000]\n"
     ]
    }
   ],
   "source": [
    "# print the top few validation predictions\n",
    "print(val_predictions[:5])\n",
    "# print the top few actual prices from validation data\n",
    "print(val_y.head().tolist())"
   ]
  },
  {
   "cell_type": "markdown",
   "id": "137ac2f7",
   "metadata": {
    "papermill": {
     "duration": 0.017106,
     "end_time": "2021-08-13T22:00:21.206369",
     "exception": false,
     "start_time": "2021-08-13T22:00:21.189263",
     "status": "completed"
    },
    "tags": []
   },
   "source": [
    "What do you notice that is different from what you saw with in-sample predictions (which are printed after the top code cell in this page).\n",
    "\n",
    "Do you remember why validation predictions differ from in-sample (or training) predictions? This is an important idea from the last lesson.\n",
    "\n",
    "## Step 4: Calculate the Mean Absolute Error in Validation Data\n"
   ]
  },
  {
   "cell_type": "code",
   "execution_count": 9,
   "id": "30f76605",
   "metadata": {
    "execution": {
     "iopub.execute_input": "2021-08-13T22:00:21.247431Z",
     "iopub.status.busy": "2021-08-13T22:00:21.246443Z",
     "iopub.status.idle": "2021-08-13T22:00:21.253453Z",
     "shell.execute_reply": "2021-08-13T22:00:21.252940Z",
     "shell.execute_reply.started": "2021-08-13T21:59:48.459151Z"
    },
    "papermill": {
     "duration": 0.030354,
     "end_time": "2021-08-13T22:00:21.253587",
     "exception": false,
     "start_time": "2021-08-13T22:00:21.223233",
     "status": "completed"
    },
    "tags": []
   },
   "outputs": [
    {
     "name": "stdout",
     "output_type": "stream",
     "text": [
      "29652.931506849316\n"
     ]
    },
    {
     "data": {
      "application/javascript": [
       "parent.postMessage({\"jupyterEvent\": \"custom.exercise_interaction\", \"data\": {\"outcomeType\": 1, \"valueTowardsCompletion\": 0.25, \"interactionType\": 1, \"questionType\": 1, \"questionId\": \"4_MAE\", \"learnToolsVersion\": \"0.3.4\", \"failureMessage\": \"\", \"exceptionClass\": \"\", \"trace\": \"\"}}, \"*\")"
      ],
      "text/plain": [
       "<IPython.core.display.Javascript object>"
      ]
     },
     "metadata": {},
     "output_type": "display_data"
    },
    {
     "data": {
      "text/markdown": [
       "<span style=\"color:#33cc33\">Correct</span>"
      ],
      "text/plain": [
       "Correct"
      ]
     },
     "metadata": {},
     "output_type": "display_data"
    }
   ],
   "source": [
    "from sklearn.metrics import mean_absolute_error\n",
    "val_mae = mean_absolute_error(val_y,val_predictions)\n",
    "\n",
    "# uncomment following line to see the validation_mae\n",
    "print(val_mae)\n",
    "\n",
    "# Check your answer\n",
    "step_4.check()"
   ]
  },
  {
   "cell_type": "code",
   "execution_count": 10,
   "id": "b548962c",
   "metadata": {
    "execution": {
     "iopub.execute_input": "2021-08-13T22:00:21.293535Z",
     "iopub.status.busy": "2021-08-13T22:00:21.292942Z",
     "iopub.status.idle": "2021-08-13T22:00:21.295853Z",
     "shell.execute_reply": "2021-08-13T22:00:21.296357Z"
    },
    "papermill": {
     "duration": 0.024471,
     "end_time": "2021-08-13T22:00:21.296515",
     "exception": false,
     "start_time": "2021-08-13T22:00:21.272044",
     "status": "completed"
    },
    "tags": []
   },
   "outputs": [],
   "source": [
    "# step_4.hint()\n",
    "# step_4.solution()"
   ]
  },
  {
   "cell_type": "markdown",
   "id": "77db91e8",
   "metadata": {
    "papermill": {
     "duration": 0.01864,
     "end_time": "2021-08-13T22:00:21.333915",
     "exception": false,
     "start_time": "2021-08-13T22:00:21.315275",
     "status": "completed"
    },
    "tags": []
   },
   "source": [
    "Is that MAE good?  There isn't a general rule for what values are good that applies across applications. But you'll see how to use (and improve) this number in the next step.\n",
    "\n",
    "# Keep Going\n",
    "\n",
    "You are ready for **[Underfitting and Overfitting](https://www.kaggle.com/dansbecker/underfitting-and-overfitting).**\n"
   ]
  },
  {
   "cell_type": "markdown",
   "id": "254d5d5f",
   "metadata": {
    "papermill": {
     "duration": 0.018212,
     "end_time": "2021-08-13T22:00:21.370597",
     "exception": false,
     "start_time": "2021-08-13T22:00:21.352385",
     "status": "completed"
    },
    "tags": []
   },
   "source": [
    "---\n",
    "\n",
    "\n",
    "\n",
    "\n",
    "*Have questions or comments? Visit the [Learn Discussion forum](https://www.kaggle.com/learn-forum/161285) to chat with other Learners.*"
   ]
  }
 ],
 "metadata": {
  "kernelspec": {
   "display_name": "Python 3",
   "language": "python",
   "name": "python3"
  },
  "language_info": {
   "codemirror_mode": {
    "name": "ipython",
    "version": 3
   },
   "file_extension": ".py",
   "mimetype": "text/x-python",
   "name": "python",
   "nbconvert_exporter": "python",
   "pygments_lexer": "ipython3",
   "version": "3.7.10"
  },
  "papermill": {
   "default_parameters": {},
   "duration": 10.626357,
   "end_time": "2021-08-13T22:00:22.098269",
   "environment_variables": {},
   "exception": null,
   "input_path": "__notebook__.ipynb",
   "output_path": "__notebook__.ipynb",
   "parameters": {},
   "start_time": "2021-08-13T22:00:11.471912",
   "version": "2.3.3"
  }
 },
 "nbformat": 4,
 "nbformat_minor": 5
}
