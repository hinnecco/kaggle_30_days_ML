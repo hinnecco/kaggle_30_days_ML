{
 "cells": [
  {
   "cell_type": "markdown",
   "id": "a45d54ed",
   "metadata": {
    "papermill": {
     "duration": 0.022999,
     "end_time": "2021-08-02T23:23:57.173892",
     "exception": false,
     "start_time": "2021-08-02T23:23:57.150893",
     "status": "completed"
    },
    "tags": []
   },
   "source": [
    "**This notebook is an exercise in the [Python](https://www.kaggle.com/learn/python) course.  You can reference the tutorial at [this link](https://www.kaggle.com/colinmorris/hello-python).**\n",
    "\n",
    "---\n"
   ]
  },
  {
   "cell_type": "markdown",
   "id": "8e1c25fe",
   "metadata": {
    "papermill": {
     "duration": 0.022411,
     "end_time": "2021-08-02T23:23:57.218629",
     "exception": false,
     "start_time": "2021-08-02T23:23:57.196218",
     "status": "completed"
    },
    "tags": []
   },
   "source": [
    "Welcome to your first set of Python coding problems.  If this is your first time using Kaggle Notebooks, welcome! \n",
    "\n",
    "Notebooks are composed of blocks (called \"cells\") of text and code. Each of these is editable, though you'll mainly be editing the code cells to answer some questions.\n",
    "\n",
    "To get started, try running the code cell below (by pressing the ► button, or clicking on the cell and pressing ctrl+enter on your keyboard)."
   ]
  },
  {
   "cell_type": "code",
   "execution_count": 1,
   "id": "eeed6b9c",
   "metadata": {
    "execution": {
     "iopub.execute_input": "2021-08-02T23:23:57.272744Z",
     "iopub.status.busy": "2021-08-02T23:23:57.271756Z",
     "iopub.status.idle": "2021-08-02T23:23:57.280818Z",
     "shell.execute_reply": "2021-08-02T23:23:57.280126Z",
     "shell.execute_reply.started": "2021-08-02T23:10:21.192698Z"
    },
    "papermill": {
     "duration": 0.039551,
     "end_time": "2021-08-02T23:23:57.281006",
     "exception": false,
     "start_time": "2021-08-02T23:23:57.241455",
     "status": "completed"
    },
    "tags": []
   },
   "outputs": [
    {
     "name": "stdout",
     "output_type": "stream",
     "text": [
      "You've successfully run some Python code\n",
      "Congratulations!\n",
      "Another line!\n"
     ]
    }
   ],
   "source": [
    "print(\"You've successfully run some Python code\")\n",
    "print(\"Congratulations!\")\n",
    "print(\"Another line!\")"
   ]
  },
  {
   "cell_type": "code",
   "execution_count": null,
   "id": "9ad582dc",
   "metadata": {
    "papermill": {
     "duration": 0.022376,
     "end_time": "2021-08-02T23:23:57.326076",
     "exception": false,
     "start_time": "2021-08-02T23:23:57.303700",
     "status": "completed"
    },
    "tags": []
   },
   "outputs": [],
   "source": []
  },
  {
   "cell_type": "markdown",
   "id": "7c23363b",
   "metadata": {
    "papermill": {
     "duration": 0.021036,
     "end_time": "2021-08-02T23:23:57.369300",
     "exception": false,
     "start_time": "2021-08-02T23:23:57.348264",
     "status": "completed"
    },
    "tags": []
   },
   "source": [
    "Try adding another line of code in the cell above and re-running it. \n",
    "\n",
    "Now let's get a little fancier:  Add a new code cell by clicking on an existing code cell, hitting the escape key, and then hitting the `a` or `b` key.  The `a` key will add a cell above the current cell, and `b` adds a cell below.\n",
    "\n",
    "Great! Now you know how to use Notebooks.\n",
    "\n",
    "Each hands-on exercise starts by setting up our feedback and code checking mechanism. Run the code cell below to do that. Then you'll be ready to move on to question 0."
   ]
  },
  {
   "cell_type": "code",
   "execution_count": 2,
   "id": "433eb663",
   "metadata": {
    "_kg_hide-input": true,
    "_kg_hide-output": true,
    "execution": {
     "iopub.execute_input": "2021-08-02T23:23:57.418558Z",
     "iopub.status.busy": "2021-08-02T23:23:57.417862Z",
     "iopub.status.idle": "2021-08-02T23:23:57.566151Z",
     "shell.execute_reply": "2021-08-02T23:23:57.565605Z",
     "shell.execute_reply.started": "2021-08-02T23:11:41.749897Z"
    },
    "papermill": {
     "duration": 0.174712,
     "end_time": "2021-08-02T23:23:57.566319",
     "exception": false,
     "start_time": "2021-08-02T23:23:57.391607",
     "status": "completed"
    },
    "tags": []
   },
   "outputs": [
    {
     "name": "stdout",
     "output_type": "stream",
     "text": [
      "Setup complete! You're ready to start question 0.\n"
     ]
    }
   ],
   "source": [
    "from learntools.core import binder; binder.bind(globals())\n",
    "from learntools.python.ex1 import *\n",
    "print(\"Setup complete! You're ready to start question 0.\")"
   ]
  },
  {
   "cell_type": "markdown",
   "id": "f24fe222",
   "metadata": {
    "papermill": {
     "duration": 0.020946,
     "end_time": "2021-08-02T23:23:57.609394",
     "exception": false,
     "start_time": "2021-08-02T23:23:57.588448",
     "status": "completed"
    },
    "tags": []
   },
   "source": [
    "# 0.\n",
    "\n",
    "*This is a silly question intended as an introduction to the format we use for hands-on exercises throughout all Kaggle courses.*\n",
    "\n",
    "**What is your favorite color? **\n",
    "\n",
    "To complete this question, create a variable called `color` in the cell below with an appropriate value. The function call `q0.check()` (which we've already provided in the cell below) will check your answer."
   ]
  },
  {
   "cell_type": "code",
   "execution_count": 3,
   "id": "822e64f5",
   "metadata": {
    "execution": {
     "iopub.execute_input": "2021-08-02T23:23:57.659671Z",
     "iopub.status.busy": "2021-08-02T23:23:57.658911Z",
     "iopub.status.idle": "2021-08-02T23:23:57.663932Z",
     "shell.execute_reply": "2021-08-02T23:23:57.664694Z",
     "shell.execute_reply.started": "2021-08-02T23:14:15.226580Z"
    },
    "papermill": {
     "duration": 0.034113,
     "end_time": "2021-08-02T23:23:57.664882",
     "exception": false,
     "start_time": "2021-08-02T23:23:57.630769",
     "status": "completed"
    },
    "tags": []
   },
   "outputs": [
    {
     "data": {
      "application/javascript": [
       "parent.postMessage({\"jupyterEvent\": \"custom.exercise_interaction\", \"data\": {\"outcomeType\": 1, \"valueTowardsCompletion\": 0.25, \"interactionType\": 1, \"questionType\": 2, \"questionId\": \"0_ExerciseFormatTutorial\", \"learnToolsVersion\": \"0.3.4\", \"failureMessage\": \"\", \"exceptionClass\": \"\", \"trace\": \"\"}}, \"*\")"
      ],
      "text/plain": [
       "<IPython.core.display.Javascript object>"
      ]
     },
     "metadata": {},
     "output_type": "display_data"
    },
    {
     "data": {
      "text/markdown": [
       "<span style=\"color:#33cc33\">Correct:</span> What?! You got it right without needing a hint or anything? Drats. Well hey, you should still continue to the next step to get some practice asking for a hint and checking solutions. (Even though you obviously don't need any help here.)"
      ],
      "text/plain": [
       "Correct: What?! You got it right without needing a hint or anything? Drats. Well hey, you should still continue to the next step to get some practice asking for a hint and checking solutions. (Even though you obviously don't need any help here.)"
      ]
     },
     "metadata": {},
     "output_type": "display_data"
    }
   ],
   "source": [
    "# create a variable called color with an appropriate value on the line below\n",
    "# (Remember, strings in Python must be enclosed in 'single' or \"double\" quotes)\n",
    "color = \"blue\"\n",
    "\n",
    "# Check your answer\n",
    "q0.check()"
   ]
  },
  {
   "cell_type": "markdown",
   "id": "35f5f42b",
   "metadata": {
    "papermill": {
     "duration": 0.021941,
     "end_time": "2021-08-02T23:23:57.709332",
     "exception": false,
     "start_time": "2021-08-02T23:23:57.687391",
     "status": "completed"
    },
    "tags": []
   },
   "source": [
    "Didn't get the right answer? How do you not even know your own favorite color?!\n",
    "\n",
    "Delete the `#` in the line below to make one of the lines run. You can choose between getting a hint or the full answer by choosing which line to remove the `#` from. \n",
    "\n",
    "Removing the `#` is called uncommenting, because it changes that line from a \"comment\" which Python doesn't run to code, which Python does run."
   ]
  },
  {
   "cell_type": "code",
   "execution_count": 4,
   "id": "da23d457",
   "metadata": {
    "execution": {
     "iopub.execute_input": "2021-08-02T23:23:57.757270Z",
     "iopub.status.busy": "2021-08-02T23:23:57.756634Z",
     "iopub.status.idle": "2021-08-02T23:23:57.759891Z",
     "shell.execute_reply": "2021-08-02T23:23:57.760363Z",
     "shell.execute_reply.started": "2021-08-02T23:14:05.355011Z"
    },
    "papermill": {
     "duration": 0.029148,
     "end_time": "2021-08-02T23:23:57.760565",
     "exception": false,
     "start_time": "2021-08-02T23:23:57.731417",
     "status": "completed"
    },
    "tags": []
   },
   "outputs": [],
   "source": [
    "#q0.hint()\n",
    "#q0.solution()"
   ]
  },
  {
   "cell_type": "markdown",
   "id": "bb0be5c8",
   "metadata": {
    "papermill": {
     "duration": 0.022075,
     "end_time": "2021-08-02T23:23:57.805307",
     "exception": false,
     "start_time": "2021-08-02T23:23:57.783232",
     "status": "completed"
    },
    "tags": []
   },
   "source": [
    "The upcoming questions work the same way. The only thing that will change are the question numbers. For the next question, you'll call `q1.check()`, `q1.hint()`, `q1.solution()`, for question 2, you'll call `q2.check()`, and so on."
   ]
  },
  {
   "cell_type": "markdown",
   "id": "4be46ff7",
   "metadata": {
    "papermill": {
     "duration": 0.021702,
     "end_time": "2021-08-02T23:23:57.850640",
     "exception": false,
     "start_time": "2021-08-02T23:23:57.828938",
     "status": "completed"
    },
    "tags": []
   },
   "source": [
    "<hr/>\n",
    "\n",
    "# 1.\n",
    "\n",
    "Complete the code below. In case it's helpful, here is the table of available arithmetic operations:\n",
    "\n",
    "\n",
    "\n",
    "| Operator     | Name           | Description                                            |\n",
    "|--------------|----------------|--------------------------------------------------------|\n",
    "| ``a + b``    | Addition       | Sum of ``a`` and ``b``                                 |\n",
    "| ``a - b``    | Subtraction    | Difference of ``a`` and ``b``                          |\n",
    "| ``a * b``    | Multiplication | Product of ``a`` and ``b``                             |\n",
    "| ``a / b``    | True division  | Quotient of ``a`` and ``b``                            |\n",
    "| ``a // b``   | Floor division | Quotient of ``a`` and ``b``, removing fractional parts |\n",
    "| ``a % b``    | Modulus        | Integer remainder after division of ``a`` by ``b``     |\n",
    "| ``a ** b``   | Exponentiation | ``a`` raised to the power of ``b``                     |\n",
    "| ``-a``       | Negation       | The negative of ``a``                                  |\n",
    "\n",
    "<span style=\"display:none\"></span>\n"
   ]
  },
  {
   "cell_type": "code",
   "execution_count": 5,
   "id": "b795e7e9",
   "metadata": {
    "execution": {
     "iopub.execute_input": "2021-08-02T23:23:57.899720Z",
     "iopub.status.busy": "2021-08-02T23:23:57.899076Z",
     "iopub.status.idle": "2021-08-02T23:23:57.908100Z",
     "shell.execute_reply": "2021-08-02T23:23:57.907400Z",
     "shell.execute_reply.started": "2021-08-02T23:16:30.682395Z"
    },
    "papermill": {
     "duration": 0.035171,
     "end_time": "2021-08-02T23:23:57.908290",
     "exception": false,
     "start_time": "2021-08-02T23:23:57.873119",
     "status": "completed"
    },
    "tags": []
   },
   "outputs": [
    {
     "data": {
      "application/javascript": [
       "parent.postMessage({\"jupyterEvent\": \"custom.exercise_interaction\", \"data\": {\"outcomeType\": 1, \"valueTowardsCompletion\": 0.25, \"interactionType\": 1, \"questionType\": 1, \"questionId\": \"1_CircleArea\", \"learnToolsVersion\": \"0.3.4\", \"failureMessage\": \"\", \"exceptionClass\": \"\", \"trace\": \"\"}}, \"*\")"
      ],
      "text/plain": [
       "<IPython.core.display.Javascript object>"
      ]
     },
     "metadata": {},
     "output_type": "display_data"
    },
    {
     "data": {
      "text/markdown": [
       "<span style=\"color:#33cc33\">Correct</span>"
      ],
      "text/plain": [
       "Correct"
      ]
     },
     "metadata": {},
     "output_type": "display_data"
    }
   ],
   "source": [
    "pi = 3.14159 # approximate\n",
    "diameter = 3\n",
    "\n",
    "# Create a variable called 'radius' equal to half the diameter\n",
    "radius = diameter/2\n",
    "\n",
    "# Create a variable called 'area', using the formula for the area of a circle: pi times the radius squared\n",
    "area=pi*(radius**2)\n",
    "\n",
    "# Check your answer\n",
    "q1.check()"
   ]
  },
  {
   "cell_type": "code",
   "execution_count": 6,
   "id": "22618db8",
   "metadata": {
    "execution": {
     "iopub.execute_input": "2021-08-02T23:23:57.964804Z",
     "iopub.status.busy": "2021-08-02T23:23:57.964150Z",
     "iopub.status.idle": "2021-08-02T23:23:57.969251Z",
     "shell.execute_reply": "2021-08-02T23:23:57.970008Z"
    },
    "papermill": {
     "duration": 0.034886,
     "end_time": "2021-08-02T23:23:57.970295",
     "exception": false,
     "start_time": "2021-08-02T23:23:57.935409",
     "status": "completed"
    },
    "tags": []
   },
   "outputs": [],
   "source": [
    "# Uncomment and run the lines below if you need help.\n",
    "#q1.hint()\n",
    "#q1.solution()"
   ]
  },
  {
   "cell_type": "markdown",
   "id": "c221111c",
   "metadata": {
    "papermill": {
     "duration": 0.025701,
     "end_time": "2021-08-02T23:23:58.020271",
     "exception": false,
     "start_time": "2021-08-02T23:23:57.994570",
     "status": "completed"
    },
    "tags": []
   },
   "source": [
    "<hr/>\n",
    "\n",
    "# 2.\n",
    "\n",
    "Add code to the following cell to swap variables `a` and `b` (so that `a` refers to the object previously referred to by `b` and vice versa)."
   ]
  },
  {
   "cell_type": "code",
   "execution_count": 7,
   "id": "2998b3de",
   "metadata": {
    "execution": {
     "iopub.execute_input": "2021-08-02T23:23:58.072711Z",
     "iopub.status.busy": "2021-08-02T23:23:58.071551Z",
     "iopub.status.idle": "2021-08-02T23:23:58.081477Z",
     "shell.execute_reply": "2021-08-02T23:23:58.082057Z",
     "shell.execute_reply.started": "2021-08-02T23:18:09.931157Z"
    },
    "papermill": {
     "duration": 0.03838,
     "end_time": "2021-08-02T23:23:58.082265",
     "exception": false,
     "start_time": "2021-08-02T23:23:58.043885",
     "status": "completed"
    },
    "tags": []
   },
   "outputs": [
    {
     "data": {
      "application/javascript": [
       "parent.postMessage({\"jupyterEvent\": \"custom.exercise_interaction\", \"data\": {\"outcomeType\": 1, \"valueTowardsCompletion\": 0.25, \"interactionType\": 1, \"questionType\": 2, \"questionId\": \"2_VariableSwap\", \"learnToolsVersion\": \"0.3.4\", \"failureMessage\": \"\", \"exceptionClass\": \"\", \"trace\": \"\"}}, \"*\")"
      ],
      "text/plain": [
       "<IPython.core.display.Javascript object>"
      ]
     },
     "metadata": {},
     "output_type": "display_data"
    },
    {
     "data": {
      "text/markdown": [
       "<span style=\"color:#33cc33\">Correct:</span> \n",
       "\n",
       "The most straightforward solution is to use a third variable to temporarily store one of the old values. e.g.:\n",
       "\n",
       "    tmp = a\n",
       "    a = b\n",
       "    b = tmp\n",
       "\n",
       "If you've read lots of Python code, you might have seen the following trick to swap two variables in one line:\n",
       "\n",
       "    a, b = b, a\n",
       "\n",
       "We'll demystify this bit of Python magic later when we talk about *tuples*."
      ],
      "text/plain": [
       "Correct: \n",
       "\n",
       "The most straightforward solution is to use a third variable to temporarily store one of the old values. e.g.:\n",
       "\n",
       "    tmp = a\n",
       "    a = b\n",
       "    b = tmp\n",
       "\n",
       "If you've read lots of Python code, you might have seen the following trick to swap two variables in one line:\n",
       "\n",
       "    a, b = b, a\n",
       "\n",
       "We'll demystify this bit of Python magic later when we talk about *tuples*."
      ]
     },
     "metadata": {},
     "output_type": "display_data"
    }
   ],
   "source": [
    "########### Setup code - don't touch this part ######################\n",
    "# If you're curious, these are examples of lists. We'll talk about \n",
    "# them in depth a few lessons from now. For now, just know that they're\n",
    "# yet another type of Python object, like int or float.\n",
    "a = [1, 2, 3]\n",
    "b = [3, 2, 1]\n",
    "q2.store_original_ids()\n",
    "######################################################################\n",
    "\n",
    "# Your code goes here. Swap the values to which a and b refer.\n",
    "# If you get stuck, you can always uncomment one or both of the lines in\n",
    "# the next cell for a hint, or to peek at the solution.\n",
    "c = a\n",
    "a = b\n",
    "b = c\n",
    "######################################################################\n",
    "\n",
    "# Check your answer\n",
    "q2.check()"
   ]
  },
  {
   "cell_type": "code",
   "execution_count": 8,
   "id": "1055b8c3",
   "metadata": {
    "execution": {
     "iopub.execute_input": "2021-08-02T23:23:58.140820Z",
     "iopub.status.busy": "2021-08-02T23:23:58.139686Z",
     "iopub.status.idle": "2021-08-02T23:23:58.144118Z",
     "shell.execute_reply": "2021-08-02T23:23:58.144677Z",
     "shell.execute_reply.started": "2021-08-02T23:17:41.291651Z"
    },
    "papermill": {
     "duration": 0.03532,
     "end_time": "2021-08-02T23:23:58.144890",
     "exception": false,
     "start_time": "2021-08-02T23:23:58.109570",
     "status": "completed"
    },
    "tags": []
   },
   "outputs": [],
   "source": [
    "#q2.hint()"
   ]
  },
  {
   "cell_type": "code",
   "execution_count": 9,
   "id": "7625cdf6",
   "metadata": {
    "execution": {
     "iopub.execute_input": "2021-08-02T23:23:58.200113Z",
     "iopub.status.busy": "2021-08-02T23:23:58.199051Z",
     "iopub.status.idle": "2021-08-02T23:23:58.204587Z",
     "shell.execute_reply": "2021-08-02T23:23:58.204017Z"
    },
    "papermill": {
     "duration": 0.034801,
     "end_time": "2021-08-02T23:23:58.204765",
     "exception": false,
     "start_time": "2021-08-02T23:23:58.169964",
     "status": "completed"
    },
    "tags": []
   },
   "outputs": [],
   "source": [
    "#q2.solution()"
   ]
  },
  {
   "cell_type": "markdown",
   "id": "9fac13d8",
   "metadata": {
    "papermill": {
     "duration": 0.026699,
     "end_time": "2021-08-02T23:23:58.257973",
     "exception": false,
     "start_time": "2021-08-02T23:23:58.231274",
     "status": "completed"
    },
    "tags": []
   },
   "source": [
    "<hr/>\n",
    "\n",
    "# 3a.\n",
    "\n",
    "Add parentheses to the following expression so that it evaluates to 1."
   ]
  },
  {
   "cell_type": "code",
   "execution_count": 10,
   "id": "e1ff7549",
   "metadata": {
    "execution": {
     "iopub.execute_input": "2021-08-02T23:23:58.312910Z",
     "iopub.status.busy": "2021-08-02T23:23:58.312182Z",
     "iopub.status.idle": "2021-08-02T23:23:58.318329Z",
     "shell.execute_reply": "2021-08-02T23:23:58.317702Z",
     "shell.execute_reply.started": "2021-08-02T23:19:26.829475Z"
    },
    "papermill": {
     "duration": 0.034503,
     "end_time": "2021-08-02T23:23:58.318541",
     "exception": false,
     "start_time": "2021-08-02T23:23:58.284038",
     "status": "completed"
    },
    "tags": []
   },
   "outputs": [
    {
     "data": {
      "text/plain": [
       "1"
      ]
     },
     "execution_count": 10,
     "metadata": {},
     "output_type": "execute_result"
    }
   ],
   "source": [
    "(5 - 3) // 2"
   ]
  },
  {
   "cell_type": "code",
   "execution_count": 11,
   "id": "41fd58c7",
   "metadata": {
    "execution": {
     "iopub.execute_input": "2021-08-02T23:23:58.377267Z",
     "iopub.status.busy": "2021-08-02T23:23:58.376202Z",
     "iopub.status.idle": "2021-08-02T23:23:58.378562Z",
     "shell.execute_reply": "2021-08-02T23:23:58.379054Z"
    },
    "papermill": {
     "duration": 0.034701,
     "end_time": "2021-08-02T23:23:58.379244",
     "exception": false,
     "start_time": "2021-08-02T23:23:58.344543",
     "status": "completed"
    },
    "tags": []
   },
   "outputs": [],
   "source": [
    "#q3.a.hint()"
   ]
  },
  {
   "cell_type": "code",
   "execution_count": 12,
   "id": "4ad305f9",
   "metadata": {
    "execution": {
     "iopub.execute_input": "2021-08-02T23:23:58.438678Z",
     "iopub.status.busy": "2021-08-02T23:23:58.437709Z",
     "iopub.status.idle": "2021-08-02T23:23:58.445732Z",
     "shell.execute_reply": "2021-08-02T23:23:58.446219Z",
     "shell.execute_reply.started": "2021-08-02T23:19:40.006198Z"
    },
    "papermill": {
     "duration": 0.039936,
     "end_time": "2021-08-02T23:23:58.446409",
     "exception": false,
     "start_time": "2021-08-02T23:23:58.406473",
     "status": "completed"
    },
    "tags": []
   },
   "outputs": [
    {
     "data": {
      "application/javascript": [
       "parent.postMessage({\"jupyterEvent\": \"custom.exercise_interaction\", \"data\": {\"interactionType\": 3, \"questionType\": 4, \"questionId\": \"3.1_ArithmeticParensEasy\", \"learnToolsVersion\": \"0.3.4\", \"valueTowardsCompletion\": 0.0, \"failureMessage\": \"\", \"exceptionClass\": \"\", \"trace\": \"\", \"outcomeType\": 4}}, \"*\")"
      ],
      "text/plain": [
       "<IPython.core.display.Javascript object>"
      ]
     },
     "metadata": {},
     "output_type": "display_data"
    },
    {
     "data": {
      "text/markdown": [
       "<span style=\"color:#33cc99\">Solution:</span> \n",
       "```python\n",
       "(5 - 3) // 2\n",
       "```"
      ],
      "text/plain": [
       "Solution: \n",
       "```python\n",
       "(5 - 3) // 2\n",
       "```"
      ]
     },
     "metadata": {},
     "output_type": "display_data"
    }
   ],
   "source": [
    "# Check your answer (Run this code cell to receive credit!)\n",
    "q3.a.solution()"
   ]
  },
  {
   "cell_type": "markdown",
   "id": "24150f8e",
   "metadata": {
    "papermill": {
     "duration": 0.028296,
     "end_time": "2021-08-02T23:23:58.503192",
     "exception": false,
     "start_time": "2021-08-02T23:23:58.474896",
     "status": "completed"
    },
    "tags": []
   },
   "source": [
    "# 3b.  <span title=\"A bit spicy\" style=\"color: darkgreen \">🌶️</span>\n",
    "\n",
    "<small>Questions, like this one, marked a spicy pepper are a bit harder.</small>\n",
    "\n",
    "Add parentheses to the following expression so that it evaluates to 0."
   ]
  },
  {
   "cell_type": "code",
   "execution_count": 13,
   "id": "7a8942e5",
   "metadata": {
    "execution": {
     "iopub.execute_input": "2021-08-02T23:23:58.562837Z",
     "iopub.status.busy": "2021-08-02T23:23:58.561805Z",
     "iopub.status.idle": "2021-08-02T23:23:58.568542Z",
     "shell.execute_reply": "2021-08-02T23:23:58.569184Z",
     "shell.execute_reply.started": "2021-08-02T23:20:41.345543Z"
    },
    "papermill": {
     "duration": 0.039114,
     "end_time": "2021-08-02T23:23:58.569454",
     "exception": false,
     "start_time": "2021-08-02T23:23:58.530340",
     "status": "completed"
    },
    "tags": []
   },
   "outputs": [
    {
     "data": {
      "text/plain": [
       "0"
      ]
     },
     "execution_count": 13,
     "metadata": {},
     "output_type": "execute_result"
    }
   ],
   "source": [
    "(8 - 3) * (2 - (1 + 1))"
   ]
  },
  {
   "cell_type": "code",
   "execution_count": 14,
   "id": "9b596571",
   "metadata": {
    "execution": {
     "iopub.execute_input": "2021-08-02T23:23:58.630337Z",
     "iopub.status.busy": "2021-08-02T23:23:58.629353Z",
     "iopub.status.idle": "2021-08-02T23:23:58.632916Z",
     "shell.execute_reply": "2021-08-02T23:23:58.633435Z"
    },
    "papermill": {
     "duration": 0.036113,
     "end_time": "2021-08-02T23:23:58.633683",
     "exception": false,
     "start_time": "2021-08-02T23:23:58.597570",
     "status": "completed"
    },
    "tags": []
   },
   "outputs": [],
   "source": [
    "#q3.b.hint()"
   ]
  },
  {
   "cell_type": "code",
   "execution_count": 15,
   "id": "261ff89e",
   "metadata": {
    "execution": {
     "iopub.execute_input": "2021-08-02T23:23:58.694419Z",
     "iopub.status.busy": "2021-08-02T23:23:58.693389Z",
     "iopub.status.idle": "2021-08-02T23:23:58.701240Z",
     "shell.execute_reply": "2021-08-02T23:23:58.701778Z",
     "shell.execute_reply.started": "2021-08-02T23:20:46.217028Z"
    },
    "papermill": {
     "duration": 0.040179,
     "end_time": "2021-08-02T23:23:58.701989",
     "exception": false,
     "start_time": "2021-08-02T23:23:58.661810",
     "status": "completed"
    },
    "tags": []
   },
   "outputs": [
    {
     "data": {
      "application/javascript": [
       "parent.postMessage({\"jupyterEvent\": \"custom.exercise_interaction\", \"data\": {\"interactionType\": 3, \"questionType\": 4, \"questionId\": \"3.2_ArithmeticParensHard\", \"learnToolsVersion\": \"0.3.4\", \"valueTowardsCompletion\": 0.0, \"failureMessage\": \"\", \"exceptionClass\": \"\", \"trace\": \"\", \"outcomeType\": 4}}, \"*\")"
      ],
      "text/plain": [
       "<IPython.core.display.Javascript object>"
      ]
     },
     "metadata": {},
     "output_type": "display_data"
    },
    {
     "data": {
      "text/markdown": [
       "<span style=\"color:#33cc99\">Solution:</span> `(8 - 3) * (2 - (1 + 1))` is one solution. There may be others."
      ],
      "text/plain": [
       "Solution: `(8 - 3) * (2 - (1 + 1))` is one solution. There may be others."
      ]
     },
     "metadata": {},
     "output_type": "display_data"
    }
   ],
   "source": [
    "# Check your answer (Run this code cell to receive credit!)\n",
    "q3.b.solution()"
   ]
  },
  {
   "cell_type": "markdown",
   "id": "16bc004d",
   "metadata": {
    "papermill": {
     "duration": 0.029704,
     "end_time": "2021-08-02T23:23:58.761112",
     "exception": false,
     "start_time": "2021-08-02T23:23:58.731408",
     "status": "completed"
    },
    "tags": []
   },
   "source": [
    "<hr/>\n",
    "\n",
    "# 4. \n",
    "Alice, Bob and Carol have agreed to pool their Halloween candy and split it evenly among themselves.\n",
    "For the sake of their friendship, any candies left over will be smashed. For example, if they collectively\n",
    "bring home 91 candies, they'll take 30 each and smash 1.\n",
    "\n",
    "Write an arithmetic expression below to calculate how many candies they must smash for a given haul."
   ]
  },
  {
   "cell_type": "code",
   "execution_count": 16,
   "id": "e124a4c8",
   "metadata": {
    "execution": {
     "iopub.execute_input": "2021-08-02T23:23:58.822868Z",
     "iopub.status.busy": "2021-08-02T23:23:58.821762Z",
     "iopub.status.idle": "2021-08-02T23:23:58.832049Z",
     "shell.execute_reply": "2021-08-02T23:23:58.831358Z",
     "shell.execute_reply.started": "2021-08-02T23:23:00.311196Z"
    },
    "papermill": {
     "duration": 0.042017,
     "end_time": "2021-08-02T23:23:58.832214",
     "exception": false,
     "start_time": "2021-08-02T23:23:58.790197",
     "status": "completed"
    },
    "tags": []
   },
   "outputs": [
    {
     "data": {
      "application/javascript": [
       "parent.postMessage({\"jupyterEvent\": \"custom.exercise_interaction\", \"data\": {\"outcomeType\": 1, \"valueTowardsCompletion\": 0.25, \"interactionType\": 1, \"questionType\": 1, \"questionId\": \"4_CandySplitting\", \"learnToolsVersion\": \"0.3.4\", \"failureMessage\": \"\", \"exceptionClass\": \"\", \"trace\": \"\"}}, \"*\")"
      ],
      "text/plain": [
       "<IPython.core.display.Javascript object>"
      ]
     },
     "metadata": {},
     "output_type": "display_data"
    },
    {
     "data": {
      "text/markdown": [
       "<span style=\"color:#33cc33\">Correct</span>"
      ],
      "text/plain": [
       "Correct"
      ]
     },
     "metadata": {},
     "output_type": "display_data"
    }
   ],
   "source": [
    "# Variables representing the number of candies collected by alice, bob, and carol\n",
    "alice_candies = 121\n",
    "bob_candies = 77\n",
    "carol_candies = 109\n",
    "\n",
    "# Your code goes here! Replace the right-hand side of this assignment with an expression\n",
    "# involving alice_candies, bob_candies, and carol_candies\n",
    "to_smash = (alice_candies+bob_candies+carol_candies)%3\n",
    "\n",
    "# Check your answer\n",
    "q4.check()"
   ]
  },
  {
   "cell_type": "code",
   "execution_count": 17,
   "id": "e5c603df",
   "metadata": {
    "execution": {
     "iopub.execute_input": "2021-08-02T23:23:58.894533Z",
     "iopub.status.busy": "2021-08-02T23:23:58.893823Z",
     "iopub.status.idle": "2021-08-02T23:23:58.897307Z",
     "shell.execute_reply": "2021-08-02T23:23:58.896762Z"
    },
    "papermill": {
     "duration": 0.036646,
     "end_time": "2021-08-02T23:23:58.897450",
     "exception": false,
     "start_time": "2021-08-02T23:23:58.860804",
     "status": "completed"
    },
    "tags": []
   },
   "outputs": [],
   "source": [
    "#q4.hint()\n",
    "#q4.solution()"
   ]
  },
  {
   "cell_type": "markdown",
   "id": "3d8b8537",
   "metadata": {
    "papermill": {
     "duration": 0.028211,
     "end_time": "2021-08-02T23:23:58.955096",
     "exception": false,
     "start_time": "2021-08-02T23:23:58.926885",
     "status": "completed"
    },
    "tags": []
   },
   "source": [
    "# Keep Going\n",
    "\n",
    "Next up, you'll **[learn to write new functions and understand functions others write](https://www.kaggle.com/colinmorris/functions-and-getting-help)**. This will make you at least 10 times more productive as a Python programmer. "
   ]
  },
  {
   "cell_type": "markdown",
   "id": "b84a51d0",
   "metadata": {
    "papermill": {
     "duration": 0.035703,
     "end_time": "2021-08-02T23:23:59.022384",
     "exception": false,
     "start_time": "2021-08-02T23:23:58.986681",
     "status": "completed"
    },
    "tags": []
   },
   "source": [
    "---\n",
    "\n",
    "\n",
    "\n",
    "\n",
    "*Have questions or comments? Visit the [Learn Discussion forum](https://www.kaggle.com/learn-forum/161283) to chat with other Learners.*"
   ]
  }
 ],
 "metadata": {
  "kernelspec": {
   "display_name": "Python 3",
   "language": "python",
   "name": "python3"
  },
  "language_info": {
   "codemirror_mode": {
    "name": "ipython",
    "version": 3
   },
   "file_extension": ".py",
   "mimetype": "text/x-python",
   "name": "python",
   "nbconvert_exporter": "python",
   "pygments_lexer": "ipython3",
   "version": "3.7.10"
  },
  "papermill": {
   "default_parameters": {},
   "duration": 11.800573,
   "end_time": "2021-08-02T23:24:00.826483",
   "environment_variables": {},
   "exception": null,
   "input_path": "__notebook__.ipynb",
   "output_path": "__notebook__.ipynb",
   "parameters": {},
   "start_time": "2021-08-02T23:23:49.025910",
   "version": "2.3.3"
  }
 },
 "nbformat": 4,
 "nbformat_minor": 5
}
