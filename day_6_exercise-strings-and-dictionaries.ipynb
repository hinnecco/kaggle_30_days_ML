{
 "cells": [
  {
   "cell_type": "markdown",
   "id": "df9102ce",
   "metadata": {
    "papermill": {
     "duration": 0.016851,
     "end_time": "2021-08-07T00:03:36.418111",
     "exception": false,
     "start_time": "2021-08-07T00:03:36.401260",
     "status": "completed"
    },
    "tags": []
   },
   "source": [
    "**This notebook is an exercise in the [Python](https://www.kaggle.com/learn/python) course.  You can reference the tutorial at [this link](https://www.kaggle.com/colinmorris/strings-and-dictionaries).**\n",
    "\n",
    "---\n"
   ]
  },
  {
   "cell_type": "markdown",
   "id": "981d5be1",
   "metadata": {
    "papermill": {
     "duration": 0.015527,
     "end_time": "2021-08-07T00:03:36.449817",
     "exception": false,
     "start_time": "2021-08-07T00:03:36.434290",
     "status": "completed"
    },
    "tags": []
   },
   "source": [
    "You are almost done with the course. Nice job!\n",
    "\n",
    "We have a couple more interesting problems for you before you go. \n",
    "\n",
    "As always, run the setup code below before working on the questions."
   ]
  },
  {
   "cell_type": "code",
   "execution_count": 1,
   "id": "1261cefd",
   "metadata": {
    "execution": {
     "iopub.execute_input": "2021-08-07T00:03:36.492921Z",
     "iopub.status.busy": "2021-08-07T00:03:36.492165Z",
     "iopub.status.idle": "2021-08-07T00:03:36.630840Z",
     "shell.execute_reply": "2021-08-07T00:03:36.630106Z",
     "shell.execute_reply.started": "2021-08-06T23:44:56.142553Z"
    },
    "papermill": {
     "duration": 0.165229,
     "end_time": "2021-08-07T00:03:36.631017",
     "exception": false,
     "start_time": "2021-08-07T00:03:36.465788",
     "status": "completed"
    },
    "tags": []
   },
   "outputs": [
    {
     "name": "stdout",
     "output_type": "stream",
     "text": [
      "Setup complete.\n"
     ]
    }
   ],
   "source": [
    "from learntools.core import binder; binder.bind(globals())\n",
    "from learntools.python.ex6 import *\n",
    "print('Setup complete.')"
   ]
  },
  {
   "cell_type": "markdown",
   "id": "75cc5c10",
   "metadata": {
    "papermill": {
     "duration": 0.016026,
     "end_time": "2021-08-07T00:03:36.663654",
     "exception": false,
     "start_time": "2021-08-07T00:03:36.647628",
     "status": "completed"
    },
    "tags": []
   },
   "source": [
    "Let's start with a string lightning round to warm up. What are the lengths of the strings below?\n",
    "\n",
    "For each of the five strings below, predict what `len()` would return when passed that string. Use the variable `length` to record your answer, then run the cell to check whether you were right.  \n",
    "\n",
    "# 0a."
   ]
  },
  {
   "cell_type": "code",
   "execution_count": 2,
   "id": "783d3f6f",
   "metadata": {
    "execution": {
     "iopub.execute_input": "2021-08-07T00:03:36.703995Z",
     "iopub.status.busy": "2021-08-07T00:03:36.703330Z",
     "iopub.status.idle": "2021-08-07T00:03:36.709536Z",
     "shell.execute_reply": "2021-08-07T00:03:36.708938Z",
     "shell.execute_reply.started": "2021-08-06T23:44:59.252590Z"
    },
    "papermill": {
     "duration": 0.029787,
     "end_time": "2021-08-07T00:03:36.709666",
     "exception": false,
     "start_time": "2021-08-07T00:03:36.679879",
     "status": "completed"
    },
    "tags": []
   },
   "outputs": [
    {
     "data": {
      "application/javascript": [
       "parent.postMessage({\"jupyterEvent\": \"custom.exercise_interaction\", \"data\": {\"outcomeType\": 1, \"valueTowardsCompletion\": 0.3333333333333333, \"interactionType\": 1, \"questionType\": 1, \"questionId\": \"0.1_ZA\", \"learnToolsVersion\": \"0.3.4\", \"failureMessage\": \"\", \"exceptionClass\": \"\", \"trace\": \"\"}}, \"*\")"
      ],
      "text/plain": [
       "<IPython.core.display.Javascript object>"
      ]
     },
     "metadata": {},
     "output_type": "display_data"
    },
    {
     "data": {
      "text/markdown": [
       "<span style=\"color:#33cc33\">Correct:</span> \n",
       "\n",
       "The empty string has length zero. Note that the empty string is also the only string that Python considers as False when converting to boolean."
      ],
      "text/plain": [
       "Correct: \n",
       "\n",
       "The empty string has length zero. Note that the empty string is also the only string that Python considers as False when converting to boolean."
      ]
     },
     "metadata": {},
     "output_type": "display_data"
    }
   ],
   "source": [
    "a = \"\"\n",
    "length = 0\n",
    "q0.a.check()"
   ]
  },
  {
   "cell_type": "markdown",
   "id": "80903db2",
   "metadata": {
    "papermill": {
     "duration": 0.016767,
     "end_time": "2021-08-07T00:03:36.743851",
     "exception": false,
     "start_time": "2021-08-07T00:03:36.727084",
     "status": "completed"
    },
    "tags": []
   },
   "source": [
    "# 0b."
   ]
  },
  {
   "cell_type": "code",
   "execution_count": 3,
   "id": "5031d59e",
   "metadata": {
    "execution": {
     "iopub.execute_input": "2021-08-07T00:03:36.783678Z",
     "iopub.status.busy": "2021-08-07T00:03:36.782994Z",
     "iopub.status.idle": "2021-08-07T00:03:36.789772Z",
     "shell.execute_reply": "2021-08-07T00:03:36.789304Z",
     "shell.execute_reply.started": "2021-08-06T23:45:01.251605Z"
    },
    "papermill": {
     "duration": 0.028764,
     "end_time": "2021-08-07T00:03:36.789923",
     "exception": false,
     "start_time": "2021-08-07T00:03:36.761159",
     "status": "completed"
    },
    "tags": []
   },
   "outputs": [
    {
     "data": {
      "application/javascript": [
       "parent.postMessage({\"jupyterEvent\": \"custom.exercise_interaction\", \"data\": {\"outcomeType\": 1, \"valueTowardsCompletion\": 0.3333333333333333, \"interactionType\": 1, \"questionType\": 1, \"questionId\": \"0.2_ZB\", \"learnToolsVersion\": \"0.3.4\", \"failureMessage\": \"\", \"exceptionClass\": \"\", \"trace\": \"\"}}, \"*\")"
      ],
      "text/plain": [
       "<IPython.core.display.Javascript object>"
      ]
     },
     "metadata": {},
     "output_type": "display_data"
    },
    {
     "data": {
      "text/markdown": [
       "<span style=\"color:#33cc33\">Correct:</span> \n",
       "\n",
       "Keep in mind Python includes spaces (and punctuation) when counting string length."
      ],
      "text/plain": [
       "Correct: \n",
       "\n",
       "Keep in mind Python includes spaces (and punctuation) when counting string length."
      ]
     },
     "metadata": {},
     "output_type": "display_data"
    }
   ],
   "source": [
    "b = \"it's ok\"\n",
    "length = 7\n",
    "q0.b.check()"
   ]
  },
  {
   "cell_type": "markdown",
   "id": "bd7807fc",
   "metadata": {
    "papermill": {
     "duration": 0.018139,
     "end_time": "2021-08-07T00:03:36.826179",
     "exception": false,
     "start_time": "2021-08-07T00:03:36.808040",
     "status": "completed"
    },
    "tags": []
   },
   "source": [
    "# 0c."
   ]
  },
  {
   "cell_type": "code",
   "execution_count": 4,
   "id": "e9db0a55",
   "metadata": {
    "execution": {
     "iopub.execute_input": "2021-08-07T00:03:36.868433Z",
     "iopub.status.busy": "2021-08-07T00:03:36.867610Z",
     "iopub.status.idle": "2021-08-07T00:03:36.872749Z",
     "shell.execute_reply": "2021-08-07T00:03:36.873251Z",
     "shell.execute_reply.started": "2021-08-06T23:45:03.069108Z"
    },
    "papermill": {
     "duration": 0.028767,
     "end_time": "2021-08-07T00:03:36.873416",
     "exception": false,
     "start_time": "2021-08-07T00:03:36.844649",
     "status": "completed"
    },
    "tags": []
   },
   "outputs": [
    {
     "data": {
      "application/javascript": [
       "parent.postMessage({\"jupyterEvent\": \"custom.exercise_interaction\", \"data\": {\"outcomeType\": 1, \"valueTowardsCompletion\": 0.3333333333333333, \"interactionType\": 1, \"questionType\": 1, \"questionId\": \"0.3_ZC\", \"learnToolsVersion\": \"0.3.4\", \"failureMessage\": \"\", \"exceptionClass\": \"\", \"trace\": \"\"}}, \"*\")"
      ],
      "text/plain": [
       "<IPython.core.display.Javascript object>"
      ]
     },
     "metadata": {},
     "output_type": "display_data"
    },
    {
     "data": {
      "text/markdown": [
       "<span style=\"color:#33cc33\">Correct:</span> \n",
       "\n",
       "Even though we use different syntax to create it, the string `c` is identical to `b`. In particular, note that the backslash is not part of the string, so it doesn't contribute to its length."
      ],
      "text/plain": [
       "Correct: \n",
       "\n",
       "Even though we use different syntax to create it, the string `c` is identical to `b`. In particular, note that the backslash is not part of the string, so it doesn't contribute to its length."
      ]
     },
     "metadata": {},
     "output_type": "display_data"
    }
   ],
   "source": [
    "c = 'it\\'s ok'\n",
    "length = 7\n",
    "q0.c.check()"
   ]
  },
  {
   "cell_type": "markdown",
   "id": "cf31f5ce",
   "metadata": {
    "papermill": {
     "duration": 0.018955,
     "end_time": "2021-08-07T00:03:36.911777",
     "exception": false,
     "start_time": "2021-08-07T00:03:36.892822",
     "status": "completed"
    },
    "tags": []
   },
   "source": [
    "# 0d."
   ]
  },
  {
   "cell_type": "code",
   "execution_count": 5,
   "id": "2e0e24b1",
   "metadata": {
    "execution": {
     "iopub.execute_input": "2021-08-07T00:03:36.953743Z",
     "iopub.status.busy": "2021-08-07T00:03:36.952779Z",
     "iopub.status.idle": "2021-08-07T00:03:36.960648Z",
     "shell.execute_reply": "2021-08-07T00:03:36.961176Z",
     "shell.execute_reply.started": "2021-08-06T23:45:05.174814Z"
    },
    "papermill": {
     "duration": 0.030397,
     "end_time": "2021-08-07T00:03:36.961348",
     "exception": false,
     "start_time": "2021-08-07T00:03:36.930951",
     "status": "completed"
    },
    "tags": []
   },
   "outputs": [
    {
     "data": {
      "application/javascript": [
       "parent.postMessage({\"jupyterEvent\": \"custom.exercise_interaction\", \"data\": {\"outcomeType\": 1, \"valueTowardsCompletion\": 0.3333333333333333, \"interactionType\": 1, \"questionType\": 1, \"questionId\": \"0.4_ZD\", \"learnToolsVersion\": \"0.3.4\", \"failureMessage\": \"\", \"exceptionClass\": \"\", \"trace\": \"\"}}, \"*\")"
      ],
      "text/plain": [
       "<IPython.core.display.Javascript object>"
      ]
     },
     "metadata": {},
     "output_type": "display_data"
    },
    {
     "data": {
      "text/markdown": [
       "<span style=\"color:#33cc33\">Correct:</span> \n",
       "\n",
       "The fact that this string was created using triple-quote syntax doesn't make any difference in terms of its content or length. This string is exactly the same as `'hey'`."
      ],
      "text/plain": [
       "Correct: \n",
       "\n",
       "The fact that this string was created using triple-quote syntax doesn't make any difference in terms of its content or length. This string is exactly the same as `'hey'`."
      ]
     },
     "metadata": {},
     "output_type": "display_data"
    }
   ],
   "source": [
    "d = \"\"\"hey\"\"\"\n",
    "length = 3\n",
    "q0.d.check()"
   ]
  },
  {
   "cell_type": "markdown",
   "id": "4ef01dc9",
   "metadata": {
    "papermill": {
     "duration": 0.020162,
     "end_time": "2021-08-07T00:03:37.001612",
     "exception": false,
     "start_time": "2021-08-07T00:03:36.981450",
     "status": "completed"
    },
    "tags": []
   },
   "source": [
    "# 0e."
   ]
  },
  {
   "cell_type": "code",
   "execution_count": 6,
   "id": "8d564afc",
   "metadata": {
    "execution": {
     "iopub.execute_input": "2021-08-07T00:03:37.059424Z",
     "iopub.status.busy": "2021-08-07T00:03:37.058500Z",
     "iopub.status.idle": "2021-08-07T00:03:37.064910Z",
     "shell.execute_reply": "2021-08-07T00:03:37.064392Z",
     "shell.execute_reply.started": "2021-08-06T23:45:07.068830Z"
    },
    "papermill": {
     "duration": 0.037537,
     "end_time": "2021-08-07T00:03:37.065068",
     "exception": false,
     "start_time": "2021-08-07T00:03:37.027531",
     "status": "completed"
    },
    "tags": []
   },
   "outputs": [
    {
     "data": {
      "application/javascript": [
       "parent.postMessage({\"jupyterEvent\": \"custom.exercise_interaction\", \"data\": {\"outcomeType\": 1, \"valueTowardsCompletion\": 0.3333333333333333, \"interactionType\": 1, \"questionType\": 1, \"questionId\": \"0.5_ZE\", \"learnToolsVersion\": \"0.3.4\", \"failureMessage\": \"\", \"exceptionClass\": \"\", \"trace\": \"\"}}, \"*\")"
      ],
      "text/plain": [
       "<IPython.core.display.Javascript object>"
      ]
     },
     "metadata": {},
     "output_type": "display_data"
    },
    {
     "data": {
      "text/markdown": [
       "<span style=\"color:#33cc33\">Correct:</span> \n",
       "\n",
       "The newline character is just a single character! (Even though we represent it to Python using a combination of two characters.)"
      ],
      "text/plain": [
       "Correct: \n",
       "\n",
       "The newline character is just a single character! (Even though we represent it to Python using a combination of two characters.)"
      ]
     },
     "metadata": {},
     "output_type": "display_data"
    }
   ],
   "source": [
    "e = '\\n'\n",
    "length = 1\n",
    "q0.e.check()"
   ]
  },
  {
   "cell_type": "markdown",
   "id": "ac513125",
   "metadata": {
    "papermill": {
     "duration": 0.022021,
     "end_time": "2021-08-07T00:03:37.109173",
     "exception": false,
     "start_time": "2021-08-07T00:03:37.087152",
     "status": "completed"
    },
    "tags": []
   },
   "source": [
    "# 1.\n",
    "\n",
    "There is a saying that \"Data scientists spend 80% of their time cleaning data, and 20% of their time complaining about cleaning data.\" Let's see if you can write a function to help clean US zip code data. Given a string, it should return whether or not that string represents a valid zip code. For our purposes, a valid zip code is any string consisting of exactly 5 digits.\n",
    "\n",
    "HINT: `str` has a method that will be useful here. Use `help(str)` to review a list of string methods."
   ]
  },
  {
   "cell_type": "code",
   "execution_count": 7,
   "id": "bc6627a4",
   "metadata": {
    "execution": {
     "iopub.execute_input": "2021-08-07T00:03:37.162747Z",
     "iopub.status.busy": "2021-08-07T00:03:37.161786Z",
     "iopub.status.idle": "2021-08-07T00:03:37.170426Z",
     "shell.execute_reply": "2021-08-07T00:03:37.171052Z",
     "shell.execute_reply.started": "2021-08-06T23:45:10.117199Z"
    },
    "papermill": {
     "duration": 0.038156,
     "end_time": "2021-08-07T00:03:37.171225",
     "exception": false,
     "start_time": "2021-08-07T00:03:37.133069",
     "status": "completed"
    },
    "tags": []
   },
   "outputs": [
    {
     "data": {
      "application/javascript": [
       "parent.postMessage({\"jupyterEvent\": \"custom.exercise_interaction\", \"data\": {\"outcomeType\": 1, \"valueTowardsCompletion\": 0.3333333333333333, \"interactionType\": 1, \"questionType\": 2, \"questionId\": \"1_ZipValidator\", \"learnToolsVersion\": \"0.3.4\", \"failureMessage\": \"\", \"exceptionClass\": \"\", \"trace\": \"\"}}, \"*\")"
      ],
      "text/plain": [
       "<IPython.core.display.Javascript object>"
      ]
     },
     "metadata": {},
     "output_type": "display_data"
    },
    {
     "data": {
      "text/markdown": [
       "<span style=\"color:#33cc33\">Correct</span>"
      ],
      "text/plain": [
       "Correct"
      ]
     },
     "metadata": {},
     "output_type": "display_data"
    }
   ],
   "source": [
    "def is_valid_zip(zip_code):\n",
    "    \"\"\"Returns whether the input string is a valid (5 digit) zip code\n",
    "    \"\"\"\n",
    "    return len(zip_code) == 5 and zip_code.isdigit()\n",
    "\n",
    "# Check your answer\n",
    "q1.check()"
   ]
  },
  {
   "cell_type": "code",
   "execution_count": 8,
   "id": "d439c87d",
   "metadata": {
    "execution": {
     "iopub.execute_input": "2021-08-07T00:03:37.219595Z",
     "iopub.status.busy": "2021-08-07T00:03:37.218601Z",
     "iopub.status.idle": "2021-08-07T00:03:37.222250Z",
     "shell.execute_reply": "2021-08-07T00:03:37.222816Z",
     "shell.execute_reply.started": "2021-08-06T21:12:14.637634Z"
    },
    "papermill": {
     "duration": 0.029423,
     "end_time": "2021-08-07T00:03:37.223019",
     "exception": false,
     "start_time": "2021-08-07T00:03:37.193596",
     "status": "completed"
    },
    "tags": []
   },
   "outputs": [],
   "source": [
    "#q1.hint()\n",
    "#q1.solution()"
   ]
  },
  {
   "cell_type": "markdown",
   "id": "de708505",
   "metadata": {
    "papermill": {
     "duration": 0.027414,
     "end_time": "2021-08-07T00:03:37.273384",
     "exception": false,
     "start_time": "2021-08-07T00:03:37.245970",
     "status": "completed"
    },
    "tags": []
   },
   "source": [
    "# 2.\n",
    "\n",
    "A researcher has gathered thousands of news articles. But she wants to focus her attention on articles including a specific word. Complete the function below to help her filter her list of articles.\n",
    "\n",
    "Your function should meet the following criteria:\n",
    "\n",
    "- Do not include documents where the keyword string shows up only as a part of a larger word. For example, if she were looking for the keyword “closed”, you would not include the string “enclosed.” \n",
    "- She does not want you to distinguish upper case from lower case letters. So the phrase “Closed the case.” would be included when the keyword is “closed”\n",
    "- Do not let periods or commas affect what is matched. “It is closed.” would be included when the keyword is “closed”. But you can assume there are no other types of punctuation."
   ]
  },
  {
   "cell_type": "code",
   "execution_count": 9,
   "id": "6ea90a6c",
   "metadata": {
    "execution": {
     "iopub.execute_input": "2021-08-07T00:03:37.333995Z",
     "iopub.status.busy": "2021-08-07T00:03:37.333054Z",
     "iopub.status.idle": "2021-08-07T00:03:37.338686Z",
     "shell.execute_reply": "2021-08-07T00:03:37.337926Z",
     "shell.execute_reply.started": "2021-08-06T23:59:16.403756Z"
    },
    "papermill": {
     "duration": 0.040581,
     "end_time": "2021-08-07T00:03:37.338868",
     "exception": false,
     "start_time": "2021-08-07T00:03:37.298287",
     "status": "completed"
    },
    "tags": []
   },
   "outputs": [
    {
     "data": {
      "application/javascript": [
       "parent.postMessage({\"jupyterEvent\": \"custom.exercise_interaction\", \"data\": {\"outcomeType\": 1, \"valueTowardsCompletion\": 0.3333333333333333, \"interactionType\": 1, \"questionType\": 2, \"questionId\": \"2_WordSearch\", \"learnToolsVersion\": \"0.3.4\", \"failureMessage\": \"\", \"exceptionClass\": \"\", \"trace\": \"\"}}, \"*\")"
      ],
      "text/plain": [
       "<IPython.core.display.Javascript object>"
      ]
     },
     "metadata": {},
     "output_type": "display_data"
    },
    {
     "data": {
      "text/markdown": [
       "<span style=\"color:#33cc33\">Correct</span>"
      ],
      "text/plain": [
       "Correct"
      ]
     },
     "metadata": {},
     "output_type": "display_data"
    }
   ],
   "source": [
    "def word_search(doc_list, keyword):\n",
    "    \"\"\"\n",
    "    Takes a list of documents (each document is a string) and a keyword. \n",
    "    Returns list of the index values into the original list for all documents \n",
    "    containing the keyword.\n",
    "\n",
    "    Example:\n",
    "    doc_list = [\"The Learn Python Challenge Casino.\", \"They bought a car\", \"Casinoville\"]\n",
    "    >>> word_search(doc_list, 'casino')\n",
    "    >>> [0]\n",
    "    \"\"\"\n",
    "    auxResult = []\n",
    "    for i in range(len(doc_list)):\n",
    "        auxlist = doc_list[i].split(' ')\n",
    "        count = 0\n",
    "        for word in auxlist:\n",
    "            if word.upper().strip('.').strip(',') == keyword.upper():\n",
    "                count = count + 1\n",
    "        if count > 0:\n",
    "            auxResult.append(i)\n",
    "                \n",
    "    return auxResult\n",
    "# Check your answer\n",
    "q2.check()"
   ]
  },
  {
   "cell_type": "code",
   "execution_count": 10,
   "id": "c2714b65",
   "metadata": {
    "execution": {
     "iopub.execute_input": "2021-08-07T00:03:37.393386Z",
     "iopub.status.busy": "2021-08-07T00:03:37.392304Z",
     "iopub.status.idle": "2021-08-07T00:03:37.395241Z",
     "shell.execute_reply": "2021-08-07T00:03:37.394620Z",
     "shell.execute_reply.started": "2021-08-06T23:47:22.476182Z"
    },
    "papermill": {
     "duration": 0.029813,
     "end_time": "2021-08-07T00:03:37.395391",
     "exception": false,
     "start_time": "2021-08-07T00:03:37.365578",
     "status": "completed"
    },
    "tags": []
   },
   "outputs": [],
   "source": [
    "#q2.hint()\n",
    "#q2.solution()"
   ]
  },
  {
   "cell_type": "markdown",
   "id": "65267b1d",
   "metadata": {
    "papermill": {
     "duration": 0.022993,
     "end_time": "2021-08-07T00:03:37.441264",
     "exception": false,
     "start_time": "2021-08-07T00:03:37.418271",
     "status": "completed"
    },
    "tags": []
   },
   "source": [
    "# 3.\n",
    "\n",
    "Now the researcher wants to supply multiple keywords to search for. Complete the function below to help her.\n",
    "\n",
    "(You're encouraged to use the `word_search` function you just wrote when implementing this function. Reusing code in this way makes your programs more robust and readable - and it saves typing!)"
   ]
  },
  {
   "cell_type": "code",
   "execution_count": 11,
   "id": "95806f92",
   "metadata": {
    "execution": {
     "iopub.execute_input": "2021-08-07T00:03:37.490963Z",
     "iopub.status.busy": "2021-08-07T00:03:37.489992Z",
     "iopub.status.idle": "2021-08-07T00:03:37.499079Z",
     "shell.execute_reply": "2021-08-07T00:03:37.499591Z",
     "shell.execute_reply.started": "2021-08-07T00:03:06.086758Z"
    },
    "papermill": {
     "duration": 0.035306,
     "end_time": "2021-08-07T00:03:37.499759",
     "exception": false,
     "start_time": "2021-08-07T00:03:37.464453",
     "status": "completed"
    },
    "tags": []
   },
   "outputs": [
    {
     "data": {
      "application/javascript": [
       "parent.postMessage({\"jupyterEvent\": \"custom.exercise_interaction\", \"data\": {\"outcomeType\": 1, \"valueTowardsCompletion\": 0.3333333333333333, \"interactionType\": 1, \"questionType\": 2, \"questionId\": \"3_MultiWordSearch\", \"learnToolsVersion\": \"0.3.4\", \"failureMessage\": \"\", \"exceptionClass\": \"\", \"trace\": \"\"}}, \"*\")"
      ],
      "text/plain": [
       "<IPython.core.display.Javascript object>"
      ]
     },
     "metadata": {},
     "output_type": "display_data"
    },
    {
     "data": {
      "text/markdown": [
       "<span style=\"color:#33cc33\">Correct</span>"
      ],
      "text/plain": [
       "Correct"
      ]
     },
     "metadata": {},
     "output_type": "display_data"
    }
   ],
   "source": [
    "def multi_word_search(doc_list, keywords):\n",
    "    \"\"\"\n",
    "    Takes list of documents (each document is a string) and a list of keywords.  \n",
    "    Returns a dictionary where each key is a keyword, and the value is a list of indices\n",
    "    (from doc_list) of the documents containing that keyword\n",
    "\n",
    "    >>> doc_list = [\"The Learn Python Challenge Casino.\", \"They bought a car and a casino\", \"Casinoville\"]\n",
    "    >>> keywords = ['casino', 'they']\n",
    "    >>> multi_word_search(doc_list, keywords)\n",
    "    {'casino': [0, 1], 'they': [1]}\n",
    "    \"\"\"\n",
    "    dictResult = {}\n",
    "    for key in keywords:\n",
    "        dictResult[key] = word_search(doc_list,key)\n",
    "    return dictResult\n",
    "# Check your answer\n",
    "q3.check()"
   ]
  },
  {
   "cell_type": "code",
   "execution_count": 12,
   "id": "0ee79d2f",
   "metadata": {
    "execution": {
     "iopub.execute_input": "2021-08-07T00:03:37.551587Z",
     "iopub.status.busy": "2021-08-07T00:03:37.550644Z",
     "iopub.status.idle": "2021-08-07T00:03:37.556128Z",
     "shell.execute_reply": "2021-08-07T00:03:37.555288Z"
    },
    "papermill": {
     "duration": 0.032536,
     "end_time": "2021-08-07T00:03:37.556322",
     "exception": false,
     "start_time": "2021-08-07T00:03:37.523786",
     "status": "completed"
    },
    "tags": []
   },
   "outputs": [],
   "source": [
    "#q3.solution()"
   ]
  },
  {
   "cell_type": "markdown",
   "id": "88744420",
   "metadata": {
    "papermill": {
     "duration": 0.032294,
     "end_time": "2021-08-07T00:03:37.624131",
     "exception": false,
     "start_time": "2021-08-07T00:03:37.591837",
     "status": "completed"
    },
    "tags": []
   },
   "source": [
    "# Keep Going\n",
    "\n",
    "You've learned a lot. But even the best programmers rely heavily on \"libraries\" of code from other programmers. You'll learn about that in **[the last lesson](https://www.kaggle.com/colinmorris/working-with-external-libraries)**.\n"
   ]
  },
  {
   "cell_type": "markdown",
   "id": "b6e692f4",
   "metadata": {
    "papermill": {
     "duration": 0.031298,
     "end_time": "2021-08-07T00:03:37.693481",
     "exception": false,
     "start_time": "2021-08-07T00:03:37.662183",
     "status": "completed"
    },
    "tags": []
   },
   "source": [
    "---\n",
    "\n",
    "\n",
    "\n",
    "\n",
    "*Have questions or comments? Visit the [Learn Discussion forum](https://www.kaggle.com/learn-forum/161283) to chat with other Learners.*"
   ]
  }
 ],
 "metadata": {
  "kernelspec": {
   "display_name": "Python 3",
   "language": "python",
   "name": "python3"
  },
  "language_info": {
   "codemirror_mode": {
    "name": "ipython",
    "version": 3
   },
   "file_extension": ".py",
   "mimetype": "text/x-python",
   "name": "python",
   "nbconvert_exporter": "python",
   "pygments_lexer": "ipython3",
   "version": "3.7.10"
  },
  "papermill": {
   "default_parameters": {},
   "duration": 10.741949,
   "end_time": "2021-08-07T00:03:39.134058",
   "environment_variables": {},
   "exception": null,
   "input_path": "__notebook__.ipynb",
   "output_path": "__notebook__.ipynb",
   "parameters": {},
   "start_time": "2021-08-07T00:03:28.392109",
   "version": "2.3.3"
  }
 },
 "nbformat": 4,
 "nbformat_minor": 5
}
