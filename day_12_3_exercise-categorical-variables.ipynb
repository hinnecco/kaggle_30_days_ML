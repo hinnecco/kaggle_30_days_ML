{
 "cells": [
  {
   "cell_type": "markdown",
   "id": "348f2af9",
   "metadata": {
    "papermill": {
     "duration": 0.032097,
     "end_time": "2021-08-16T14:25:37.539799",
     "exception": false,
     "start_time": "2021-08-16T14:25:37.507702",
     "status": "completed"
    },
    "tags": []
   },
   "source": [
    "**This notebook is an exercise in the [Intermediate Machine Learning](https://www.kaggle.com/learn/intermediate-machine-learning) course.  You can reference the tutorial at [this link](https://www.kaggle.com/alexisbcook/categorical-variables).**\n",
    "\n",
    "---\n"
   ]
  },
  {
   "cell_type": "markdown",
   "id": "ce3552b4",
   "metadata": {
    "papermill": {
     "duration": 0.029503,
     "end_time": "2021-08-16T14:25:37.601491",
     "exception": false,
     "start_time": "2021-08-16T14:25:37.571988",
     "status": "completed"
    },
    "tags": []
   },
   "source": [
    "By encoding **categorical variables**, you'll obtain your best results thus far!\n",
    "\n",
    "# Setup\n",
    "\n",
    "The questions below will give you feedback on your work. Run the following cell to set up the feedback system."
   ]
  },
  {
   "cell_type": "code",
   "execution_count": 1,
   "id": "7f9b5b04",
   "metadata": {
    "execution": {
     "iopub.execute_input": "2021-08-16T14:25:37.666972Z",
     "iopub.status.busy": "2021-08-16T14:25:37.665681Z",
     "iopub.status.idle": "2021-08-16T14:25:37.808043Z",
     "shell.execute_reply": "2021-08-16T14:25:37.807248Z",
     "shell.execute_reply.started": "2021-08-16T14:05:02.387583Z"
    },
    "papermill": {
     "duration": 0.175738,
     "end_time": "2021-08-16T14:25:37.808233",
     "exception": false,
     "start_time": "2021-08-16T14:25:37.632495",
     "status": "completed"
    },
    "tags": []
   },
   "outputs": [
    {
     "name": "stdout",
     "output_type": "stream",
     "text": [
      "Setup Complete\n"
     ]
    }
   ],
   "source": [
    "# Set up code checking\n",
    "import os\n",
    "if not os.path.exists(\"../input/train.csv\"):\n",
    "    os.symlink(\"../input/home-data-for-ml-course/train.csv\", \"../input/train.csv\")  \n",
    "    os.symlink(\"../input/home-data-for-ml-course/test.csv\", \"../input/test.csv\") \n",
    "from learntools.core import binder\n",
    "binder.bind(globals())\n",
    "from learntools.ml_intermediate.ex3 import *\n",
    "print(\"Setup Complete\")"
   ]
  },
  {
   "cell_type": "markdown",
   "id": "6c05eefb",
   "metadata": {
    "papermill": {
     "duration": 0.031512,
     "end_time": "2021-08-16T14:25:37.871224",
     "exception": false,
     "start_time": "2021-08-16T14:25:37.839712",
     "status": "completed"
    },
    "tags": []
   },
   "source": [
    "In this exercise, you will work with data from the [Housing Prices Competition for Kaggle Learn Users](https://www.kaggle.com/c/home-data-for-ml-course). \n",
    "\n",
    "![Ames Housing dataset image](https://i.imgur.com/lTJVG4e.png)\n",
    "\n",
    "Run the next code cell without changes to load the training and validation sets in `X_train`, `X_valid`, `y_train`, and `y_valid`.  The test set is loaded in `X_test`."
   ]
  },
  {
   "cell_type": "code",
   "execution_count": 2,
   "id": "8afe0a41",
   "metadata": {
    "execution": {
     "iopub.execute_input": "2021-08-16T14:25:37.940925Z",
     "iopub.status.busy": "2021-08-16T14:25:37.940211Z",
     "iopub.status.idle": "2021-08-16T14:25:39.092999Z",
     "shell.execute_reply": "2021-08-16T14:25:39.092304Z",
     "shell.execute_reply.started": "2021-08-16T14:05:14.337034Z"
    },
    "papermill": {
     "duration": 1.192054,
     "end_time": "2021-08-16T14:25:39.093157",
     "exception": false,
     "start_time": "2021-08-16T14:25:37.901103",
     "status": "completed"
    },
    "tags": []
   },
   "outputs": [],
   "source": [
    "import pandas as pd\n",
    "from sklearn.model_selection import train_test_split\n",
    "\n",
    "# Read the data\n",
    "X = pd.read_csv('../input/train.csv', index_col='Id') \n",
    "X_test = pd.read_csv('../input/test.csv', index_col='Id')\n",
    "\n",
    "# Remove rows with missing target, separate target from predictors\n",
    "X.dropna(axis=0, subset=['SalePrice'], inplace=True)\n",
    "y = X.SalePrice\n",
    "X.drop(['SalePrice'], axis=1, inplace=True)\n",
    "\n",
    "# To keep things simple, we'll drop columns with missing values\n",
    "cols_with_missing = [col for col in X.columns if X[col].isnull().any()] \n",
    "X.drop(cols_with_missing, axis=1, inplace=True)\n",
    "X_test.drop(cols_with_missing, axis=1, inplace=True)\n",
    "\n",
    "# Break off validation set from training data\n",
    "X_train, X_valid, y_train, y_valid = train_test_split(X, y,\n",
    "                                                      train_size=0.8, test_size=0.2,\n",
    "                                                      random_state=0)"
   ]
  },
  {
   "cell_type": "markdown",
   "id": "ad036ea1",
   "metadata": {
    "papermill": {
     "duration": 0.031677,
     "end_time": "2021-08-16T14:25:39.155018",
     "exception": false,
     "start_time": "2021-08-16T14:25:39.123341",
     "status": "completed"
    },
    "tags": []
   },
   "source": [
    "Use the next code cell to print the first five rows of the data."
   ]
  },
  {
   "cell_type": "code",
   "execution_count": 3,
   "id": "eef3077e",
   "metadata": {
    "execution": {
     "iopub.execute_input": "2021-08-16T14:25:39.225694Z",
     "iopub.status.busy": "2021-08-16T14:25:39.224779Z",
     "iopub.status.idle": "2021-08-16T14:25:39.251672Z",
     "shell.execute_reply": "2021-08-16T14:25:39.252205Z",
     "shell.execute_reply.started": "2021-08-16T14:05:18.772286Z"
    },
    "papermill": {
     "duration": 0.067163,
     "end_time": "2021-08-16T14:25:39.252383",
     "exception": false,
     "start_time": "2021-08-16T14:25:39.185220",
     "status": "completed"
    },
    "tags": []
   },
   "outputs": [
    {
     "data": {
      "text/html": [
       "<div>\n",
       "<style scoped>\n",
       "    .dataframe tbody tr th:only-of-type {\n",
       "        vertical-align: middle;\n",
       "    }\n",
       "\n",
       "    .dataframe tbody tr th {\n",
       "        vertical-align: top;\n",
       "    }\n",
       "\n",
       "    .dataframe thead th {\n",
       "        text-align: right;\n",
       "    }\n",
       "</style>\n",
       "<table border=\"1\" class=\"dataframe\">\n",
       "  <thead>\n",
       "    <tr style=\"text-align: right;\">\n",
       "      <th></th>\n",
       "      <th>MSSubClass</th>\n",
       "      <th>MSZoning</th>\n",
       "      <th>LotArea</th>\n",
       "      <th>Street</th>\n",
       "      <th>LotShape</th>\n",
       "      <th>LandContour</th>\n",
       "      <th>Utilities</th>\n",
       "      <th>LotConfig</th>\n",
       "      <th>LandSlope</th>\n",
       "      <th>Neighborhood</th>\n",
       "      <th>...</th>\n",
       "      <th>OpenPorchSF</th>\n",
       "      <th>EnclosedPorch</th>\n",
       "      <th>3SsnPorch</th>\n",
       "      <th>ScreenPorch</th>\n",
       "      <th>PoolArea</th>\n",
       "      <th>MiscVal</th>\n",
       "      <th>MoSold</th>\n",
       "      <th>YrSold</th>\n",
       "      <th>SaleType</th>\n",
       "      <th>SaleCondition</th>\n",
       "    </tr>\n",
       "    <tr>\n",
       "      <th>Id</th>\n",
       "      <th></th>\n",
       "      <th></th>\n",
       "      <th></th>\n",
       "      <th></th>\n",
       "      <th></th>\n",
       "      <th></th>\n",
       "      <th></th>\n",
       "      <th></th>\n",
       "      <th></th>\n",
       "      <th></th>\n",
       "      <th></th>\n",
       "      <th></th>\n",
       "      <th></th>\n",
       "      <th></th>\n",
       "      <th></th>\n",
       "      <th></th>\n",
       "      <th></th>\n",
       "      <th></th>\n",
       "      <th></th>\n",
       "      <th></th>\n",
       "      <th></th>\n",
       "    </tr>\n",
       "  </thead>\n",
       "  <tbody>\n",
       "    <tr>\n",
       "      <th>619</th>\n",
       "      <td>20</td>\n",
       "      <td>RL</td>\n",
       "      <td>11694</td>\n",
       "      <td>Pave</td>\n",
       "      <td>Reg</td>\n",
       "      <td>Lvl</td>\n",
       "      <td>AllPub</td>\n",
       "      <td>Inside</td>\n",
       "      <td>Gtl</td>\n",
       "      <td>NridgHt</td>\n",
       "      <td>...</td>\n",
       "      <td>108</td>\n",
       "      <td>0</td>\n",
       "      <td>0</td>\n",
       "      <td>260</td>\n",
       "      <td>0</td>\n",
       "      <td>0</td>\n",
       "      <td>7</td>\n",
       "      <td>2007</td>\n",
       "      <td>New</td>\n",
       "      <td>Partial</td>\n",
       "    </tr>\n",
       "    <tr>\n",
       "      <th>871</th>\n",
       "      <td>20</td>\n",
       "      <td>RL</td>\n",
       "      <td>6600</td>\n",
       "      <td>Pave</td>\n",
       "      <td>Reg</td>\n",
       "      <td>Lvl</td>\n",
       "      <td>AllPub</td>\n",
       "      <td>Inside</td>\n",
       "      <td>Gtl</td>\n",
       "      <td>NAmes</td>\n",
       "      <td>...</td>\n",
       "      <td>0</td>\n",
       "      <td>0</td>\n",
       "      <td>0</td>\n",
       "      <td>0</td>\n",
       "      <td>0</td>\n",
       "      <td>0</td>\n",
       "      <td>8</td>\n",
       "      <td>2009</td>\n",
       "      <td>WD</td>\n",
       "      <td>Normal</td>\n",
       "    </tr>\n",
       "    <tr>\n",
       "      <th>93</th>\n",
       "      <td>30</td>\n",
       "      <td>RL</td>\n",
       "      <td>13360</td>\n",
       "      <td>Pave</td>\n",
       "      <td>IR1</td>\n",
       "      <td>HLS</td>\n",
       "      <td>AllPub</td>\n",
       "      <td>Inside</td>\n",
       "      <td>Gtl</td>\n",
       "      <td>Crawfor</td>\n",
       "      <td>...</td>\n",
       "      <td>0</td>\n",
       "      <td>44</td>\n",
       "      <td>0</td>\n",
       "      <td>0</td>\n",
       "      <td>0</td>\n",
       "      <td>0</td>\n",
       "      <td>8</td>\n",
       "      <td>2009</td>\n",
       "      <td>WD</td>\n",
       "      <td>Normal</td>\n",
       "    </tr>\n",
       "    <tr>\n",
       "      <th>818</th>\n",
       "      <td>20</td>\n",
       "      <td>RL</td>\n",
       "      <td>13265</td>\n",
       "      <td>Pave</td>\n",
       "      <td>IR1</td>\n",
       "      <td>Lvl</td>\n",
       "      <td>AllPub</td>\n",
       "      <td>CulDSac</td>\n",
       "      <td>Gtl</td>\n",
       "      <td>Mitchel</td>\n",
       "      <td>...</td>\n",
       "      <td>59</td>\n",
       "      <td>0</td>\n",
       "      <td>0</td>\n",
       "      <td>0</td>\n",
       "      <td>0</td>\n",
       "      <td>0</td>\n",
       "      <td>7</td>\n",
       "      <td>2008</td>\n",
       "      <td>WD</td>\n",
       "      <td>Normal</td>\n",
       "    </tr>\n",
       "    <tr>\n",
       "      <th>303</th>\n",
       "      <td>20</td>\n",
       "      <td>RL</td>\n",
       "      <td>13704</td>\n",
       "      <td>Pave</td>\n",
       "      <td>IR1</td>\n",
       "      <td>Lvl</td>\n",
       "      <td>AllPub</td>\n",
       "      <td>Corner</td>\n",
       "      <td>Gtl</td>\n",
       "      <td>CollgCr</td>\n",
       "      <td>...</td>\n",
       "      <td>81</td>\n",
       "      <td>0</td>\n",
       "      <td>0</td>\n",
       "      <td>0</td>\n",
       "      <td>0</td>\n",
       "      <td>0</td>\n",
       "      <td>1</td>\n",
       "      <td>2006</td>\n",
       "      <td>WD</td>\n",
       "      <td>Normal</td>\n",
       "    </tr>\n",
       "  </tbody>\n",
       "</table>\n",
       "<p>5 rows × 60 columns</p>\n",
       "</div>"
      ],
      "text/plain": [
       "     MSSubClass MSZoning  LotArea Street LotShape LandContour Utilities  \\\n",
       "Id                                                                        \n",
       "619          20       RL    11694   Pave      Reg         Lvl    AllPub   \n",
       "871          20       RL     6600   Pave      Reg         Lvl    AllPub   \n",
       "93           30       RL    13360   Pave      IR1         HLS    AllPub   \n",
       "818          20       RL    13265   Pave      IR1         Lvl    AllPub   \n",
       "303          20       RL    13704   Pave      IR1         Lvl    AllPub   \n",
       "\n",
       "    LotConfig LandSlope Neighborhood  ... OpenPorchSF EnclosedPorch 3SsnPorch  \\\n",
       "Id                                    ...                                       \n",
       "619    Inside       Gtl      NridgHt  ...         108             0         0   \n",
       "871    Inside       Gtl        NAmes  ...           0             0         0   \n",
       "93     Inside       Gtl      Crawfor  ...           0            44         0   \n",
       "818   CulDSac       Gtl      Mitchel  ...          59             0         0   \n",
       "303    Corner       Gtl      CollgCr  ...          81             0         0   \n",
       "\n",
       "    ScreenPorch  PoolArea  MiscVal  MoSold  YrSold SaleType SaleCondition  \n",
       "Id                                                                         \n",
       "619         260         0        0       7    2007      New       Partial  \n",
       "871           0         0        0       8    2009       WD        Normal  \n",
       "93            0         0        0       8    2009       WD        Normal  \n",
       "818           0         0        0       7    2008       WD        Normal  \n",
       "303           0         0        0       1    2006       WD        Normal  \n",
       "\n",
       "[5 rows x 60 columns]"
      ]
     },
     "execution_count": 3,
     "metadata": {},
     "output_type": "execute_result"
    }
   ],
   "source": [
    "X_train.head()"
   ]
  },
  {
   "cell_type": "markdown",
   "id": "3b897e7c",
   "metadata": {
    "papermill": {
     "duration": 0.030265,
     "end_time": "2021-08-16T14:25:39.314425",
     "exception": false,
     "start_time": "2021-08-16T14:25:39.284160",
     "status": "completed"
    },
    "tags": []
   },
   "source": [
    "Notice that the dataset contains both numerical and categorical variables.  You'll need to encode the categorical data before training a model.\n",
    "\n",
    "To compare different models, you'll use the same `score_dataset()` function from the tutorial.  This function reports the [mean absolute error](https://en.wikipedia.org/wiki/Mean_absolute_error) (MAE) from a random forest model."
   ]
  },
  {
   "cell_type": "code",
   "execution_count": 4,
   "id": "ef0b71dd",
   "metadata": {
    "execution": {
     "iopub.execute_input": "2021-08-16T14:25:39.382296Z",
     "iopub.status.busy": "2021-08-16T14:25:39.381523Z",
     "iopub.status.idle": "2021-08-16T14:25:39.577465Z",
     "shell.execute_reply": "2021-08-16T14:25:39.576870Z",
     "shell.execute_reply.started": "2021-08-16T14:05:49.441840Z"
    },
    "papermill": {
     "duration": 0.232094,
     "end_time": "2021-08-16T14:25:39.577622",
     "exception": false,
     "start_time": "2021-08-16T14:25:39.345528",
     "status": "completed"
    },
    "tags": []
   },
   "outputs": [],
   "source": [
    "from sklearn.ensemble import RandomForestRegressor\n",
    "from sklearn.metrics import mean_absolute_error\n",
    "\n",
    "# function for comparing different approaches\n",
    "def score_dataset(X_train, X_valid, y_train, y_valid):\n",
    "    model = RandomForestRegressor(n_estimators=100, random_state=0)\n",
    "    model.fit(X_train, y_train)\n",
    "    preds = model.predict(X_valid)\n",
    "    return mean_absolute_error(y_valid, preds)"
   ]
  },
  {
   "cell_type": "markdown",
   "id": "30ca7494",
   "metadata": {
    "papermill": {
     "duration": 0.030454,
     "end_time": "2021-08-16T14:25:39.639169",
     "exception": false,
     "start_time": "2021-08-16T14:25:39.608715",
     "status": "completed"
    },
    "tags": []
   },
   "source": [
    "# Step 1: Drop columns with categorical data\n",
    "\n",
    "You'll get started with the most straightforward approach.  Use the code cell below to preprocess the data in `X_train` and `X_valid` to remove columns with categorical data.  Set the preprocessed DataFrames to `drop_X_train` and `drop_X_valid`, respectively.  "
   ]
  },
  {
   "cell_type": "code",
   "execution_count": 5,
   "id": "7bff95e5",
   "metadata": {
    "execution": {
     "iopub.execute_input": "2021-08-16T14:25:39.712628Z",
     "iopub.status.busy": "2021-08-16T14:25:39.711598Z",
     "iopub.status.idle": "2021-08-16T14:25:39.718755Z",
     "shell.execute_reply": "2021-08-16T14:25:39.719245Z",
     "shell.execute_reply.started": "2021-08-16T14:06:48.976828Z"
    },
    "papermill": {
     "duration": 0.04973,
     "end_time": "2021-08-16T14:25:39.719430",
     "exception": false,
     "start_time": "2021-08-16T14:25:39.669700",
     "status": "completed"
    },
    "tags": []
   },
   "outputs": [
    {
     "data": {
      "application/javascript": [
       "parent.postMessage({\"jupyterEvent\": \"custom.exercise_interaction\", \"data\": {\"outcomeType\": 1, \"valueTowardsCompletion\": 0.5, \"interactionType\": 1, \"questionType\": 2, \"questionId\": \"1_Drop\", \"learnToolsVersion\": \"0.3.4\", \"failureMessage\": \"\", \"exceptionClass\": \"\", \"trace\": \"\"}}, \"*\")"
      ],
      "text/plain": [
       "<IPython.core.display.Javascript object>"
      ]
     },
     "metadata": {},
     "output_type": "display_data"
    },
    {
     "data": {
      "text/markdown": [
       "<span style=\"color:#33cc33\">Correct</span>"
      ],
      "text/plain": [
       "Correct"
      ]
     },
     "metadata": {},
     "output_type": "display_data"
    }
   ],
   "source": [
    "# Fill in the lines below: drop columns in training and validation data\n",
    "drop_X_train = X_train.select_dtypes(exclude=['object'])\n",
    "drop_X_valid = X_valid.select_dtypes(exclude=['object'])\n",
    "\n",
    "# Check your answers\n",
    "step_1.check()"
   ]
  },
  {
   "cell_type": "code",
   "execution_count": 6,
   "id": "c77faa4b",
   "metadata": {
    "execution": {
     "iopub.execute_input": "2021-08-16T14:25:39.788210Z",
     "iopub.status.busy": "2021-08-16T14:25:39.787191Z",
     "iopub.status.idle": "2021-08-16T14:25:39.790349Z",
     "shell.execute_reply": "2021-08-16T14:25:39.789788Z",
     "shell.execute_reply.started": "2021-08-16T14:06:52.788262Z"
    },
    "papermill": {
     "duration": 0.039089,
     "end_time": "2021-08-16T14:25:39.790492",
     "exception": false,
     "start_time": "2021-08-16T14:25:39.751403",
     "status": "completed"
    },
    "tags": []
   },
   "outputs": [],
   "source": [
    "# Lines below will give you a hint or solution code\n",
    "#step_1.hint()\n",
    "#step_1.solution()"
   ]
  },
  {
   "cell_type": "markdown",
   "id": "ba016943",
   "metadata": {
    "papermill": {
     "duration": 0.031698,
     "end_time": "2021-08-16T14:25:39.854228",
     "exception": false,
     "start_time": "2021-08-16T14:25:39.822530",
     "status": "completed"
    },
    "tags": []
   },
   "source": [
    "Run the next code cell to get the MAE for this approach."
   ]
  },
  {
   "cell_type": "code",
   "execution_count": 7,
   "id": "6bb177a5",
   "metadata": {
    "execution": {
     "iopub.execute_input": "2021-08-16T14:25:39.937835Z",
     "iopub.status.busy": "2021-08-16T14:25:39.932616Z",
     "iopub.status.idle": "2021-08-16T14:25:41.233395Z",
     "shell.execute_reply": "2021-08-16T14:25:41.232598Z",
     "shell.execute_reply.started": "2021-08-16T14:06:55.763348Z"
    },
    "papermill": {
     "duration": 1.347517,
     "end_time": "2021-08-16T14:25:41.233584",
     "exception": false,
     "start_time": "2021-08-16T14:25:39.886067",
     "status": "completed"
    },
    "tags": []
   },
   "outputs": [
    {
     "name": "stdout",
     "output_type": "stream",
     "text": [
      "MAE from Approach 1 (Drop categorical variables):\n",
      "17837.82570776256\n"
     ]
    }
   ],
   "source": [
    "print(\"MAE from Approach 1 (Drop categorical variables):\")\n",
    "print(score_dataset(drop_X_train, drop_X_valid, y_train, y_valid))"
   ]
  },
  {
   "cell_type": "markdown",
   "id": "da113d01",
   "metadata": {
    "papermill": {
     "duration": 0.033921,
     "end_time": "2021-08-16T14:25:41.311196",
     "exception": false,
     "start_time": "2021-08-16T14:25:41.277275",
     "status": "completed"
    },
    "tags": []
   },
   "source": [
    "Before jumping into ordinal encoding, we'll investigate the dataset.  Specifically, we'll look at the `'Condition2'` column.  The code cell below prints the unique entries in both the training and validation sets."
   ]
  },
  {
   "cell_type": "code",
   "execution_count": 8,
   "id": "46f514ad",
   "metadata": {
    "execution": {
     "iopub.execute_input": "2021-08-16T14:25:41.383054Z",
     "iopub.status.busy": "2021-08-16T14:25:41.382353Z",
     "iopub.status.idle": "2021-08-16T14:25:41.387492Z",
     "shell.execute_reply": "2021-08-16T14:25:41.388250Z",
     "shell.execute_reply.started": "2021-08-16T14:07:19.549211Z"
    },
    "papermill": {
     "duration": 0.044817,
     "end_time": "2021-08-16T14:25:41.388473",
     "exception": false,
     "start_time": "2021-08-16T14:25:41.343656",
     "status": "completed"
    },
    "tags": []
   },
   "outputs": [
    {
     "name": "stdout",
     "output_type": "stream",
     "text": [
      "Unique values in 'Condition2' column in training data: ['Norm' 'PosA' 'Feedr' 'PosN' 'Artery' 'RRAe']\n",
      "\n",
      "Unique values in 'Condition2' column in validation data: ['Norm' 'RRAn' 'RRNn' 'Artery' 'Feedr' 'PosN']\n"
     ]
    }
   ],
   "source": [
    "print(\"Unique values in 'Condition2' column in training data:\", X_train['Condition2'].unique())\n",
    "print(\"\\nUnique values in 'Condition2' column in validation data:\", X_valid['Condition2'].unique())"
   ]
  },
  {
   "cell_type": "markdown",
   "id": "a5ff916a",
   "metadata": {
    "papermill": {
     "duration": 0.03348,
     "end_time": "2021-08-16T14:25:41.455468",
     "exception": false,
     "start_time": "2021-08-16T14:25:41.421988",
     "status": "completed"
    },
    "tags": []
   },
   "source": [
    "# Step 2: Ordinal encoding\n",
    "\n",
    "### Part A\n",
    "\n",
    "If you now write code to: \n",
    "- fit an ordinal encoder to the training data, and then \n",
    "- use it to transform both the training and validation data, \n",
    "\n",
    "you'll get an error.  Can you see why this is the case?  (_You'll need  to use the above output to answer this question._)"
   ]
  },
  {
   "cell_type": "code",
   "execution_count": 9,
   "id": "1d8d2861",
   "metadata": {
    "execution": {
     "iopub.execute_input": "2021-08-16T14:25:41.525540Z",
     "iopub.status.busy": "2021-08-16T14:25:41.524660Z",
     "iopub.status.idle": "2021-08-16T14:25:41.533192Z",
     "shell.execute_reply": "2021-08-16T14:25:41.533732Z",
     "shell.execute_reply.started": "2021-08-16T14:08:32.005628Z"
    },
    "papermill": {
     "duration": 0.045322,
     "end_time": "2021-08-16T14:25:41.533907",
     "exception": false,
     "start_time": "2021-08-16T14:25:41.488585",
     "status": "completed"
    },
    "tags": []
   },
   "outputs": [
    {
     "data": {
      "application/javascript": [
       "parent.postMessage({\"jupyterEvent\": \"custom.exercise_interaction\", \"data\": {\"outcomeType\": 1, \"valueTowardsCompletion\": 0.5, \"interactionType\": 1, \"questionType\": 4, \"questionId\": \"2.1_LabelA\", \"learnToolsVersion\": \"0.3.4\", \"failureMessage\": \"\", \"exceptionClass\": \"\", \"trace\": \"\"}}, \"*\")"
      ],
      "text/plain": [
       "<IPython.core.display.Javascript object>"
      ]
     },
     "metadata": {},
     "output_type": "display_data"
    },
    {
     "data": {
      "text/markdown": [
       "<span style=\"color:#33cc33\">Correct:</span> \n",
       "\n",
       "Fitting an ordinal encoder to a column in the training data creates a corresponding integer-valued label for each unique value **that appears in the training data**. In the case that the validation data contains values that don't also appear in the training data, the encoder will throw an error, because these values won't have an integer assigned to them.  Notice that the `'Condition2'` column in the validation data contains the values `'RRAn'` and `'RRNn'`, but these don't appear in the training data -- thus, if we try to use an ordinal encoder with scikit-learn, the code will throw an error."
      ],
      "text/plain": [
       "Correct: \n",
       "\n",
       "Fitting an ordinal encoder to a column in the training data creates a corresponding integer-valued label for each unique value **that appears in the training data**. In the case that the validation data contains values that don't also appear in the training data, the encoder will throw an error, because these values won't have an integer assigned to them.  Notice that the `'Condition2'` column in the validation data contains the values `'RRAn'` and `'RRNn'`, but these don't appear in the training data -- thus, if we try to use an ordinal encoder with scikit-learn, the code will throw an error."
      ]
     },
     "metadata": {},
     "output_type": "display_data"
    }
   ],
   "source": [
    "# Check your answer (Run this code cell to receive credit!)\n",
    "step_2.a.check()"
   ]
  },
  {
   "cell_type": "code",
   "execution_count": 10,
   "id": "592634f7",
   "metadata": {
    "execution": {
     "iopub.execute_input": "2021-08-16T14:25:41.608787Z",
     "iopub.status.busy": "2021-08-16T14:25:41.607744Z",
     "iopub.status.idle": "2021-08-16T14:25:41.611233Z",
     "shell.execute_reply": "2021-08-16T14:25:41.610703Z",
     "shell.execute_reply.started": "2021-08-16T14:09:06.450751Z"
    },
    "papermill": {
     "duration": 0.042544,
     "end_time": "2021-08-16T14:25:41.611383",
     "exception": false,
     "start_time": "2021-08-16T14:25:41.568839",
     "status": "completed"
    },
    "tags": []
   },
   "outputs": [],
   "source": [
    "#step_2.a.hint()"
   ]
  },
  {
   "cell_type": "markdown",
   "id": "129606c3",
   "metadata": {
    "papermill": {
     "duration": 0.033934,
     "end_time": "2021-08-16T14:25:41.679218",
     "exception": false,
     "start_time": "2021-08-16T14:25:41.645284",
     "status": "completed"
    },
    "tags": []
   },
   "source": [
    "This is a common problem that you'll encounter with real-world data, and there are many approaches to fixing this issue.  For instance, you can write a custom ordinal encoder to deal with new categories.  The simplest approach, however, is to drop the problematic categorical columns.  \n",
    "\n",
    "Run the code cell below to save the problematic columns to a Python list `bad_label_cols`.  Likewise, columns that can be safely ordinal encoded are stored in `good_label_cols`."
   ]
  },
  {
   "cell_type": "code",
   "execution_count": 11,
   "id": "baa10d4e",
   "metadata": {
    "execution": {
     "iopub.execute_input": "2021-08-16T14:25:41.765523Z",
     "iopub.status.busy": "2021-08-16T14:25:41.764823Z",
     "iopub.status.idle": "2021-08-16T14:25:41.767565Z",
     "shell.execute_reply": "2021-08-16T14:25:41.768186Z",
     "shell.execute_reply.started": "2021-08-16T14:10:24.404507Z"
    },
    "papermill": {
     "duration": 0.052796,
     "end_time": "2021-08-16T14:25:41.768356",
     "exception": false,
     "start_time": "2021-08-16T14:25:41.715560",
     "status": "completed"
    },
    "tags": []
   },
   "outputs": [
    {
     "name": "stdout",
     "output_type": "stream",
     "text": [
      "Categorical columns that will be ordinal encoded: ['MSZoning', 'Street', 'LotShape', 'LandContour', 'Utilities', 'LotConfig', 'LandSlope', 'Neighborhood', 'Condition1', 'BldgType', 'HouseStyle', 'RoofStyle', 'Exterior1st', 'Exterior2nd', 'ExterQual', 'ExterCond', 'Foundation', 'Heating', 'HeatingQC', 'CentralAir', 'KitchenQual', 'PavedDrive', 'SaleType', 'SaleCondition']\n",
      "\n",
      "Categorical columns that will be dropped from the dataset: ['RoofMatl', 'Functional', 'Condition2']\n"
     ]
    }
   ],
   "source": [
    "# All categorical columns\n",
    "object_cols = [col for col in X_train.columns if X_train[col].dtype == \"object\"]\n",
    "\n",
    "# Columns that can be safely ordinal encoded\n",
    "good_label_cols = [col for col in object_cols if \n",
    "                   set(X_valid[col]).issubset(set(X_train[col]))]\n",
    "        \n",
    "# Problematic columns that will be dropped from the dataset\n",
    "bad_label_cols = list(set(object_cols)-set(good_label_cols))\n",
    "        \n",
    "print('Categorical columns that will be ordinal encoded:', good_label_cols)\n",
    "print('\\nCategorical columns that will be dropped from the dataset:', bad_label_cols)"
   ]
  },
  {
   "cell_type": "markdown",
   "id": "528f5c67",
   "metadata": {
    "papermill": {
     "duration": 0.034336,
     "end_time": "2021-08-16T14:25:41.837191",
     "exception": false,
     "start_time": "2021-08-16T14:25:41.802855",
     "status": "completed"
    },
    "tags": []
   },
   "source": [
    "### Part B\n",
    "\n",
    "Use the next code cell to ordinal encode the data in `X_train` and `X_valid`.  Set the preprocessed DataFrames to `label_X_train` and `label_X_valid`, respectively.  \n",
    "- We have provided code below to drop the categorical columns in `bad_label_cols` from the dataset. \n",
    "- You should ordinal encode the categorical columns in `good_label_cols`.  "
   ]
  },
  {
   "cell_type": "code",
   "execution_count": 12,
   "id": "a5def2e8",
   "metadata": {
    "execution": {
     "iopub.execute_input": "2021-08-16T14:25:41.909835Z",
     "iopub.status.busy": "2021-08-16T14:25:41.909159Z",
     "iopub.status.idle": "2021-08-16T14:25:41.974756Z",
     "shell.execute_reply": "2021-08-16T14:25:41.975293Z",
     "shell.execute_reply.started": "2021-08-16T14:12:45.215945Z"
    },
    "papermill": {
     "duration": 0.103974,
     "end_time": "2021-08-16T14:25:41.975471",
     "exception": false,
     "start_time": "2021-08-16T14:25:41.871497",
     "status": "completed"
    },
    "tags": []
   },
   "outputs": [
    {
     "data": {
      "application/javascript": [
       "parent.postMessage({\"jupyterEvent\": \"custom.exercise_interaction\", \"data\": {\"outcomeType\": 1, \"valueTowardsCompletion\": 0.5, \"interactionType\": 1, \"questionType\": 2, \"questionId\": \"2.2_LabelB\", \"learnToolsVersion\": \"0.3.4\", \"failureMessage\": \"\", \"exceptionClass\": \"\", \"trace\": \"\"}}, \"*\")"
      ],
      "text/plain": [
       "<IPython.core.display.Javascript object>"
      ]
     },
     "metadata": {},
     "output_type": "display_data"
    },
    {
     "data": {
      "text/markdown": [
       "<span style=\"color:#33cc33\">Correct</span>"
      ],
      "text/plain": [
       "Correct"
      ]
     },
     "metadata": {},
     "output_type": "display_data"
    }
   ],
   "source": [
    "from sklearn.preprocessing import OrdinalEncoder\n",
    "\n",
    "# Drop categorical columns that will not be encoded\n",
    "label_X_train = X_train.drop(bad_label_cols, axis=1)\n",
    "label_X_valid = X_valid.drop(bad_label_cols, axis=1)\n",
    "\n",
    "# Apply ordinal encoder \n",
    "ordinal_encoder = OrdinalEncoder()\n",
    "label_X_train[good_label_cols] = ordinal_encoder.fit_transform(X_train[good_label_cols])\n",
    "label_X_valid[good_label_cols] = ordinal_encoder.transform(X_valid[good_label_cols])\n",
    "    \n",
    "# Check your answer\n",
    "step_2.b.check()"
   ]
  },
  {
   "cell_type": "code",
   "execution_count": 13,
   "id": "8be30df7",
   "metadata": {
    "execution": {
     "iopub.execute_input": "2021-08-16T14:25:42.049891Z",
     "iopub.status.busy": "2021-08-16T14:25:42.049248Z",
     "iopub.status.idle": "2021-08-16T14:25:42.052574Z",
     "shell.execute_reply": "2021-08-16T14:25:42.053168Z",
     "shell.execute_reply.started": "2021-08-16T14:12:50.963064Z"
    },
    "papermill": {
     "duration": 0.042785,
     "end_time": "2021-08-16T14:25:42.053350",
     "exception": false,
     "start_time": "2021-08-16T14:25:42.010565",
     "status": "completed"
    },
    "tags": []
   },
   "outputs": [],
   "source": [
    "# Lines below will give you a hint or solution code\n",
    "#step_2.b.hint()\n",
    "#step_2.b.solution()"
   ]
  },
  {
   "cell_type": "markdown",
   "id": "09807251",
   "metadata": {
    "papermill": {
     "duration": 0.035621,
     "end_time": "2021-08-16T14:25:42.124736",
     "exception": false,
     "start_time": "2021-08-16T14:25:42.089115",
     "status": "completed"
    },
    "tags": []
   },
   "source": [
    "Run the next code cell to get the MAE for this approach."
   ]
  },
  {
   "cell_type": "code",
   "execution_count": 14,
   "id": "c54be483",
   "metadata": {
    "execution": {
     "iopub.execute_input": "2021-08-16T14:25:42.201941Z",
     "iopub.status.busy": "2021-08-16T14:25:42.201261Z",
     "iopub.status.idle": "2021-08-16T14:25:43.851153Z",
     "shell.execute_reply": "2021-08-16T14:25:43.850498Z",
     "shell.execute_reply.started": "2021-08-16T14:12:53.476782Z"
    },
    "papermill": {
     "duration": 1.688722,
     "end_time": "2021-08-16T14:25:43.851308",
     "exception": false,
     "start_time": "2021-08-16T14:25:42.162586",
     "status": "completed"
    },
    "tags": []
   },
   "outputs": [
    {
     "name": "stdout",
     "output_type": "stream",
     "text": [
      "MAE from Approach 2 (Ordinal Encoding):\n",
      "17098.01649543379\n"
     ]
    }
   ],
   "source": [
    "print(\"MAE from Approach 2 (Ordinal Encoding):\") \n",
    "print(score_dataset(label_X_train, label_X_valid, y_train, y_valid))"
   ]
  },
  {
   "cell_type": "markdown",
   "id": "eda07921",
   "metadata": {
    "papermill": {
     "duration": 0.038631,
     "end_time": "2021-08-16T14:25:43.927743",
     "exception": false,
     "start_time": "2021-08-16T14:25:43.889112",
     "status": "completed"
    },
    "tags": []
   },
   "source": [
    "So far, you've tried two different approaches to dealing with categorical variables.  And, you've seen that encoding categorical data yields better results than removing columns from the dataset.\n",
    "\n",
    "Soon, you'll try one-hot encoding.  Before then, there's one additional topic we need to cover.  Begin by running the next code cell without changes.  "
   ]
  },
  {
   "cell_type": "code",
   "execution_count": 15,
   "id": "aa3956ff",
   "metadata": {
    "execution": {
     "iopub.execute_input": "2021-08-16T14:25:44.008416Z",
     "iopub.status.busy": "2021-08-16T14:25:44.006541Z",
     "iopub.status.idle": "2021-08-16T14:25:44.023595Z",
     "shell.execute_reply": "2021-08-16T14:25:44.024127Z",
     "shell.execute_reply.started": "2021-08-16T14:13:34.364587Z"
    },
    "papermill": {
     "duration": 0.061064,
     "end_time": "2021-08-16T14:25:44.024322",
     "exception": false,
     "start_time": "2021-08-16T14:25:43.963258",
     "status": "completed"
    },
    "tags": []
   },
   "outputs": [
    {
     "data": {
      "text/plain": [
       "[('Street', 2),\n",
       " ('Utilities', 2),\n",
       " ('CentralAir', 2),\n",
       " ('LandSlope', 3),\n",
       " ('PavedDrive', 3),\n",
       " ('LotShape', 4),\n",
       " ('LandContour', 4),\n",
       " ('ExterQual', 4),\n",
       " ('KitchenQual', 4),\n",
       " ('MSZoning', 5),\n",
       " ('LotConfig', 5),\n",
       " ('BldgType', 5),\n",
       " ('ExterCond', 5),\n",
       " ('HeatingQC', 5),\n",
       " ('Condition2', 6),\n",
       " ('RoofStyle', 6),\n",
       " ('Foundation', 6),\n",
       " ('Heating', 6),\n",
       " ('Functional', 6),\n",
       " ('SaleCondition', 6),\n",
       " ('RoofMatl', 7),\n",
       " ('HouseStyle', 8),\n",
       " ('Condition1', 9),\n",
       " ('SaleType', 9),\n",
       " ('Exterior1st', 15),\n",
       " ('Exterior2nd', 16),\n",
       " ('Neighborhood', 25)]"
      ]
     },
     "execution_count": 15,
     "metadata": {},
     "output_type": "execute_result"
    }
   ],
   "source": [
    "# Get number of unique entries in each column with categorical data\n",
    "object_nunique = list(map(lambda col: X_train[col].nunique(), object_cols))\n",
    "d = dict(zip(object_cols, object_nunique))\n",
    "\n",
    "# Print number of unique entries by column, in ascending order\n",
    "sorted(d.items(), key=lambda x: x[1])"
   ]
  },
  {
   "cell_type": "markdown",
   "id": "97d8330c",
   "metadata": {
    "papermill": {
     "duration": 0.037484,
     "end_time": "2021-08-16T14:25:44.097868",
     "exception": false,
     "start_time": "2021-08-16T14:25:44.060384",
     "status": "completed"
    },
    "tags": []
   },
   "source": [
    "# Step 3: Investigating cardinality\n",
    "\n",
    "### Part A\n",
    "\n",
    "The output above shows, for each column with categorical data, the number of unique values in the column.  For instance, the `'Street'` column in the training data has two unique values: `'Grvl'` and `'Pave'`, corresponding to a gravel road and a paved road, respectively.\n",
    "\n",
    "We refer to the number of unique entries of a categorical variable as the **cardinality** of that categorical variable.  For instance, the `'Street'` variable has cardinality 2.\n",
    "\n",
    "Use the output above to answer the questions below."
   ]
  },
  {
   "cell_type": "code",
   "execution_count": 16,
   "id": "8937838a",
   "metadata": {
    "execution": {
     "iopub.execute_input": "2021-08-16T14:25:44.175420Z",
     "iopub.status.busy": "2021-08-16T14:25:44.174748Z",
     "iopub.status.idle": "2021-08-16T14:25:44.181544Z",
     "shell.execute_reply": "2021-08-16T14:25:44.182065Z",
     "shell.execute_reply.started": "2021-08-16T14:15:09.577365Z"
    },
    "papermill": {
     "duration": 0.048324,
     "end_time": "2021-08-16T14:25:44.182287",
     "exception": false,
     "start_time": "2021-08-16T14:25:44.133963",
     "status": "completed"
    },
    "tags": []
   },
   "outputs": [
    {
     "data": {
      "application/javascript": [
       "parent.postMessage({\"jupyterEvent\": \"custom.exercise_interaction\", \"data\": {\"outcomeType\": 1, \"valueTowardsCompletion\": 0.5, \"interactionType\": 1, \"questionType\": 1, \"questionId\": \"3.1_CardinalityA\", \"learnToolsVersion\": \"0.3.4\", \"failureMessage\": \"\", \"exceptionClass\": \"\", \"trace\": \"\"}}, \"*\")"
      ],
      "text/plain": [
       "<IPython.core.display.Javascript object>"
      ]
     },
     "metadata": {},
     "output_type": "display_data"
    },
    {
     "data": {
      "text/markdown": [
       "<span style=\"color:#33cc33\">Correct</span>"
      ],
      "text/plain": [
       "Correct"
      ]
     },
     "metadata": {},
     "output_type": "display_data"
    }
   ],
   "source": [
    "# Fill in the line below: How many categorical variables in the training data\n",
    "# have cardinality greater than 10?\n",
    "high_cardinality_numcols = 3\n",
    "\n",
    "# Fill in the line below: How many columns are needed to one-hot encode the \n",
    "# 'Neighborhood' variable in the training data?\n",
    "num_cols_neighborhood = 25\n",
    "\n",
    "# Check your answers\n",
    "step_3.a.check()"
   ]
  },
  {
   "cell_type": "code",
   "execution_count": 17,
   "id": "23bd7aaa",
   "metadata": {
    "execution": {
     "iopub.execute_input": "2021-08-16T14:25:44.260890Z",
     "iopub.status.busy": "2021-08-16T14:25:44.260064Z",
     "iopub.status.idle": "2021-08-16T14:25:44.264163Z",
     "shell.execute_reply": "2021-08-16T14:25:44.263564Z",
     "shell.execute_reply.started": "2021-08-16T14:15:12.942107Z"
    },
    "papermill": {
     "duration": 0.044701,
     "end_time": "2021-08-16T14:25:44.264319",
     "exception": false,
     "start_time": "2021-08-16T14:25:44.219618",
     "status": "completed"
    },
    "tags": []
   },
   "outputs": [],
   "source": [
    "# Lines below will give you a hint or solution code\n",
    "#step_3.a.hint()\n",
    "#step_3.a.solution()"
   ]
  },
  {
   "cell_type": "markdown",
   "id": "357ea0bd",
   "metadata": {
    "papermill": {
     "duration": 0.036632,
     "end_time": "2021-08-16T14:25:44.338806",
     "exception": false,
     "start_time": "2021-08-16T14:25:44.302174",
     "status": "completed"
    },
    "tags": []
   },
   "source": [
    "### Part B\n",
    "\n",
    "For large datasets with many rows, one-hot encoding can greatly expand the size of the dataset.  For this reason, we typically will only one-hot encode columns with relatively low cardinality.  Then, high cardinality columns can either be dropped from the dataset, or we can use ordinal encoding.\n",
    "\n",
    "As an example, consider a dataset with 10,000 rows, and containing one categorical column with 100 unique entries.  \n",
    "- If this column is replaced with the corresponding one-hot encoding, how many entries are added to the dataset?  \n",
    "- If we instead replace the column with the ordinal encoding, how many entries are added?  \n",
    "\n",
    "Use your answers to fill in the lines below."
   ]
  },
  {
   "cell_type": "code",
   "execution_count": 18,
   "id": "2b21bc13",
   "metadata": {
    "execution": {
     "iopub.execute_input": "2021-08-16T14:25:44.416312Z",
     "iopub.status.busy": "2021-08-16T14:25:44.415554Z",
     "iopub.status.idle": "2021-08-16T14:25:44.424223Z",
     "shell.execute_reply": "2021-08-16T14:25:44.424692Z",
     "shell.execute_reply.started": "2021-08-16T14:18:32.745815Z"
    },
    "papermill": {
     "duration": 0.04864,
     "end_time": "2021-08-16T14:25:44.424866",
     "exception": false,
     "start_time": "2021-08-16T14:25:44.376226",
     "status": "completed"
    },
    "tags": []
   },
   "outputs": [
    {
     "data": {
      "application/javascript": [
       "parent.postMessage({\"jupyterEvent\": \"custom.exercise_interaction\", \"data\": {\"outcomeType\": 1, \"valueTowardsCompletion\": 0.5, \"interactionType\": 1, \"questionType\": 1, \"questionId\": \"3.2_CardinalityB\", \"learnToolsVersion\": \"0.3.4\", \"failureMessage\": \"\", \"exceptionClass\": \"\", \"trace\": \"\"}}, \"*\")"
      ],
      "text/plain": [
       "<IPython.core.display.Javascript object>"
      ]
     },
     "metadata": {},
     "output_type": "display_data"
    },
    {
     "data": {
      "text/markdown": [
       "<span style=\"color:#33cc33\">Correct</span>"
      ],
      "text/plain": [
       "Correct"
      ]
     },
     "metadata": {},
     "output_type": "display_data"
    }
   ],
   "source": [
    "# Fill in the line below: How many entries are added to the dataset by \n",
    "# replacing the column with a one-hot encoding?\n",
    "OH_entries_added = 990000\n",
    "\n",
    "# Fill in the line below: How many entries are added to the dataset by\n",
    "# replacing the column with an ordinal encoding?\n",
    "label_entries_added = 0\n",
    "\n",
    "# Check your answers\n",
    "step_3.b.check()"
   ]
  },
  {
   "cell_type": "code",
   "execution_count": 19,
   "id": "b6f9b7ec",
   "metadata": {
    "execution": {
     "iopub.execute_input": "2021-08-16T14:25:44.506732Z",
     "iopub.status.busy": "2021-08-16T14:25:44.505964Z",
     "iopub.status.idle": "2021-08-16T14:25:44.509308Z",
     "shell.execute_reply": "2021-08-16T14:25:44.508662Z",
     "shell.execute_reply.started": "2021-08-16T14:18:40.798662Z"
    },
    "papermill": {
     "duration": 0.04609,
     "end_time": "2021-08-16T14:25:44.509449",
     "exception": false,
     "start_time": "2021-08-16T14:25:44.463359",
     "status": "completed"
    },
    "tags": []
   },
   "outputs": [],
   "source": [
    "# Lines below will give you a hint or solution code\n",
    "#step_3.b.hint()\n",
    "#step_3.b.solution()"
   ]
  },
  {
   "cell_type": "markdown",
   "id": "e3dae56c",
   "metadata": {
    "papermill": {
     "duration": 0.0392,
     "end_time": "2021-08-16T14:25:44.586534",
     "exception": false,
     "start_time": "2021-08-16T14:25:44.547334",
     "status": "completed"
    },
    "tags": []
   },
   "source": [
    "Next, you'll experiment with one-hot encoding.  But, instead of encoding all of the categorical variables in the dataset, you'll only create a one-hot encoding for columns with cardinality less than 10.\n",
    "\n",
    "Run the code cell below without changes to set `low_cardinality_cols` to a Python list containing the columns that will be one-hot encoded.  Likewise, `high_cardinality_cols` contains a list of categorical columns that will be dropped from the dataset."
   ]
  },
  {
   "cell_type": "code",
   "execution_count": 20,
   "id": "8f58478e",
   "metadata": {
    "execution": {
     "iopub.execute_input": "2021-08-16T14:25:44.665203Z",
     "iopub.status.busy": "2021-08-16T14:25:44.664463Z",
     "iopub.status.idle": "2021-08-16T14:25:44.681979Z",
     "shell.execute_reply": "2021-08-16T14:25:44.682487Z",
     "shell.execute_reply.started": "2021-08-16T14:19:10.710068Z"
    },
    "papermill": {
     "duration": 0.058359,
     "end_time": "2021-08-16T14:25:44.682685",
     "exception": false,
     "start_time": "2021-08-16T14:25:44.624326",
     "status": "completed"
    },
    "tags": []
   },
   "outputs": [
    {
     "name": "stdout",
     "output_type": "stream",
     "text": [
      "Categorical columns that will be one-hot encoded: ['MSZoning', 'Street', 'LotShape', 'LandContour', 'Utilities', 'LotConfig', 'LandSlope', 'Condition1', 'Condition2', 'BldgType', 'HouseStyle', 'RoofStyle', 'RoofMatl', 'ExterQual', 'ExterCond', 'Foundation', 'Heating', 'HeatingQC', 'CentralAir', 'KitchenQual', 'Functional', 'PavedDrive', 'SaleType', 'SaleCondition']\n",
      "\n",
      "Categorical columns that will be dropped from the dataset: ['Exterior1st', 'Exterior2nd', 'Neighborhood']\n"
     ]
    }
   ],
   "source": [
    "# Columns that will be one-hot encoded\n",
    "low_cardinality_cols = [col for col in object_cols if X_train[col].nunique() < 10]\n",
    "\n",
    "# Columns that will be dropped from the dataset\n",
    "high_cardinality_cols = list(set(object_cols)-set(low_cardinality_cols))\n",
    "\n",
    "print('Categorical columns that will be one-hot encoded:', low_cardinality_cols)\n",
    "print('\\nCategorical columns that will be dropped from the dataset:', high_cardinality_cols)"
   ]
  },
  {
   "cell_type": "markdown",
   "id": "b728056d",
   "metadata": {
    "papermill": {
     "duration": 0.037465,
     "end_time": "2021-08-16T14:25:44.758536",
     "exception": false,
     "start_time": "2021-08-16T14:25:44.721071",
     "status": "completed"
    },
    "tags": []
   },
   "source": [
    "# Step 4: One-hot encoding\n",
    "\n",
    "Use the next code cell to one-hot encode the data in `X_train` and `X_valid`.  Set the preprocessed DataFrames to `OH_X_train` and `OH_X_valid`, respectively.  \n",
    "- The full list of categorical columns in the dataset can be found in the Python list `object_cols`.\n",
    "- You should only one-hot encode the categorical columns in `low_cardinality_cols`.  All other categorical columns should be dropped from the dataset. "
   ]
  },
  {
   "cell_type": "code",
   "execution_count": 21,
   "id": "a2ef0814",
   "metadata": {
    "execution": {
     "iopub.execute_input": "2021-08-16T14:25:44.837906Z",
     "iopub.status.busy": "2021-08-16T14:25:44.836937Z",
     "iopub.status.idle": "2021-08-16T14:25:44.882283Z",
     "shell.execute_reply": "2021-08-16T14:25:44.882781Z",
     "shell.execute_reply.started": "2021-08-16T14:24:31.126923Z"
    },
    "papermill": {
     "duration": 0.086602,
     "end_time": "2021-08-16T14:25:44.882974",
     "exception": false,
     "start_time": "2021-08-16T14:25:44.796372",
     "status": "completed"
    },
    "tags": []
   },
   "outputs": [
    {
     "data": {
      "application/javascript": [
       "parent.postMessage({\"jupyterEvent\": \"custom.exercise_interaction\", \"data\": {\"outcomeType\": 1, \"valueTowardsCompletion\": 0.5, \"interactionType\": 1, \"questionType\": 2, \"questionId\": \"4_OneHot\", \"learnToolsVersion\": \"0.3.4\", \"failureMessage\": \"\", \"exceptionClass\": \"\", \"trace\": \"\"}}, \"*\")"
      ],
      "text/plain": [
       "<IPython.core.display.Javascript object>"
      ]
     },
     "metadata": {},
     "output_type": "display_data"
    },
    {
     "data": {
      "text/markdown": [
       "<span style=\"color:#33cc33\">Correct</span>"
      ],
      "text/plain": [
       "Correct"
      ]
     },
     "metadata": {},
     "output_type": "display_data"
    }
   ],
   "source": [
    "from sklearn.preprocessing import OneHotEncoder\n",
    "\n",
    "# Use as many lines of code as you need!\n",
    "OH_encoder = OneHotEncoder(handle_unknown='ignore', sparse=False)\n",
    "OH_cols_train = pd.DataFrame(OH_encoder.fit_transform(X_train[low_cardinality_cols]))\n",
    "OH_cols_valid = pd.DataFrame(OH_encoder.transform(X_valid[low_cardinality_cols]))\n",
    "OH_cols_train.index = X_train.index\n",
    "OH_cols_valid.index = X_valid.index\n",
    "\n",
    "num_X_train = X_train.drop(list(low_cardinality_cols+high_cardinality_cols), axis=1)\n",
    "num_X_valid = X_valid.drop(list(low_cardinality_cols+high_cardinality_cols), axis=1)\n",
    "\n",
    "OH_X_train = pd.concat([num_X_train, OH_cols_train], axis=1) # Your code here\n",
    "OH_X_valid = pd.concat([num_X_valid, OH_cols_valid], axis=1) # Your code here\n",
    "\n",
    "# Check your answer\n",
    "step_4.check()"
   ]
  },
  {
   "cell_type": "code",
   "execution_count": 22,
   "id": "bbe90566",
   "metadata": {
    "execution": {
     "iopub.execute_input": "2021-08-16T14:25:44.969623Z",
     "iopub.status.busy": "2021-08-16T14:25:44.968715Z",
     "iopub.status.idle": "2021-08-16T14:25:44.972140Z",
     "shell.execute_reply": "2021-08-16T14:25:44.972656Z"
    },
    "papermill": {
     "duration": 0.04996,
     "end_time": "2021-08-16T14:25:44.972832",
     "exception": false,
     "start_time": "2021-08-16T14:25:44.922872",
     "status": "completed"
    },
    "tags": []
   },
   "outputs": [],
   "source": [
    "# Lines below will give you a hint or solution code\n",
    "#step_4.hint()\n",
    "#step_4.solution()"
   ]
  },
  {
   "cell_type": "markdown",
   "id": "e9f045c2",
   "metadata": {
    "papermill": {
     "duration": 0.042796,
     "end_time": "2021-08-16T14:25:45.059354",
     "exception": false,
     "start_time": "2021-08-16T14:25:45.016558",
     "status": "completed"
    },
    "tags": []
   },
   "source": [
    "Run the next code cell to get the MAE for this approach."
   ]
  },
  {
   "cell_type": "code",
   "execution_count": 23,
   "id": "b0e546de",
   "metadata": {
    "execution": {
     "iopub.execute_input": "2021-08-16T14:25:45.148551Z",
     "iopub.status.busy": "2021-08-16T14:25:45.147884Z",
     "iopub.status.idle": "2021-08-16T14:25:47.150253Z",
     "shell.execute_reply": "2021-08-16T14:25:47.150753Z",
     "shell.execute_reply.started": "2021-08-16T14:24:37.474999Z"
    },
    "papermill": {
     "duration": 2.051473,
     "end_time": "2021-08-16T14:25:47.150917",
     "exception": false,
     "start_time": "2021-08-16T14:25:45.099444",
     "status": "completed"
    },
    "tags": []
   },
   "outputs": [
    {
     "name": "stdout",
     "output_type": "stream",
     "text": [
      "MAE from Approach 3 (One-Hot Encoding):\n",
      "17525.345719178084\n"
     ]
    }
   ],
   "source": [
    "print(\"MAE from Approach 3 (One-Hot Encoding):\") \n",
    "print(score_dataset(OH_X_train, OH_X_valid, y_train, y_valid))"
   ]
  },
  {
   "cell_type": "markdown",
   "id": "199f8b82",
   "metadata": {
    "papermill": {
     "duration": 0.039349,
     "end_time": "2021-08-16T14:25:47.231185",
     "exception": false,
     "start_time": "2021-08-16T14:25:47.191836",
     "status": "completed"
    },
    "tags": []
   },
   "source": [
    "# Generate test predictions and submit your results\n",
    "\n",
    "After you complete Step 4, if you'd like to use what you've learned to submit your results to the leaderboard, you'll need to preprocess the test data before generating predictions.\n",
    "\n",
    "**This step is completely optional, and you do not need to submit results to the leaderboard to successfully complete the exercise.**\n",
    "\n",
    "Check out the previous exercise if you need help with remembering how to [join the competition](https://www.kaggle.com/c/home-data-for-ml-course) or save your results to CSV.  Once you have generated a file with your results, follow the instructions below:\n",
    "1. Begin by clicking on the **Save Version** button in the top right corner of the window.  This will generate a pop-up window.  \n",
    "2. Ensure that the **Save and Run All** option is selected, and then click on the **Save** button.\n",
    "3. This generates a window in the bottom left corner of the notebook.  After it has finished running, click on the number to the right of the **Save Version** button.  This pulls up a list of versions on the right of the screen.  Click on the ellipsis **(...)** to the right of the most recent version, and select **Open in Viewer**.  This brings you into view mode of the same page. You will need to scroll down to get back to these instructions.\n",
    "4. Click on the **Output** tab on the right of the screen.  Then, click on the file you would like to submit, and click on the blue **Submit** button to submit your results to the leaderboard.\n",
    "\n",
    "You have now successfully submitted to the competition!\n",
    "\n",
    "If you want to keep working to improve your performance, select the **Edit** button in the top right of the screen. Then you can change your code and repeat the process. There's a lot of room to improve, and you will climb up the leaderboard as you work.\n"
   ]
  },
  {
   "cell_type": "code",
   "execution_count": 24,
   "id": "f28a9b5c",
   "metadata": {
    "execution": {
     "iopub.execute_input": "2021-08-16T14:25:47.315303Z",
     "iopub.status.busy": "2021-08-16T14:25:47.314314Z",
     "iopub.status.idle": "2021-08-16T14:25:47.317442Z",
     "shell.execute_reply": "2021-08-16T14:25:47.316801Z"
    },
    "papermill": {
     "duration": 0.046937,
     "end_time": "2021-08-16T14:25:47.317579",
     "exception": false,
     "start_time": "2021-08-16T14:25:47.270642",
     "status": "completed"
    },
    "tags": []
   },
   "outputs": [],
   "source": [
    "# (Optional) Your code here"
   ]
  },
  {
   "cell_type": "markdown",
   "id": "ba61e64c",
   "metadata": {
    "papermill": {
     "duration": 0.039714,
     "end_time": "2021-08-16T14:25:47.397646",
     "exception": false,
     "start_time": "2021-08-16T14:25:47.357932",
     "status": "completed"
    },
    "tags": []
   },
   "source": [
    "# Keep going\n",
    "\n",
    "With missing value handling and categorical encoding, your modeling process is getting complex. This complexity gets worse when you want to save your model to use in the future. The key to managing this complexity is something called **pipelines**. \n",
    "\n",
    "**[Learn to use pipelines](https://www.kaggle.com/alexisbcook/pipelines)** to preprocess datasets with categorical variables, missing values and any other messiness your data throws at you."
   ]
  },
  {
   "cell_type": "markdown",
   "id": "bfd27e85",
   "metadata": {
    "papermill": {
     "duration": 0.04093,
     "end_time": "2021-08-16T14:25:47.479476",
     "exception": false,
     "start_time": "2021-08-16T14:25:47.438546",
     "status": "completed"
    },
    "tags": []
   },
   "source": [
    "---\n",
    "\n",
    "\n",
    "\n",
    "\n",
    "*Have questions or comments? Visit the [Learn Discussion forum](https://www.kaggle.com/learn-forum/161289) to chat with other Learners.*"
   ]
  }
 ],
 "metadata": {
  "kernelspec": {
   "display_name": "Python 3",
   "language": "python",
   "name": "python3"
  },
  "language_info": {
   "codemirror_mode": {
    "name": "ipython",
    "version": 3
   },
   "file_extension": ".py",
   "mimetype": "text/x-python",
   "name": "python",
   "nbconvert_exporter": "python",
   "pygments_lexer": "ipython3",
   "version": "3.7.10"
  },
  "papermill": {
   "default_parameters": {},
   "duration": 19.857322,
   "end_time": "2021-08-16T14:25:49.175183",
   "environment_variables": {},
   "exception": null,
   "input_path": "__notebook__.ipynb",
   "output_path": "__notebook__.ipynb",
   "parameters": {},
   "start_time": "2021-08-16T14:25:29.317861",
   "version": "2.3.3"
  }
 },
 "nbformat": 4,
 "nbformat_minor": 5
}
