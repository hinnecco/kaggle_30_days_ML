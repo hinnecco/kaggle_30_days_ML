{
 "cells": [
  {
   "cell_type": "markdown",
   "id": "0fe59e59",
   "metadata": {
    "papermill": {
     "duration": 0.014675,
     "end_time": "2021-08-04T01:03:12.385216",
     "exception": false,
     "start_time": "2021-08-04T01:03:12.370541",
     "status": "completed"
    },
    "tags": []
   },
   "source": [
    "**This notebook is an exercise in the [Python](https://www.kaggle.com/learn/python) course.  You can reference the tutorial at [this link](https://www.kaggle.com/colinmorris/functions-and-getting-help).**\n",
    "\n",
    "---\n"
   ]
  },
  {
   "cell_type": "markdown",
   "id": "ba249298",
   "metadata": {
    "papermill": {
     "duration": 0.013438,
     "end_time": "2021-08-04T01:03:12.412841",
     "exception": false,
     "start_time": "2021-08-04T01:03:12.399403",
     "status": "completed"
    },
    "tags": []
   },
   "source": [
    "Functions are powerful. Try writing some yourself.\n",
    "\n",
    "As before, don't forget to run the setup code below before jumping into question 1."
   ]
  },
  {
   "cell_type": "code",
   "execution_count": 1,
   "id": "ade2ce47",
   "metadata": {
    "_kg_hide-input": true,
    "_kg_hide-output": true,
    "execution": {
     "iopub.execute_input": "2021-08-04T01:03:12.452082Z",
     "iopub.status.busy": "2021-08-04T01:03:12.451349Z",
     "iopub.status.idle": "2021-08-04T01:03:12.596035Z",
     "shell.execute_reply": "2021-08-04T01:03:12.598016Z",
     "shell.execute_reply.started": "2021-08-04T00:50:59.334003Z"
    },
    "papermill": {
     "duration": 0.172037,
     "end_time": "2021-08-04T01:03:12.598563",
     "exception": false,
     "start_time": "2021-08-04T01:03:12.426526",
     "status": "completed"
    },
    "tags": []
   },
   "outputs": [
    {
     "name": "stdout",
     "output_type": "stream",
     "text": [
      "Setup complete.\n"
     ]
    }
   ],
   "source": [
    "# SETUP. You don't need to worry for now about what this code does or how it works.\n",
    "from learntools.core import binder; binder.bind(globals())\n",
    "from learntools.python.ex2 import *\n",
    "print('Setup complete.')"
   ]
  },
  {
   "cell_type": "markdown",
   "id": "1e65ab00",
   "metadata": {
    "papermill": {
     "duration": 0.016476,
     "end_time": "2021-08-04T01:03:12.636755",
     "exception": false,
     "start_time": "2021-08-04T01:03:12.620279",
     "status": "completed"
    },
    "tags": []
   },
   "source": [
    "# 1.\n",
    "\n",
    "Complete the body of the following function according to its docstring.\n",
    "\n",
    "HINT: Python has a built-in function `round`."
   ]
  },
  {
   "cell_type": "code",
   "execution_count": 2,
   "id": "abf91fc8",
   "metadata": {
    "execution": {
     "iopub.execute_input": "2021-08-04T01:03:12.673446Z",
     "iopub.status.busy": "2021-08-04T01:03:12.672668Z",
     "iopub.status.idle": "2021-08-04T01:03:12.680183Z",
     "shell.execute_reply": "2021-08-04T01:03:12.680647Z",
     "shell.execute_reply.started": "2021-08-04T00:53:57.693323Z"
    },
    "papermill": {
     "duration": 0.026921,
     "end_time": "2021-08-04T01:03:12.680824",
     "exception": false,
     "start_time": "2021-08-04T01:03:12.653903",
     "status": "completed"
    },
    "tags": []
   },
   "outputs": [
    {
     "data": {
      "application/javascript": [
       "parent.postMessage({\"jupyterEvent\": \"custom.exercise_interaction\", \"data\": {\"outcomeType\": 1, \"valueTowardsCompletion\": 0.16666666666666666, \"interactionType\": 1, \"questionType\": 2, \"questionId\": \"1_RoundFunctionProblem\", \"learnToolsVersion\": \"0.3.4\", \"failureMessage\": \"\", \"exceptionClass\": \"\", \"trace\": \"\"}}, \"*\")"
      ],
      "text/plain": [
       "<IPython.core.display.Javascript object>"
      ]
     },
     "metadata": {},
     "output_type": "display_data"
    },
    {
     "data": {
      "text/markdown": [
       "<span style=\"color:#33cc33\">Correct</span>"
      ],
      "text/plain": [
       "Correct"
      ]
     },
     "metadata": {},
     "output_type": "display_data"
    }
   ],
   "source": [
    "def round_to_two_places(num):\n",
    "    \"\"\"Return the given number rounded to two decimal places. \n",
    "    \n",
    "    >>> round_to_two_places(3.14159)\n",
    "    3.14\n",
    "    \"\"\"\n",
    "    # Replace this body with your own code.\n",
    "    # (\"pass\" is a keyword that does literally nothing. We used it as a placeholder\n",
    "    # because after we begin a code block, Python requires at least one line of code)\n",
    "    return round(num,2)\n",
    "\n",
    "# Check your answer\n",
    "q1.check()"
   ]
  },
  {
   "cell_type": "code",
   "execution_count": 3,
   "id": "655bb0de",
   "metadata": {
    "execution": {
     "iopub.execute_input": "2021-08-04T01:03:12.714287Z",
     "iopub.status.busy": "2021-08-04T01:03:12.713645Z",
     "iopub.status.idle": "2021-08-04T01:03:12.716910Z",
     "shell.execute_reply": "2021-08-04T01:03:12.717398Z",
     "shell.execute_reply.started": "2021-08-04T00:54:07.695999Z"
    },
    "papermill": {
     "duration": 0.021514,
     "end_time": "2021-08-04T01:03:12.717563",
     "exception": false,
     "start_time": "2021-08-04T01:03:12.696049",
     "status": "completed"
    },
    "tags": []
   },
   "outputs": [],
   "source": [
    "# Uncomment the following for a hint\n",
    "#q1.hint()\n",
    "# Or uncomment the following to peek at the solution\n",
    "#q1.solution()"
   ]
  },
  {
   "cell_type": "markdown",
   "id": "41ce3e10",
   "metadata": {
    "papermill": {
     "duration": 0.01476,
     "end_time": "2021-08-04T01:03:12.747499",
     "exception": false,
     "start_time": "2021-08-04T01:03:12.732739",
     "status": "completed"
    },
    "tags": []
   },
   "source": [
    "# 2.\n",
    "The help for `round` says that `ndigits` (the second argument) may be negative.\n",
    "What do you think will happen when it is? Try some examples in the following cell."
   ]
  },
  {
   "cell_type": "code",
   "execution_count": 4,
   "id": "1e7c1ccf",
   "metadata": {
    "execution": {
     "iopub.execute_input": "2021-08-04T01:03:12.780756Z",
     "iopub.status.busy": "2021-08-04T01:03:12.780118Z",
     "iopub.status.idle": "2021-08-04T01:03:12.785370Z",
     "shell.execute_reply": "2021-08-04T01:03:12.785817Z",
     "shell.execute_reply.started": "2021-08-04T00:55:15.296277Z"
    },
    "papermill": {
     "duration": 0.023368,
     "end_time": "2021-08-04T01:03:12.786029",
     "exception": false,
     "start_time": "2021-08-04T01:03:12.762661",
     "status": "completed"
    },
    "tags": []
   },
   "outputs": [
    {
     "name": "stdout",
     "output_type": "stream",
     "text": [
      "120.0\n"
     ]
    }
   ],
   "source": [
    "# Put your test code here\n",
    "print(round(123.12345,-1))"
   ]
  },
  {
   "cell_type": "markdown",
   "id": "199d0e7e",
   "metadata": {
    "papermill": {
     "duration": 0.015738,
     "end_time": "2021-08-04T01:03:12.817818",
     "exception": false,
     "start_time": "2021-08-04T01:03:12.802080",
     "status": "completed"
    },
    "tags": []
   },
   "source": [
    "Can you think of a case where this would be useful?  Once you're ready, run the code cell below to see the answer and to receive credit for completing the problem."
   ]
  },
  {
   "cell_type": "code",
   "execution_count": 5,
   "id": "e015de8d",
   "metadata": {
    "execution": {
     "iopub.execute_input": "2021-08-04T01:03:12.855119Z",
     "iopub.status.busy": "2021-08-04T01:03:12.854127Z",
     "iopub.status.idle": "2021-08-04T01:03:12.859140Z",
     "shell.execute_reply": "2021-08-04T01:03:12.859676Z",
     "shell.execute_reply.started": "2021-08-04T00:55:39.690524Z"
    },
    "papermill": {
     "duration": 0.026162,
     "end_time": "2021-08-04T01:03:12.859865",
     "exception": false,
     "start_time": "2021-08-04T01:03:12.833703",
     "status": "completed"
    },
    "tags": []
   },
   "outputs": [
    {
     "data": {
      "application/javascript": [
       "parent.postMessage({\"jupyterEvent\": \"custom.exercise_interaction\", \"data\": {\"interactionType\": 3, \"questionType\": 4, \"questionId\": \"2_RoundNdigitsProblem\", \"learnToolsVersion\": \"0.3.4\", \"valueTowardsCompletion\": 0.0, \"failureMessage\": \"\", \"exceptionClass\": \"\", \"trace\": \"\", \"outcomeType\": 4}}, \"*\")"
      ],
      "text/plain": [
       "<IPython.core.display.Javascript object>"
      ]
     },
     "metadata": {},
     "output_type": "display_data"
    },
    {
     "data": {
      "text/markdown": [
       "<span style=\"color:#33cc99\">Solution:</span> As you've seen, `ndigits=-1` rounds to the nearest 10, `ndigits=-2` rounds to the nearest 100 and so on. Where might this be useful? Suppose we're dealing with large numbers:\n",
       "\n",
       "> The area of Finland is 338,424 km²  \n",
       "> The area of Greenland is 2,166,086 km²\n",
       "\n",
       "We probably don't care whether it's really 338,424, or 338,425, or 338,177. All those digits of accuracy are just distracting. We can chop them off by calling `round()` with `ndigits=-3`:\n",
       "\n",
       "> The area of Finland is 338,000 km²  \n",
       "> The area of Greenland is 2,166,000 km²\n",
       "\n",
       "(We'll talk about how we would get the commas later when we talk about string formatting :))\n"
      ],
      "text/plain": [
       "Solution: As you've seen, `ndigits=-1` rounds to the nearest 10, `ndigits=-2` rounds to the nearest 100 and so on. Where might this be useful? Suppose we're dealing with large numbers:\n",
       "\n",
       "> The area of Finland is 338,424 km²  \n",
       "> The area of Greenland is 2,166,086 km²\n",
       "\n",
       "We probably don't care whether it's really 338,424, or 338,425, or 338,177. All those digits of accuracy are just distracting. We can chop them off by calling `round()` with `ndigits=-3`:\n",
       "\n",
       "> The area of Finland is 338,000 km²  \n",
       "> The area of Greenland is 2,166,000 km²\n",
       "\n",
       "(We'll talk about how we would get the commas later when we talk about string formatting :))"
      ]
     },
     "metadata": {},
     "output_type": "display_data"
    }
   ],
   "source": [
    "# Check your answer (Run this code cell to receive credit!)\n",
    "q2.solution()"
   ]
  },
  {
   "cell_type": "markdown",
   "id": "cb734544",
   "metadata": {
    "papermill": {
     "duration": 0.016659,
     "end_time": "2021-08-04T01:03:12.894553",
     "exception": false,
     "start_time": "2021-08-04T01:03:12.877894",
     "status": "completed"
    },
    "tags": []
   },
   "source": [
    "# 3.\n",
    "\n",
    "In the previous exercise, the candy-sharing friends Alice, Bob and Carol tried to split candies evenly. For the sake of their friendship, any candies left over would be smashed. For example, if they collectively bring home 91 candies, they'll take 30 each and smash 1.\n",
    "\n",
    "Below is a simple function that will calculate the number of candies to smash for *any* number of total candies.\n",
    "\n",
    "Modify it so that it optionally takes a second argument representing the number of friends the candies are being split between. If no second argument is provided, it should assume 3 friends, as before.\n",
    "\n",
    "Update the docstring to reflect this new behaviour."
   ]
  },
  {
   "cell_type": "code",
   "execution_count": 6,
   "id": "9a3359f1",
   "metadata": {
    "execution": {
     "iopub.execute_input": "2021-08-04T01:03:12.931168Z",
     "iopub.status.busy": "2021-08-04T01:03:12.930519Z",
     "iopub.status.idle": "2021-08-04T01:03:12.939164Z",
     "shell.execute_reply": "2021-08-04T01:03:12.938614Z",
     "shell.execute_reply.started": "2021-08-04T00:59:11.775095Z"
    },
    "papermill": {
     "duration": 0.027995,
     "end_time": "2021-08-04T01:03:12.939312",
     "exception": false,
     "start_time": "2021-08-04T01:03:12.911317",
     "status": "completed"
    },
    "tags": []
   },
   "outputs": [
    {
     "data": {
      "application/javascript": [
       "parent.postMessage({\"jupyterEvent\": \"custom.exercise_interaction\", \"data\": {\"outcomeType\": 1, \"valueTowardsCompletion\": 0.16666666666666666, \"interactionType\": 1, \"questionType\": 2, \"questionId\": \"3_CandySmashingFunctionProblem\", \"learnToolsVersion\": \"0.3.4\", \"failureMessage\": \"\", \"exceptionClass\": \"\", \"trace\": \"\"}}, \"*\")"
      ],
      "text/plain": [
       "<IPython.core.display.Javascript object>"
      ]
     },
     "metadata": {},
     "output_type": "display_data"
    },
    {
     "data": {
      "text/markdown": [
       "<span style=\"color:#33cc33\">Correct</span>"
      ],
      "text/plain": [
       "Correct"
      ]
     },
     "metadata": {},
     "output_type": "display_data"
    }
   ],
   "source": [
    "def to_smash(total_candies,friends=3):\n",
    "    \"\"\"Return the number of leftover candies that must be smashed after distributing\n",
    "    the given number of candies evenly between the number of friends.\n",
    "    \n",
    "    >>> to_smash(91)\n",
    "    1\n",
    "    \"\"\"\n",
    "    return total_candies % friends\n",
    "\n",
    "# Check your answer\n",
    "q3.check()"
   ]
  },
  {
   "cell_type": "code",
   "execution_count": 7,
   "id": "aebba270",
   "metadata": {
    "execution": {
     "iopub.execute_input": "2021-08-04T01:03:12.978805Z",
     "iopub.status.busy": "2021-08-04T01:03:12.978159Z",
     "iopub.status.idle": "2021-08-04T01:03:12.980163Z",
     "shell.execute_reply": "2021-08-04T01:03:12.980596Z"
    },
    "papermill": {
     "duration": 0.024028,
     "end_time": "2021-08-04T01:03:12.980766",
     "exception": false,
     "start_time": "2021-08-04T01:03:12.956738",
     "status": "completed"
    },
    "tags": []
   },
   "outputs": [],
   "source": [
    "#q3.hint()"
   ]
  },
  {
   "cell_type": "code",
   "execution_count": 8,
   "id": "0a626676",
   "metadata": {
    "execution": {
     "iopub.execute_input": "2021-08-04T01:03:13.021649Z",
     "iopub.status.busy": "2021-08-04T01:03:13.021016Z",
     "iopub.status.idle": "2021-08-04T01:03:13.022948Z",
     "shell.execute_reply": "2021-08-04T01:03:13.023428Z"
    },
    "papermill": {
     "duration": 0.024451,
     "end_time": "2021-08-04T01:03:13.023596",
     "exception": false,
     "start_time": "2021-08-04T01:03:12.999145",
     "status": "completed"
    },
    "tags": []
   },
   "outputs": [],
   "source": [
    "#q3.solution()"
   ]
  },
  {
   "cell_type": "markdown",
   "id": "c360bfe2",
   "metadata": {
    "papermill": {
     "duration": 0.017838,
     "end_time": "2021-08-04T01:03:13.059261",
     "exception": false,
     "start_time": "2021-08-04T01:03:13.041423",
     "status": "completed"
    },
    "tags": []
   },
   "source": [
    "# 4. (Optional)\n",
    "\n",
    "It may not be fun, but reading and understanding error messages will be an important part of your Python career.\n",
    "\n",
    "Each code cell below contains some commented buggy code. For each cell...\n",
    "\n",
    "1. Read the code and predict what you think will happen when it's run.\n",
    "2. Then uncomment the code and run it to see what happens. (**Tip**: In the kernel editor, you can highlight several lines and press `ctrl`+`/` to toggle commenting.)\n",
    "3. Fix the code (so that it accomplishes its intended purpose without throwing an exception)\n",
    "\n",
    "<!-- TODO: should this be autochecked? Delta is probably pretty small. -->"
   ]
  },
  {
   "cell_type": "code",
   "execution_count": 9,
   "id": "e8678386",
   "metadata": {
    "execution": {
     "iopub.execute_input": "2021-08-04T01:03:13.098512Z",
     "iopub.status.busy": "2021-08-04T01:03:13.097871Z",
     "iopub.status.idle": "2021-08-04T01:03:13.101135Z",
     "shell.execute_reply": "2021-08-04T01:03:13.101627Z",
     "shell.execute_reply.started": "2021-08-04T01:00:14.735156Z"
    },
    "papermill": {
     "duration": 0.023939,
     "end_time": "2021-08-04T01:03:13.101818",
     "exception": false,
     "start_time": "2021-08-04T01:03:13.077879",
     "status": "completed"
    },
    "tags": []
   },
   "outputs": [],
   "source": [
    "#ruound_to_two_places(9.9999)"
   ]
  },
  {
   "cell_type": "code",
   "execution_count": 10,
   "id": "0b70f20f",
   "metadata": {
    "execution": {
     "iopub.execute_input": "2021-08-04T01:03:13.142159Z",
     "iopub.status.busy": "2021-08-04T01:03:13.141467Z",
     "iopub.status.idle": "2021-08-04T01:03:13.147841Z",
     "shell.execute_reply": "2021-08-04T01:03:13.147304Z",
     "shell.execute_reply.started": "2021-08-04T01:01:30.641396Z"
    },
    "papermill": {
     "duration": 0.026575,
     "end_time": "2021-08-04T01:03:13.148023",
     "exception": false,
     "start_time": "2021-08-04T01:03:13.121448",
     "status": "completed"
    },
    "tags": []
   },
   "outputs": [
    {
     "name": "stdout",
     "output_type": "stream",
     "text": [
      "5\n"
     ]
    }
   ],
   "source": [
    " x = -10\n",
    " y = 5\n",
    " # Which of the two variables above has the smallest absolute value?\n",
    " smallest_abs = min(abs(x),abs(y))\n",
    "print(smallest_abs)"
   ]
  },
  {
   "cell_type": "code",
   "execution_count": 11,
   "id": "a542bf6f",
   "metadata": {
    "execution": {
     "iopub.execute_input": "2021-08-04T01:03:13.191057Z",
     "iopub.status.busy": "2021-08-04T01:03:13.190025Z",
     "iopub.status.idle": "2021-08-04T01:03:13.193485Z",
     "shell.execute_reply": "2021-08-04T01:03:13.194230Z",
     "shell.execute_reply.started": "2021-08-04T01:02:32.075918Z"
    },
    "papermill": {
     "duration": 0.028164,
     "end_time": "2021-08-04T01:03:13.194462",
     "exception": false,
     "start_time": "2021-08-04T01:03:13.166298",
     "status": "completed"
    },
    "tags": []
   },
   "outputs": [
    {
     "name": "stdout",
     "output_type": "stream",
     "text": [
      "5\n"
     ]
    }
   ],
   "source": [
    " def f(x):\n",
    "     y = abs(x)\n",
    "     return y\n",
    "\n",
    " print(f(5))"
   ]
  },
  {
   "cell_type": "markdown",
   "id": "0b7e4b2e",
   "metadata": {
    "papermill": {
     "duration": 0.018581,
     "end_time": "2021-08-04T01:03:13.232713",
     "exception": false,
     "start_time": "2021-08-04T01:03:13.214132",
     "status": "completed"
    },
    "tags": []
   },
   "source": [
    "# Keep Going\n",
    "\n",
    "Nice job with the code. Next up, you'll learn about *conditionals*, which you'll need to **[write interesting programs](https://www.kaggle.com/colinmorris/booleans-and-conditionals)**. "
   ]
  },
  {
   "cell_type": "markdown",
   "id": "53626ff7",
   "metadata": {
    "papermill": {
     "duration": 0.018791,
     "end_time": "2021-08-04T01:03:13.270239",
     "exception": false,
     "start_time": "2021-08-04T01:03:13.251448",
     "status": "completed"
    },
    "tags": []
   },
   "source": [
    "---\n",
    "\n",
    "\n",
    "\n",
    "\n",
    "*Have questions or comments? Visit the [Learn Discussion forum](https://www.kaggle.com/learn-forum/161283) to chat with other Learners.*"
   ]
  }
 ],
 "metadata": {
  "kernelspec": {
   "display_name": "Python 3",
   "language": "python",
   "name": "python3"
  },
  "language_info": {
   "codemirror_mode": {
    "name": "ipython",
    "version": 3
   },
   "file_extension": ".py",
   "mimetype": "text/x-python",
   "name": "python",
   "nbconvert_exporter": "python",
   "pygments_lexer": "ipython3",
   "version": "3.7.10"
  },
  "papermill": {
   "default_parameters": {},
   "duration": 10.824007,
   "end_time": "2021-08-04T01:03:14.572670",
   "environment_variables": {},
   "exception": null,
   "input_path": "__notebook__.ipynb",
   "output_path": "__notebook__.ipynb",
   "parameters": {},
   "start_time": "2021-08-04T01:03:03.748663",
   "version": "2.3.3"
  }
 },
 "nbformat": 4,
 "nbformat_minor": 5
}
