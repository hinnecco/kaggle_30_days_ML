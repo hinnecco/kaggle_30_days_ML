{
 "cells": [
  {
   "cell_type": "markdown",
   "id": "44986538",
   "metadata": {
    "papermill": {
     "duration": 0.010422,
     "end_time": "2021-08-15T23:39:23.854248",
     "exception": false,
     "start_time": "2021-08-15T23:39:23.843826",
     "status": "completed"
    },
    "tags": []
   },
   "source": [
    "**This notebook is an exercise in the [Introduction to Machine Learning](https://www.kaggle.com/learn/intro-to-machine-learning) course.  You can reference the tutorial at [this link](https://www.kaggle.com/dansbecker/underfitting-and-overfitting).**\n",
    "\n",
    "---\n"
   ]
  },
  {
   "cell_type": "markdown",
   "id": "5427965e",
   "metadata": {
    "papermill": {
     "duration": 0.008749,
     "end_time": "2021-08-15T23:39:23.872938",
     "exception": false,
     "start_time": "2021-08-15T23:39:23.864189",
     "status": "completed"
    },
    "tags": []
   },
   "source": [
    "## Recap\n",
    "You've built your first model, and now it's time to optimize the size of the tree to make better predictions. Run this cell to set up your coding environment where the previous step left off."
   ]
  },
  {
   "cell_type": "code",
   "execution_count": 1,
   "id": "0fbe5cb0",
   "metadata": {
    "execution": {
     "iopub.execute_input": "2021-08-15T23:39:23.894926Z",
     "iopub.status.busy": "2021-08-15T23:39:23.893783Z",
     "iopub.status.idle": "2021-08-15T23:39:25.209266Z",
     "shell.execute_reply": "2021-08-15T23:39:25.210068Z",
     "shell.execute_reply.started": "2021-08-15T23:11:24.572773Z"
    },
    "papermill": {
     "duration": 1.328615,
     "end_time": "2021-08-15T23:39:25.210464",
     "exception": false,
     "start_time": "2021-08-15T23:39:23.881849",
     "status": "completed"
    },
    "tags": []
   },
   "outputs": [
    {
     "name": "stdout",
     "output_type": "stream",
     "text": [
      "Validation MAE: 29,653\n",
      "\n",
      "Setup complete\n"
     ]
    }
   ],
   "source": [
    "# Code you have previously used to load data\n",
    "import pandas as pd\n",
    "from sklearn.metrics import mean_absolute_error\n",
    "from sklearn.model_selection import train_test_split\n",
    "from sklearn.tree import DecisionTreeRegressor\n",
    "\n",
    "\n",
    "# Path of the file to read\n",
    "iowa_file_path = '../input/home-data-for-ml-course/train.csv'\n",
    "\n",
    "home_data = pd.read_csv(iowa_file_path)\n",
    "# Create target object and call it y\n",
    "y = home_data.SalePrice\n",
    "# Create X\n",
    "features = ['LotArea', 'YearBuilt', '1stFlrSF', '2ndFlrSF', 'FullBath', 'BedroomAbvGr', 'TotRmsAbvGrd']\n",
    "X = home_data[features]\n",
    "\n",
    "# Split into validation and training data\n",
    "train_X, val_X, train_y, val_y = train_test_split(X, y, random_state=1)\n",
    "\n",
    "# Specify Model\n",
    "iowa_model = DecisionTreeRegressor(random_state=1)\n",
    "# Fit Model\n",
    "iowa_model.fit(train_X, train_y)\n",
    "\n",
    "# Make validation predictions and calculate mean absolute error\n",
    "val_predictions = iowa_model.predict(val_X)\n",
    "val_mae = mean_absolute_error(val_predictions, val_y)\n",
    "print(\"Validation MAE: {:,.0f}\".format(val_mae))\n",
    "\n",
    "# Set up code checking\n",
    "from learntools.core import binder\n",
    "binder.bind(globals())\n",
    "from learntools.machine_learning.ex5 import *\n",
    "print(\"\\nSetup complete\")"
   ]
  },
  {
   "cell_type": "markdown",
   "id": "c502cb7f",
   "metadata": {
    "papermill": {
     "duration": 0.009283,
     "end_time": "2021-08-15T23:39:25.230622",
     "exception": false,
     "start_time": "2021-08-15T23:39:25.221339",
     "status": "completed"
    },
    "tags": []
   },
   "source": [
    "# Exercises\n",
    "You could write the function `get_mae` yourself. For now, we'll supply it. This is the same function you read about in the previous lesson. Just run the cell below."
   ]
  },
  {
   "cell_type": "code",
   "execution_count": 2,
   "id": "82f659c6",
   "metadata": {
    "execution": {
     "iopub.execute_input": "2021-08-15T23:39:25.255472Z",
     "iopub.status.busy": "2021-08-15T23:39:25.254828Z",
     "iopub.status.idle": "2021-08-15T23:39:25.256735Z",
     "shell.execute_reply": "2021-08-15T23:39:25.257303Z",
     "shell.execute_reply.started": "2021-08-15T23:11:45.035401Z"
    },
    "papermill": {
     "duration": 0.017391,
     "end_time": "2021-08-15T23:39:25.257470",
     "exception": false,
     "start_time": "2021-08-15T23:39:25.240079",
     "status": "completed"
    },
    "tags": []
   },
   "outputs": [],
   "source": [
    "def get_mae(max_leaf_nodes, train_X, val_X, train_y, val_y):\n",
    "    model = DecisionTreeRegressor(max_leaf_nodes=max_leaf_nodes, random_state=0)\n",
    "    model.fit(train_X, train_y)\n",
    "    preds_val = model.predict(val_X)\n",
    "    mae = mean_absolute_error(val_y, preds_val)\n",
    "    return(mae)"
   ]
  },
  {
   "cell_type": "markdown",
   "id": "51b4a472",
   "metadata": {
    "papermill": {
     "duration": 0.009223,
     "end_time": "2021-08-15T23:39:25.276202",
     "exception": false,
     "start_time": "2021-08-15T23:39:25.266979",
     "status": "completed"
    },
    "tags": []
   },
   "source": [
    "## Step 1: Compare Different Tree Sizes\n",
    "Write a loop that tries the following values for *max_leaf_nodes* from a set of possible values.\n",
    "\n",
    "Call the *get_mae* function on each value of max_leaf_nodes. Store the output in some way that allows you to select the value of `max_leaf_nodes` that gives the most accurate model on your data."
   ]
  },
  {
   "cell_type": "code",
   "execution_count": 3,
   "id": "7ec519b6",
   "metadata": {
    "execution": {
     "iopub.execute_input": "2021-08-15T23:39:25.298192Z",
     "iopub.status.busy": "2021-08-15T23:39:25.297544Z",
     "iopub.status.idle": "2021-08-15T23:39:25.355639Z",
     "shell.execute_reply": "2021-08-15T23:39:25.356113Z",
     "shell.execute_reply.started": "2021-08-15T23:35:49.060266Z"
    },
    "papermill": {
     "duration": 0.070632,
     "end_time": "2021-08-15T23:39:25.356295",
     "exception": false,
     "start_time": "2021-08-15T23:39:25.285663",
     "status": "completed"
    },
    "tags": []
   },
   "outputs": [
    {
     "name": "stdout",
     "output_type": "stream",
     "text": [
      "5\n",
      "35044.51299744237\n",
      "25\n",
      "29016.41319191076\n",
      "50\n",
      "27405.930473214907\n",
      "100\n",
      "27282.50803885739\n",
      "250\n",
      "27893.822225701646\n",
      "500\n",
      "29454.18598068598\n"
     ]
    },
    {
     "data": {
      "application/javascript": [
       "parent.postMessage({\"jupyterEvent\": \"custom.exercise_interaction\", \"data\": {\"outcomeType\": 1, \"valueTowardsCompletion\": 0.5, \"interactionType\": 1, \"questionType\": 1, \"questionId\": \"1_BestTreeSize\", \"learnToolsVersion\": \"0.3.4\", \"failureMessage\": \"\", \"exceptionClass\": \"\", \"trace\": \"\"}}, \"*\")"
      ],
      "text/plain": [
       "<IPython.core.display.Javascript object>"
      ]
     },
     "metadata": {},
     "output_type": "display_data"
    },
    {
     "data": {
      "text/markdown": [
       "<span style=\"color:#33cc33\">Correct</span>"
      ],
      "text/plain": [
       "Correct"
      ]
     },
     "metadata": {},
     "output_type": "display_data"
    }
   ],
   "source": [
    "candidate_max_leaf_nodes = [5, 25, 50, 100, 250, 500]\n",
    "# Write loop to find the ideal tree size from candidate_max_leaf_nodes\n",
    "maes = {}\n",
    "for max_leaf_nodes in candidate_max_leaf_nodes:\n",
    "    maes[max_leaf_nodes]=get_mae(max_leaf_nodes, train_X, val_X, train_y, val_y)\n",
    "    print(max_leaf_nodes)\n",
    "    print(maes[max_leaf_nodes])\n",
    "\n",
    "# Store the best value of max_leaf_nodes (it will be either 5, 25, 50, 100, 250 or 500)\n",
    "aux = []\n",
    "for k,v in sorted(maes.items(), key=lambda item: item[1],reverse=False):\n",
    "    aux.append(k)\n",
    "best_tree_size = aux[0]\n",
    "\n",
    "# Check your answer\n",
    "step_1.check()"
   ]
  },
  {
   "cell_type": "code",
   "execution_count": 4,
   "id": "48992ec7",
   "metadata": {
    "execution": {
     "iopub.execute_input": "2021-08-15T23:39:25.382494Z",
     "iopub.status.busy": "2021-08-15T23:39:25.381847Z",
     "iopub.status.idle": "2021-08-15T23:39:25.383833Z",
     "shell.execute_reply": "2021-08-15T23:39:25.384307Z"
    },
    "papermill": {
     "duration": 0.017163,
     "end_time": "2021-08-15T23:39:25.384463",
     "exception": false,
     "start_time": "2021-08-15T23:39:25.367300",
     "status": "completed"
    },
    "tags": []
   },
   "outputs": [],
   "source": [
    "# The lines below will show you a hint or the solution.\n",
    "# step_1.hint() \n",
    "# step_1.solution()"
   ]
  },
  {
   "cell_type": "markdown",
   "id": "6113513b",
   "metadata": {
    "papermill": {
     "duration": 0.010396,
     "end_time": "2021-08-15T23:39:25.405726",
     "exception": false,
     "start_time": "2021-08-15T23:39:25.395330",
     "status": "completed"
    },
    "tags": []
   },
   "source": [
    "## Step 2: Fit Model Using All Data\n",
    "You know the best tree size. If you were going to deploy this model in practice, you would make it even more accurate by using all of the data and keeping that tree size.  That is, you don't need to hold out the validation data now that you've made all your modeling decisions."
   ]
  },
  {
   "cell_type": "code",
   "execution_count": 5,
   "id": "54d67647",
   "metadata": {
    "execution": {
     "iopub.execute_input": "2021-08-15T23:39:25.435260Z",
     "iopub.status.busy": "2021-08-15T23:39:25.434616Z",
     "iopub.status.idle": "2021-08-15T23:39:25.447839Z",
     "shell.execute_reply": "2021-08-15T23:39:25.448351Z",
     "shell.execute_reply.started": "2021-08-15T23:38:46.627620Z"
    },
    "papermill": {
     "duration": 0.032101,
     "end_time": "2021-08-15T23:39:25.448508",
     "exception": false,
     "start_time": "2021-08-15T23:39:25.416407",
     "status": "completed"
    },
    "tags": []
   },
   "outputs": [
    {
     "data": {
      "application/javascript": [
       "parent.postMessage({\"jupyterEvent\": \"custom.exercise_interaction\", \"data\": {\"outcomeType\": 1, \"valueTowardsCompletion\": 0.5, \"interactionType\": 1, \"questionType\": 2, \"questionId\": \"2_FitModelWithAllData\", \"learnToolsVersion\": \"0.3.4\", \"failureMessage\": \"\", \"exceptionClass\": \"\", \"trace\": \"\"}}, \"*\")"
      ],
      "text/plain": [
       "<IPython.core.display.Javascript object>"
      ]
     },
     "metadata": {},
     "output_type": "display_data"
    },
    {
     "data": {
      "text/markdown": [
       "<span style=\"color:#33cc33\">Correct</span>"
      ],
      "text/plain": [
       "Correct"
      ]
     },
     "metadata": {},
     "output_type": "display_data"
    }
   ],
   "source": [
    "# Fill in argument to make optimal size and uncomment\n",
    "final_model = DecisionTreeRegressor(max_leaf_nodes=best_tree_size, random_state=0)\n",
    "\n",
    "# fit the final model and uncomment the next two lines\n",
    "final_model.fit(X, y)\n",
    "\n",
    "# Check your answer\n",
    "step_2.check()"
   ]
  },
  {
   "cell_type": "code",
   "execution_count": 6,
   "id": "e530ddc1",
   "metadata": {
    "execution": {
     "iopub.execute_input": "2021-08-15T23:39:25.474720Z",
     "iopub.status.busy": "2021-08-15T23:39:25.474129Z",
     "iopub.status.idle": "2021-08-15T23:39:25.476969Z",
     "shell.execute_reply": "2021-08-15T23:39:25.477435Z"
    },
    "papermill": {
     "duration": 0.017446,
     "end_time": "2021-08-15T23:39:25.477582",
     "exception": false,
     "start_time": "2021-08-15T23:39:25.460136",
     "status": "completed"
    },
    "tags": []
   },
   "outputs": [],
   "source": [
    "# step_2.hint()\n",
    "# step_2.solution()"
   ]
  },
  {
   "cell_type": "markdown",
   "id": "9fda2047",
   "metadata": {
    "papermill": {
     "duration": 0.011629,
     "end_time": "2021-08-15T23:39:25.500993",
     "exception": false,
     "start_time": "2021-08-15T23:39:25.489364",
     "status": "completed"
    },
    "tags": []
   },
   "source": [
    "You've tuned this model and improved your results. But we are still using Decision Tree models, which are not very sophisticated by modern machine learning standards. In the next step you will learn to use Random Forests to improve your models even more.\n",
    "\n",
    "# Keep Going\n",
    "\n",
    "You are ready for **[Random Forests](https://www.kaggle.com/dansbecker/random-forests).**\n"
   ]
  },
  {
   "cell_type": "markdown",
   "id": "6ebe5db5",
   "metadata": {
    "papermill": {
     "duration": 0.011518,
     "end_time": "2021-08-15T23:39:25.524453",
     "exception": false,
     "start_time": "2021-08-15T23:39:25.512935",
     "status": "completed"
    },
    "tags": []
   },
   "source": [
    "---\n",
    "\n",
    "\n",
    "\n",
    "\n",
    "*Have questions or comments? Visit the [Learn Discussion forum](https://www.kaggle.com/learn-forum/161285) to chat with other Learners.*"
   ]
  }
 ],
 "metadata": {
  "kernelspec": {
   "display_name": "Python 3",
   "language": "python",
   "name": "python3"
  },
  "language_info": {
   "codemirror_mode": {
    "name": "ipython",
    "version": 3
   },
   "file_extension": ".py",
   "mimetype": "text/x-python",
   "name": "python",
   "nbconvert_exporter": "python",
   "pygments_lexer": "ipython3",
   "version": "3.7.10"
  },
  "papermill": {
   "default_parameters": {},
   "duration": 10.377588,
   "end_time": "2021-08-15T23:39:26.246666",
   "environment_variables": {},
   "exception": null,
   "input_path": "__notebook__.ipynb",
   "output_path": "__notebook__.ipynb",
   "parameters": {},
   "start_time": "2021-08-15T23:39:15.869078",
   "version": "2.3.3"
  }
 },
 "nbformat": 4,
 "nbformat_minor": 5
}
