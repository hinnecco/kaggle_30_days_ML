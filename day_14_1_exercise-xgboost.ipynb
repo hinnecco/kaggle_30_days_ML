{
 "cells": [
  {
   "cell_type": "markdown",
   "id": "1d0bd0e0",
   "metadata": {
    "papermill": {
     "duration": 0.018863,
     "end_time": "2021-08-17T12:20:53.380836",
     "exception": false,
     "start_time": "2021-08-17T12:20:53.361973",
     "status": "completed"
    },
    "tags": []
   },
   "source": [
    "**This notebook is an exercise in the [Intermediate Machine Learning](https://www.kaggle.com/learn/intermediate-machine-learning) course.  You can reference the tutorial at [this link](https://www.kaggle.com/alexisbcook/xgboost).**\n",
    "\n",
    "---\n"
   ]
  },
  {
   "cell_type": "markdown",
   "id": "5b8ae544",
   "metadata": {
    "papermill": {
     "duration": 0.015663,
     "end_time": "2021-08-17T12:20:53.413049",
     "exception": false,
     "start_time": "2021-08-17T12:20:53.397386",
     "status": "completed"
    },
    "tags": []
   },
   "source": [
    "In this exercise, you will use your new knowledge to train a model with **gradient boosting**.\n",
    "\n",
    "# Setup\n",
    "\n",
    "The questions below will give you feedback on your work. Run the following cell to set up the feedback system."
   ]
  },
  {
   "cell_type": "code",
   "execution_count": 1,
   "id": "7b43ef28",
   "metadata": {
    "execution": {
     "iopub.execute_input": "2021-08-17T12:20:53.453235Z",
     "iopub.status.busy": "2021-08-17T12:20:53.451982Z",
     "iopub.status.idle": "2021-08-17T12:20:55.838762Z",
     "shell.execute_reply": "2021-08-17T12:20:55.839546Z",
     "shell.execute_reply.started": "2021-08-17T12:09:21.831698Z"
    },
    "papermill": {
     "duration": 2.41006,
     "end_time": "2021-08-17T12:20:55.839893",
     "exception": false,
     "start_time": "2021-08-17T12:20:53.429833",
     "status": "completed"
    },
    "tags": []
   },
   "outputs": [
    {
     "name": "stdout",
     "output_type": "stream",
     "text": [
      "Setup Complete\n"
     ]
    }
   ],
   "source": [
    "# Set up code checking\n",
    "import os\n",
    "if not os.path.exists(\"../input/train.csv\"):\n",
    "    os.symlink(\"../input/home-data-for-ml-course/train.csv\", \"../input/train.csv\")  \n",
    "    os.symlink(\"../input/home-data-for-ml-course/test.csv\", \"../input/test.csv\") \n",
    "from learntools.core import binder\n",
    "binder.bind(globals())\n",
    "from learntools.ml_intermediate.ex6 import *\n",
    "print(\"Setup Complete\")"
   ]
  },
  {
   "cell_type": "markdown",
   "id": "98d46ce3",
   "metadata": {
    "papermill": {
     "duration": 0.015593,
     "end_time": "2021-08-17T12:20:55.871946",
     "exception": false,
     "start_time": "2021-08-17T12:20:55.856353",
     "status": "completed"
    },
    "tags": []
   },
   "source": [
    "You will work with the [Housing Prices Competition for Kaggle Learn Users](https://www.kaggle.com/c/home-data-for-ml-course) dataset from the previous exercise. \n",
    "\n",
    "![Ames Housing dataset image](https://i.imgur.com/lTJVG4e.png)\n",
    "\n",
    "Run the next code cell without changes to load the training and validation sets in `X_train`, `X_valid`, `y_train`, and `y_valid`.  The test set is loaded in `X_test`."
   ]
  },
  {
   "cell_type": "code",
   "execution_count": 2,
   "id": "db82f717",
   "metadata": {
    "execution": {
     "iopub.execute_input": "2021-08-17T12:20:55.916904Z",
     "iopub.status.busy": "2021-08-17T12:20:55.916150Z",
     "iopub.status.idle": "2021-08-17T12:20:56.172582Z",
     "shell.execute_reply": "2021-08-17T12:20:56.173240Z",
     "shell.execute_reply.started": "2021-08-17T12:09:42.006641Z"
    },
    "papermill": {
     "duration": 0.284606,
     "end_time": "2021-08-17T12:20:56.173448",
     "exception": false,
     "start_time": "2021-08-17T12:20:55.888842",
     "status": "completed"
    },
    "tags": []
   },
   "outputs": [],
   "source": [
    "import pandas as pd\n",
    "from sklearn.model_selection import train_test_split\n",
    "\n",
    "# Read the data\n",
    "X = pd.read_csv('../input/train.csv', index_col='Id')\n",
    "X_test_full = pd.read_csv('../input/test.csv', index_col='Id')\n",
    "\n",
    "# Remove rows with missing target, separate target from predictors\n",
    "X.dropna(axis=0, subset=['SalePrice'], inplace=True)\n",
    "y = X.SalePrice              \n",
    "X.drop(['SalePrice'], axis=1, inplace=True)\n",
    "\n",
    "# Break off validation set from training data\n",
    "X_train_full, X_valid_full, y_train, y_valid = train_test_split(X, y, train_size=0.8, test_size=0.2,\n",
    "                                                                random_state=0)\n",
    "\n",
    "# \"Cardinality\" means the number of unique values in a column\n",
    "# Select categorical columns with relatively low cardinality (convenient but arbitrary)\n",
    "low_cardinality_cols = [cname for cname in X_train_full.columns if X_train_full[cname].nunique() < 10 and \n",
    "                        X_train_full[cname].dtype == \"object\"]\n",
    "\n",
    "# Select numeric columns\n",
    "numeric_cols = [cname for cname in X_train_full.columns if X_train_full[cname].dtype in ['int64', 'float64']]\n",
    "\n",
    "# Keep selected columns only\n",
    "my_cols = low_cardinality_cols + numeric_cols\n",
    "X_train = X_train_full[my_cols].copy()\n",
    "X_valid = X_valid_full[my_cols].copy()\n",
    "X_test = X_test_full[my_cols].copy()\n",
    "\n",
    "# One-hot encode the data (to shorten the code, we use pandas)\n",
    "X_train = pd.get_dummies(X_train)\n",
    "X_valid = pd.get_dummies(X_valid)\n",
    "X_test = pd.get_dummies(X_test)\n",
    "X_train, X_valid = X_train.align(X_valid, join='left', axis=1)\n",
    "X_train, X_test = X_train.align(X_test, join='left', axis=1)"
   ]
  },
  {
   "cell_type": "markdown",
   "id": "9d198a83",
   "metadata": {
    "papermill": {
     "duration": 0.015283,
     "end_time": "2021-08-17T12:20:56.204073",
     "exception": false,
     "start_time": "2021-08-17T12:20:56.188790",
     "status": "completed"
    },
    "tags": []
   },
   "source": [
    "# Step 1: Build model\n",
    "\n",
    "### Part A\n",
    "\n",
    "In this step, you'll build and train your first model with gradient boosting.\n",
    "\n",
    "- Begin by setting `my_model_1` to an XGBoost model.  Use the [XGBRegressor](https://xgboost.readthedocs.io/en/latest/python/python_api.html#xgboost.XGBRegressor) class, and set the random seed to 0 (`random_state=0`).  **Leave all other parameters as default.**\n",
    "- Then, fit the model to the training data in `X_train` and `y_train`."
   ]
  },
  {
   "cell_type": "code",
   "execution_count": 3,
   "id": "2785703a",
   "metadata": {
    "execution": {
     "iopub.execute_input": "2021-08-17T12:20:56.241973Z",
     "iopub.status.busy": "2021-08-17T12:20:56.241203Z",
     "iopub.status.idle": "2021-08-17T12:20:56.984194Z",
     "shell.execute_reply": "2021-08-17T12:20:56.984857Z",
     "shell.execute_reply.started": "2021-08-17T12:10:50.958873Z"
    },
    "papermill": {
     "duration": 0.765566,
     "end_time": "2021-08-17T12:20:56.985031",
     "exception": false,
     "start_time": "2021-08-17T12:20:56.219465",
     "status": "completed"
    },
    "tags": []
   },
   "outputs": [
    {
     "data": {
      "application/javascript": [
       "parent.postMessage({\"jupyterEvent\": \"custom.exercise_interaction\", \"data\": {\"outcomeType\": 1, \"valueTowardsCompletion\": 0.5, \"interactionType\": 1, \"questionType\": 2, \"questionId\": \"1.1_Model1A\", \"learnToolsVersion\": \"0.3.4\", \"failureMessage\": \"\", \"exceptionClass\": \"\", \"trace\": \"\"}}, \"*\")"
      ],
      "text/plain": [
       "<IPython.core.display.Javascript object>"
      ]
     },
     "metadata": {},
     "output_type": "display_data"
    },
    {
     "data": {
      "text/markdown": [
       "<span style=\"color:#33cc33\">Correct</span>"
      ],
      "text/plain": [
       "Correct"
      ]
     },
     "metadata": {},
     "output_type": "display_data"
    }
   ],
   "source": [
    "from xgboost import XGBRegressor\n",
    "\n",
    "# Define the model\n",
    "my_model_1 = XGBRegressor(random_state=0) # Your code here\n",
    "\n",
    "# Fit the model\n",
    "my_model_1.fit(X_train, y_train) # Your code here\n",
    "\n",
    "# Check your answer\n",
    "step_1.a.check()"
   ]
  },
  {
   "cell_type": "code",
   "execution_count": 4,
   "id": "35e38da2",
   "metadata": {
    "execution": {
     "iopub.execute_input": "2021-08-17T12:20:57.023675Z",
     "iopub.status.busy": "2021-08-17T12:20:57.022661Z",
     "iopub.status.idle": "2021-08-17T12:20:57.026780Z",
     "shell.execute_reply": "2021-08-17T12:20:57.027468Z"
    },
    "papermill": {
     "duration": 0.026294,
     "end_time": "2021-08-17T12:20:57.027665",
     "exception": false,
     "start_time": "2021-08-17T12:20:57.001371",
     "status": "completed"
    },
    "tags": []
   },
   "outputs": [],
   "source": [
    "# Lines below will give you a hint or solution code\n",
    "#step_1.a.hint()\n",
    "#step_1.a.solution()"
   ]
  },
  {
   "cell_type": "markdown",
   "id": "493ba051",
   "metadata": {
    "papermill": {
     "duration": 0.016866,
     "end_time": "2021-08-17T12:20:57.061030",
     "exception": false,
     "start_time": "2021-08-17T12:20:57.044164",
     "status": "completed"
    },
    "tags": []
   },
   "source": [
    "### Part B\n",
    "\n",
    "Set `predictions_1` to the model's predictions for the validation data.  Recall that the validation features are stored in `X_valid`."
   ]
  },
  {
   "cell_type": "code",
   "execution_count": 5,
   "id": "529eb00b",
   "metadata": {
    "execution": {
     "iopub.execute_input": "2021-08-17T12:20:57.097821Z",
     "iopub.status.busy": "2021-08-17T12:20:57.096775Z",
     "iopub.status.idle": "2021-08-17T12:20:57.115495Z",
     "shell.execute_reply": "2021-08-17T12:20:57.114559Z",
     "shell.execute_reply.started": "2021-08-17T12:11:22.277604Z"
    },
    "papermill": {
     "duration": 0.038193,
     "end_time": "2021-08-17T12:20:57.115698",
     "exception": false,
     "start_time": "2021-08-17T12:20:57.077505",
     "status": "completed"
    },
    "tags": []
   },
   "outputs": [
    {
     "data": {
      "application/javascript": [
       "parent.postMessage({\"jupyterEvent\": \"custom.exercise_interaction\", \"data\": {\"outcomeType\": 1, \"valueTowardsCompletion\": 0.5, \"interactionType\": 1, \"questionType\": 2, \"questionId\": \"1.2_Model1B\", \"learnToolsVersion\": \"0.3.4\", \"failureMessage\": \"\", \"exceptionClass\": \"\", \"trace\": \"\"}}, \"*\")"
      ],
      "text/plain": [
       "<IPython.core.display.Javascript object>"
      ]
     },
     "metadata": {},
     "output_type": "display_data"
    },
    {
     "data": {
      "text/markdown": [
       "<span style=\"color:#33cc33\">Correct</span>"
      ],
      "text/plain": [
       "Correct"
      ]
     },
     "metadata": {},
     "output_type": "display_data"
    }
   ],
   "source": [
    "from sklearn.metrics import mean_absolute_error\n",
    "\n",
    "# Get predictions\n",
    "predictions_1 = my_model_1.predict(X_valid) # Your code here\n",
    "\n",
    "# Check your answer\n",
    "step_1.b.check()"
   ]
  },
  {
   "cell_type": "code",
   "execution_count": 6,
   "id": "8e14b6b3",
   "metadata": {
    "execution": {
     "iopub.execute_input": "2021-08-17T12:20:57.157290Z",
     "iopub.status.busy": "2021-08-17T12:20:57.156542Z",
     "iopub.status.idle": "2021-08-17T12:20:57.159763Z",
     "shell.execute_reply": "2021-08-17T12:20:57.159215Z"
    },
    "papermill": {
     "duration": 0.024542,
     "end_time": "2021-08-17T12:20:57.159912",
     "exception": false,
     "start_time": "2021-08-17T12:20:57.135370",
     "status": "completed"
    },
    "tags": []
   },
   "outputs": [],
   "source": [
    "# Lines below will give you a hint or solution code\n",
    "#step_1.b.hint()\n",
    "#step_1.b.solution()"
   ]
  },
  {
   "cell_type": "markdown",
   "id": "76eeb3d3",
   "metadata": {
    "papermill": {
     "duration": 0.017617,
     "end_time": "2021-08-17T12:20:57.195682",
     "exception": false,
     "start_time": "2021-08-17T12:20:57.178065",
     "status": "completed"
    },
    "tags": []
   },
   "source": [
    "### Part C\n",
    "\n",
    "Finally, use the `mean_absolute_error()` function to calculate the mean absolute error (MAE) corresponding to the predictions for the validation set.  Recall that the labels for the validation data are stored in `y_valid`."
   ]
  },
  {
   "cell_type": "code",
   "execution_count": 7,
   "id": "414ae19b",
   "metadata": {
    "execution": {
     "iopub.execute_input": "2021-08-17T12:20:57.238292Z",
     "iopub.status.busy": "2021-08-17T12:20:57.237445Z",
     "iopub.status.idle": "2021-08-17T12:20:57.246209Z",
     "shell.execute_reply": "2021-08-17T12:20:57.245535Z",
     "shell.execute_reply.started": "2021-08-17T12:12:59.534775Z"
    },
    "papermill": {
     "duration": 0.033213,
     "end_time": "2021-08-17T12:20:57.246377",
     "exception": false,
     "start_time": "2021-08-17T12:20:57.213164",
     "status": "completed"
    },
    "tags": []
   },
   "outputs": [
    {
     "name": "stdout",
     "output_type": "stream",
     "text": [
      "Mean Absolute Error: 17662.736729452055\n"
     ]
    },
    {
     "data": {
      "application/javascript": [
       "parent.postMessage({\"jupyterEvent\": \"custom.exercise_interaction\", \"data\": {\"outcomeType\": 1, \"valueTowardsCompletion\": 0.5, \"interactionType\": 1, \"questionType\": 2, \"questionId\": \"1.3_Model1C\", \"learnToolsVersion\": \"0.3.4\", \"failureMessage\": \"\", \"exceptionClass\": \"\", \"trace\": \"\"}}, \"*\")"
      ],
      "text/plain": [
       "<IPython.core.display.Javascript object>"
      ]
     },
     "metadata": {},
     "output_type": "display_data"
    },
    {
     "data": {
      "text/markdown": [
       "<span style=\"color:#33cc33\">Correct</span>"
      ],
      "text/plain": [
       "Correct"
      ]
     },
     "metadata": {},
     "output_type": "display_data"
    }
   ],
   "source": [
    "# Calculate MAE\n",
    "mae_1 = mean_absolute_error(predictions_1,y_valid) # Your code here\n",
    "\n",
    "# Uncomment to print MAE\n",
    "print(\"Mean Absolute Error:\" , mae_1)\n",
    "\n",
    "# Check your answer\n",
    "step_1.c.check()"
   ]
  },
  {
   "cell_type": "code",
   "execution_count": 8,
   "id": "ed7ec094",
   "metadata": {
    "execution": {
     "iopub.execute_input": "2021-08-17T12:20:57.288907Z",
     "iopub.status.busy": "2021-08-17T12:20:57.288229Z",
     "iopub.status.idle": "2021-08-17T12:20:57.291789Z",
     "shell.execute_reply": "2021-08-17T12:20:57.291125Z"
    },
    "papermill": {
     "duration": 0.026148,
     "end_time": "2021-08-17T12:20:57.291931",
     "exception": false,
     "start_time": "2021-08-17T12:20:57.265783",
     "status": "completed"
    },
    "tags": []
   },
   "outputs": [],
   "source": [
    "# Lines below will give you a hint or solution code\n",
    "#step_1.c.hint()\n",
    "#step_1.c.solution()"
   ]
  },
  {
   "cell_type": "markdown",
   "id": "37679253",
   "metadata": {
    "papermill": {
     "duration": 0.01845,
     "end_time": "2021-08-17T12:20:57.329388",
     "exception": false,
     "start_time": "2021-08-17T12:20:57.310938",
     "status": "completed"
    },
    "tags": []
   },
   "source": [
    "# Step 2: Improve the model\n",
    "\n",
    "Now that you've trained a default model as baseline, it's time to tinker with the parameters, to see if you can get better performance!\n",
    "- Begin by setting `my_model_2` to an XGBoost model, using the [XGBRegressor](https://xgboost.readthedocs.io/en/latest/python/python_api.html#xgboost.XGBRegressor) class.  Use what you learned in the previous tutorial to figure out how to change the default parameters (like `n_estimators` and `learning_rate`) to get better results.\n",
    "- Then, fit the model to the training data in `X_train` and `y_train`.\n",
    "- Set `predictions_2` to the model's predictions for the validation data.  Recall that the validation features are stored in `X_valid`.\n",
    "- Finally, use the `mean_absolute_error()` function to calculate the mean absolute error (MAE) corresponding to the predictions on the validation set.  Recall that the labels for the validation data are stored in `y_valid`.\n",
    "\n",
    "In order for this step to be marked correct, your model in `my_model_2` must attain lower MAE than the model in `my_model_1`. "
   ]
  },
  {
   "cell_type": "code",
   "execution_count": 9,
   "id": "058cbb75",
   "metadata": {
    "execution": {
     "iopub.execute_input": "2021-08-17T12:20:57.393172Z",
     "iopub.status.busy": "2021-08-17T12:20:57.382483Z",
     "iopub.status.idle": "2021-08-17T12:20:59.159874Z",
     "shell.execute_reply": "2021-08-17T12:20:59.159149Z",
     "shell.execute_reply.started": "2021-08-17T12:17:52.028667Z"
    },
    "papermill": {
     "duration": 1.80932,
     "end_time": "2021-08-17T12:20:59.160051",
     "exception": false,
     "start_time": "2021-08-17T12:20:57.350731",
     "status": "completed"
    },
    "tags": []
   },
   "outputs": [
    {
     "name": "stdout",
     "output_type": "stream",
     "text": [
      "Mean Absolute Error: 16802.965325342466\n"
     ]
    },
    {
     "data": {
      "application/javascript": [
       "parent.postMessage({\"jupyterEvent\": \"custom.exercise_interaction\", \"data\": {\"outcomeType\": 1, \"valueTowardsCompletion\": 0.5, \"interactionType\": 1, \"questionType\": 2, \"questionId\": \"2_Model2\", \"learnToolsVersion\": \"0.3.4\", \"failureMessage\": \"\", \"exceptionClass\": \"\", \"trace\": \"\"}}, \"*\")"
      ],
      "text/plain": [
       "<IPython.core.display.Javascript object>"
      ]
     },
     "metadata": {},
     "output_type": "display_data"
    },
    {
     "data": {
      "text/markdown": [
       "<span style=\"color:#33cc33\">Correct</span>"
      ],
      "text/plain": [
       "Correct"
      ]
     },
     "metadata": {},
     "output_type": "display_data"
    }
   ],
   "source": [
    "# Define the model\n",
    "my_model_2 = XGBRegressor(n_estimators=1000, learning_rate=0.05) # Your code here\n",
    "\n",
    "# Fit the model\n",
    "my_model_2.fit(X_train, y_train, \n",
    "               early_stopping_rounds=5,\n",
    "               eval_set=[(X_valid,y_valid)],\n",
    "               verbose=False)# Your code here\n",
    "\n",
    "# Get predictions\n",
    "predictions_2 = my_model_2.predict(X_valid) # Your code here\n",
    "\n",
    "# Calculate MAE\n",
    "mae_2 = mean_absolute_error(predictions_2,y_valid) # Your code here\n",
    "\n",
    "# Uncomment to print MAE\n",
    "print(\"Mean Absolute Error:\" , mae_2)\n",
    "\n",
    "# Check your answer\n",
    "step_2.check()"
   ]
  },
  {
   "cell_type": "code",
   "execution_count": 10,
   "id": "d83b334d",
   "metadata": {
    "execution": {
     "iopub.execute_input": "2021-08-17T12:20:59.209736Z",
     "iopub.status.busy": "2021-08-17T12:20:59.208639Z",
     "iopub.status.idle": "2021-08-17T12:20:59.211832Z",
     "shell.execute_reply": "2021-08-17T12:20:59.211292Z"
    },
    "papermill": {
     "duration": 0.027239,
     "end_time": "2021-08-17T12:20:59.211969",
     "exception": false,
     "start_time": "2021-08-17T12:20:59.184730",
     "status": "completed"
    },
    "tags": []
   },
   "outputs": [],
   "source": [
    "# Lines below will give you a hint or solution code\n",
    "#step_2.hint()\n",
    "#step_2.solution()"
   ]
  },
  {
   "cell_type": "markdown",
   "id": "ce99b9dd",
   "metadata": {
    "papermill": {
     "duration": 0.01981,
     "end_time": "2021-08-17T12:20:59.252105",
     "exception": false,
     "start_time": "2021-08-17T12:20:59.232295",
     "status": "completed"
    },
    "tags": []
   },
   "source": [
    "# Step 3: Break the model\n",
    "\n",
    "In this step, you will create a model that performs worse than the original model in Step 1.  This will help you to develop your intuition for how to set parameters.  You might even find that you accidentally get better performance, which is ultimately a nice problem to have and a valuable learning experience!\n",
    "- Begin by setting `my_model_3` to an XGBoost model, using the [XGBRegressor](https://xgboost.readthedocs.io/en/latest/python/python_api.html#xgboost.XGBRegressor) class.  Use what you learned in the previous tutorial to figure out how to change the default parameters (like `n_estimators` and `learning_rate`) to design a model to get high MAE.\n",
    "- Then, fit the model to the training data in `X_train` and `y_train`.\n",
    "- Set `predictions_3` to the model's predictions for the validation data.  Recall that the validation features are stored in `X_valid`.\n",
    "- Finally, use the `mean_absolute_error()` function to calculate the mean absolute error (MAE) corresponding to the predictions on the validation set.  Recall that the labels for the validation data are stored in `y_valid`.\n",
    "\n",
    "In order for this step to be marked correct, your model in `my_model_3` must attain higher MAE than the model in `my_model_1`. "
   ]
  },
  {
   "cell_type": "code",
   "execution_count": 11,
   "id": "43c99480",
   "metadata": {
    "execution": {
     "iopub.execute_input": "2021-08-17T12:20:59.307333Z",
     "iopub.status.busy": "2021-08-17T12:20:59.306154Z",
     "iopub.status.idle": "2021-08-17T12:20:59.429730Z",
     "shell.execute_reply": "2021-08-17T12:20:59.430643Z",
     "shell.execute_reply.started": "2021-08-17T12:20:01.471475Z"
    },
    "papermill": {
     "duration": 0.158481,
     "end_time": "2021-08-17T12:20:59.430857",
     "exception": false,
     "start_time": "2021-08-17T12:20:59.272376",
     "status": "completed"
    },
    "tags": []
   },
   "outputs": [
    {
     "name": "stdout",
     "output_type": "stream",
     "text": [
      "Mean Absolute Error: 25388.798573951197\n"
     ]
    },
    {
     "data": {
      "application/javascript": [
       "parent.postMessage({\"jupyterEvent\": \"custom.exercise_interaction\", \"data\": {\"outcomeType\": 1, \"valueTowardsCompletion\": 0.5, \"interactionType\": 1, \"questionType\": 2, \"questionId\": \"3_Model3\", \"learnToolsVersion\": \"0.3.4\", \"failureMessage\": \"\", \"exceptionClass\": \"\", \"trace\": \"\"}}, \"*\")"
      ],
      "text/plain": [
       "<IPython.core.display.Javascript object>"
      ]
     },
     "metadata": {},
     "output_type": "display_data"
    },
    {
     "data": {
      "text/markdown": [
       "<span style=\"color:#33cc33\">Correct</span>"
      ],
      "text/plain": [
       "Correct"
      ]
     },
     "metadata": {},
     "output_type": "display_data"
    }
   ],
   "source": [
    "# Define the model\n",
    "my_model_3 = XGBRegressor(n_estimators=50, learning_rate=1.00) # Your code here\n",
    "\n",
    "# Fit the model\n",
    "my_model_3.fit(X_train, y_train, \n",
    "               early_stopping_rounds=5,\n",
    "               eval_set=[(X_valid,y_valid)],\n",
    "               verbose=False)# Your code here\n",
    "\n",
    "# Get predictions\n",
    "predictions_3 = my_model_3.predict(X_valid) # Your code here\n",
    "\n",
    "# Calculate MAE\n",
    "mae_3 = mean_absolute_error(predictions_3,y_valid) # Your code here\n",
    "\n",
    "# Uncomment to print MAE\n",
    "print(\"Mean Absolute Error:\" , mae_3)\n",
    "\n",
    "# Check your answer\n",
    "step_3.check()"
   ]
  },
  {
   "cell_type": "code",
   "execution_count": 12,
   "id": "7dea21d7",
   "metadata": {
    "execution": {
     "iopub.execute_input": "2021-08-17T12:20:59.480652Z",
     "iopub.status.busy": "2021-08-17T12:20:59.479785Z",
     "iopub.status.idle": "2021-08-17T12:20:59.482127Z",
     "shell.execute_reply": "2021-08-17T12:20:59.482608Z"
    },
    "papermill": {
     "duration": 0.028368,
     "end_time": "2021-08-17T12:20:59.482786",
     "exception": false,
     "start_time": "2021-08-17T12:20:59.454418",
     "status": "completed"
    },
    "tags": []
   },
   "outputs": [],
   "source": [
    "# Lines below will give you a hint or solution code\n",
    "#step_3.hint()\n",
    "#step_3.solution()"
   ]
  },
  {
   "cell_type": "markdown",
   "id": "d4484ce5",
   "metadata": {
    "papermill": {
     "duration": 0.023276,
     "end_time": "2021-08-17T12:20:59.527922",
     "exception": false,
     "start_time": "2021-08-17T12:20:59.504646",
     "status": "completed"
    },
    "tags": []
   },
   "source": [
    "# Keep going\n",
    "\n",
    "Continue to learn about **[data leakage](https://www.kaggle.com/alexisbcook/data-leakage)**.  This is an important issue for a data scientist to understand, and it has the potential to ruin your models in subtle and dangerous ways!"
   ]
  },
  {
   "cell_type": "markdown",
   "id": "a2d3f49a",
   "metadata": {
    "papermill": {
     "duration": 0.021817,
     "end_time": "2021-08-17T12:20:59.572664",
     "exception": false,
     "start_time": "2021-08-17T12:20:59.550847",
     "status": "completed"
    },
    "tags": []
   },
   "source": [
    "---\n",
    "\n",
    "\n",
    "\n",
    "\n",
    "*Have questions or comments? Visit the [Learn Discussion forum](https://www.kaggle.com/learn-forum/161289) to chat with other Learners.*"
   ]
  }
 ],
 "metadata": {
  "kernelspec": {
   "display_name": "Python 3",
   "language": "python",
   "name": "python3"
  },
  "language_info": {
   "codemirror_mode": {
    "name": "ipython",
    "version": 3
   },
   "file_extension": ".py",
   "mimetype": "text/x-python",
   "name": "python",
   "nbconvert_exporter": "python",
   "pygments_lexer": "ipython3",
   "version": "3.7.10"
  },
  "papermill": {
   "default_parameters": {},
   "duration": 18.026418,
   "end_time": "2021-08-17T12:21:01.373119",
   "environment_variables": {},
   "exception": null,
   "input_path": "__notebook__.ipynb",
   "output_path": "__notebook__.ipynb",
   "parameters": {},
   "start_time": "2021-08-17T12:20:43.346701",
   "version": "2.3.3"
  }
 },
 "nbformat": 4,
 "nbformat_minor": 5
}
